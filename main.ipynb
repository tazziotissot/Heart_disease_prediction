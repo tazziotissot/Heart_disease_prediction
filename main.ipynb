{
 "cells": [
  {
   "cell_type": "markdown",
   "metadata": {},
   "source": [
    "# Predicting the risk of heart disease in American patients from health data"
   ]
  },
  {
   "cell_type": "markdown",
   "metadata": {},
   "source": [
    "## Analysing the *Indicators of Heart Disease (2022 update)* dataset\n",
    "\n",
    "Source: https://www.kaggle.com/datasets/kamilpytlak/personal-key-indicators-of-heart-disease  \n",
    "Contents: responses of >400k adults to an annual health survey from the CDC in the USA"
   ]
  },
  {
   "cell_type": "code",
   "execution_count": 26,
   "metadata": {},
   "outputs": [],
   "source": [
    "import pandas as pd\n",
    "import numpy as np\n",
    "import matplotlib.pyplot as plt\n",
    "from sklearn.preprocessing import OneHotEncoder\n",
    "from sklearn.model_selection import train_test_split\n",
    "from sklearn.feature_selection import f_classif\n",
    "import re\n",
    "from sklearn.dummy import DummyClassifier\n",
    "from sklearn.linear_model import LogisticRegression\n",
    "from sklearn.svm import LinearSVC\n",
    "from sklearn.ensemble import RandomForestClassifier\n",
    "from lightgbm import LGBMClassifier\n",
    "from optuna.visualization import (\n",
    "    plot_optimization_history,\n",
    "    plot_param_importances,\n",
    "    plot_slice,\n",
    ")\n",
    "from mlflow import MlflowClient\n",
    "import lightgbm as lgb\n",
    "from sklearn.metrics import average_precision_score\n",
    "import mlflow\n",
    "import shap\n",
    "import src.utils as uu\n",
    "import warnings\n",
    "\n",
    "warnings.filterwarnings(\"ignore\")"
   ]
  },
  {
   "cell_type": "markdown",
   "metadata": {},
   "source": [
    "## Imports and description"
   ]
  },
  {
   "cell_type": "code",
   "execution_count": 3,
   "metadata": {},
   "outputs": [
    {
     "name": "stdout",
     "output_type": "stream",
     "text": [
      "<class 'pandas.core.frame.DataFrame'>\n",
      "RangeIndex: 445132 entries, 0 to 445131\n",
      "Data columns (total 40 columns):\n",
      " #   Column                     Non-Null Count   Dtype  \n",
      "---  ------                     --------------   -----  \n",
      " 0   State                      445132 non-null  object \n",
      " 1   Sex                        445132 non-null  object \n",
      " 2   GeneralHealth              443934 non-null  object \n",
      " 3   PhysicalHealthDays         434205 non-null  float64\n",
      " 4   MentalHealthDays           436065 non-null  float64\n",
      " 5   LastCheckupTime            436824 non-null  object \n",
      " 6   PhysicalActivities         444039 non-null  object \n",
      " 7   SleepHours                 439679 non-null  float64\n",
      " 8   RemovedTeeth               433772 non-null  object \n",
      " 9   HadHeartAttack             442067 non-null  object \n",
      " 10  HadAngina                  440727 non-null  object \n",
      " 11  HadStroke                  443575 non-null  object \n",
      " 12  HadAsthma                  443359 non-null  object \n",
      " 13  HadSkinCancer              441989 non-null  object \n",
      " 14  HadCOPD                    442913 non-null  object \n",
      " 15  HadDepressiveDisorder      442320 non-null  object \n",
      " 16  HadKidneyDisease           443206 non-null  object \n",
      " 17  HadArthritis               442499 non-null  object \n",
      " 18  HadDiabetes                444045 non-null  object \n",
      " 19  DeafOrHardOfHearing        424485 non-null  object \n",
      " 20  BlindOrVisionDifficulty    423568 non-null  object \n",
      " 21  DifficultyConcentrating    420892 non-null  object \n",
      " 22  DifficultyWalking          421120 non-null  object \n",
      " 23  DifficultyDressingBathing  421217 non-null  object \n",
      " 24  DifficultyErrands          419476 non-null  object \n",
      " 25  SmokerStatus               409670 non-null  object \n",
      " 26  ECigaretteUsage            409472 non-null  object \n",
      " 27  ChestScan                  389086 non-null  object \n",
      " 28  RaceEthnicityCategory      431075 non-null  object \n",
      " 29  AgeCategory                436053 non-null  object \n",
      " 30  HeightInMeters             416480 non-null  float64\n",
      " 31  WeightInKilograms          403054 non-null  float64\n",
      " 32  BMI                        396326 non-null  float64\n",
      " 33  AlcoholDrinkers            398558 non-null  object \n",
      " 34  HIVTesting                 379005 non-null  object \n",
      " 35  FluVaxLast12               398011 non-null  object \n",
      " 36  PneumoVaxEver              368092 non-null  object \n",
      " 37  TetanusLast10Tdap          362616 non-null  object \n",
      " 38  HighRiskLastYear           394509 non-null  object \n",
      " 39  CovidPos                   394368 non-null  object \n",
      "dtypes: float64(6), object(34)\n",
      "memory usage: 135.8+ MB\n"
     ]
    }
   ],
   "source": [
    "data_full = pd.read_csv(\"data/2022/heart_2022_with_nans.csv\")\n",
    "data_full.info()"
   ]
  },
  {
   "cell_type": "markdown",
   "metadata": {},
   "source": [
    "Most features are categorical (including many flag columns, such as `sex` or `HadAngina`), with the exception of the following continuous variables `PhysicalHealthDays`, `MentalHealthDays`, `SleepHours`, `HeightInMeters`, `WeightInKilograms`, `BMI`."
   ]
  },
  {
   "cell_type": "markdown",
   "metadata": {},
   "source": [
    "### Transforming binary columns"
   ]
  },
  {
   "cell_type": "code",
   "execution_count": 4,
   "metadata": {},
   "outputs": [],
   "source": [
    "for col in data_full.select_dtypes(\"O\").columns:\n",
    "    data_full = uu.convert_binary(data_full, col)"
   ]
  },
  {
   "cell_type": "code",
   "execution_count": 5,
   "metadata": {},
   "outputs": [
    {
     "name": "stdout",
     "output_type": "stream",
     "text": [
      "<class 'pandas.core.frame.DataFrame'>\n",
      "RangeIndex: 445132 entries, 0 to 445131\n",
      "Data columns (total 40 columns):\n",
      " #   Column                     Non-Null Count   Dtype  \n",
      "---  ------                     --------------   -----  \n",
      " 0   State                      445132 non-null  object \n",
      " 1   Sex                        445132 non-null  object \n",
      " 2   GeneralHealth              443934 non-null  object \n",
      " 3   PhysicalHealthDays         434205 non-null  float64\n",
      " 4   MentalHealthDays           436065 non-null  float64\n",
      " 5   LastCheckupTime            436824 non-null  object \n",
      " 6   PhysicalActivities         445132 non-null  int64  \n",
      " 7   SleepHours                 439679 non-null  float64\n",
      " 8   RemovedTeeth               433772 non-null  object \n",
      " 9   HadHeartAttack             445132 non-null  int64  \n",
      " 10  HadAngina                  445132 non-null  int64  \n",
      " 11  HadStroke                  445132 non-null  int64  \n",
      " 12  HadAsthma                  445132 non-null  int64  \n",
      " 13  HadSkinCancer              445132 non-null  int64  \n",
      " 14  HadCOPD                    445132 non-null  int64  \n",
      " 15  HadDepressiveDisorder      445132 non-null  int64  \n",
      " 16  HadKidneyDisease           445132 non-null  int64  \n",
      " 17  HadArthritis               445132 non-null  int64  \n",
      " 18  HadDiabetes                444045 non-null  object \n",
      " 19  DeafOrHardOfHearing        445132 non-null  int64  \n",
      " 20  BlindOrVisionDifficulty    445132 non-null  int64  \n",
      " 21  DifficultyConcentrating    445132 non-null  int64  \n",
      " 22  DifficultyWalking          445132 non-null  int64  \n",
      " 23  DifficultyDressingBathing  445132 non-null  int64  \n",
      " 24  DifficultyErrands          445132 non-null  int64  \n",
      " 25  SmokerStatus               409670 non-null  object \n",
      " 26  ECigaretteUsage            409472 non-null  object \n",
      " 27  ChestScan                  445132 non-null  int64  \n",
      " 28  RaceEthnicityCategory      431075 non-null  object \n",
      " 29  AgeCategory                436053 non-null  object \n",
      " 30  HeightInMeters             416480 non-null  float64\n",
      " 31  WeightInKilograms          403054 non-null  float64\n",
      " 32  BMI                        396326 non-null  float64\n",
      " 33  AlcoholDrinkers            445132 non-null  int64  \n",
      " 34  HIVTesting                 445132 non-null  int64  \n",
      " 35  FluVaxLast12               445132 non-null  int64  \n",
      " 36  PneumoVaxEver              445132 non-null  int64  \n",
      " 37  TetanusLast10Tdap          362616 non-null  object \n",
      " 38  HighRiskLastYear           445132 non-null  int64  \n",
      " 39  CovidPos                   394368 non-null  object \n",
      "dtypes: float64(6), int64(22), object(12)\n",
      "memory usage: 135.8+ MB\n"
     ]
    }
   ],
   "source": [
    "data_full.info()"
   ]
  },
  {
   "cell_type": "markdown",
   "metadata": {},
   "source": [
    "Several variables that seem to be binary by definition actually have more than 2 modalities. We can monitor these modalities in order to identify whether some of them deserve to be removed and/or associated with others."
   ]
  },
  {
   "cell_type": "code",
   "execution_count": 6,
   "metadata": {},
   "outputs": [
    {
     "name": "stdout",
     "output_type": "stream",
     "text": [
      "Colonne HadDiabetes :\n",
      "HadDiabetes\n",
      "No                                         368722\n",
      "Yes                                         61158\n",
      "No, pre-diabetes or borderline diabetes     10329\n",
      "Yes, but only during pregnancy (female)      3836\n",
      "Name: count, dtype: int64\n",
      "\n",
      "Colonne CovidPos :\n",
      "CovidPos\n",
      "No                                                               270055\n",
      "Yes                                                              110877\n",
      "Tested positive using home test without a health professional     13436\n",
      "Name: count, dtype: int64\n",
      "\n",
      "Colonne TetanusLast10Tdap :\n",
      "TetanusLast10Tdap\n",
      "No, did not receive any tetanus shot in the past 10 years    121493\n",
      "Yes, received tetanus shot but not sure what type            113725\n",
      "Yes, received Tdap                                            99943\n",
      "Yes, received tetanus shot, but not Tdap                      27455\n",
      "Name: count, dtype: int64\n",
      "\n"
     ]
    }
   ],
   "source": [
    "for col in [\"HadDiabetes\", \"CovidPos\", \"TetanusLast10Tdap\"]:\n",
    "    print(f\"Colonne {col} :\\n{data_full[col].value_counts()}\\n\")"
   ]
  },
  {
   "cell_type": "markdown",
   "metadata": {},
   "source": [
    "Regarding diabetes, we choose to classify borderline cases as positive (because of the risk of developing diabetes in the longer term), and cases of gestational diabetes as negative (because they are only transient).  \n",
    "In the case of COVID, we choose to classify as positive cases where only a self-test was performed.  \n",
    "In the case of the tetanus vaccine, we choose to classify all positive cases together."
   ]
  },
  {
   "cell_type": "code",
   "execution_count": 7,
   "metadata": {},
   "outputs": [],
   "source": [
    "data_full.loc[\n",
    "    data_full[\"HadDiabetes\"] == \"No, pre-diabetes or borderline diabetes\", \"HadDiabetes\"\n",
    "] = \"Yes\"\n",
    "data_full.loc[\n",
    "    data_full[\"HadDiabetes\"] == \"Yes, but only during pregnancy (female)\", \"HadDiabetes\"\n",
    "] = \"No\"\n",
    "data_full.loc[data_full[\"CovidPos\"] != \"No\", \"CovidPos\"] = \"Yes\"\n",
    "data_full[\"TetanusLast10Tdap\"] = (\n",
    "    data_full[\"TetanusLast10Tdap\"]\n",
    "    .astype(str)\n",
    "    .apply(lambda x: \"Yes\" if \"yes\" in x.lower() else x)\n",
    ")\n",
    "for col in [\"HadDiabetes\", \"CovidPos\", \"TetanusLast10Tdap\"]:\n",
    "    data_full = uu.convert_binary(data_full, col)"
   ]
  },
  {
   "cell_type": "markdown",
   "metadata": {},
   "source": [
    "### Deduplication"
   ]
  },
  {
   "cell_type": "code",
   "execution_count": 8,
   "metadata": {},
   "outputs": [
    {
     "data": {
      "text/plain": [
       "184"
      ]
     },
     "execution_count": 8,
     "metadata": {},
     "output_type": "execute_result"
    }
   ],
   "source": [
    "data_full.duplicated().sum()"
   ]
  },
  {
   "cell_type": "code",
   "execution_count": 9,
   "metadata": {},
   "outputs": [],
   "source": [
    "data_full = data_full.drop_duplicates()"
   ]
  },
  {
   "cell_type": "markdown",
   "metadata": {},
   "source": [
    "### Cleaning of continuous variables"
   ]
  },
  {
   "cell_type": "code",
   "execution_count": 10,
   "metadata": {},
   "outputs": [
    {
     "data": {
      "text/html": [
       "<div>\n",
       "<style scoped>\n",
       "    .dataframe tbody tr th:only-of-type {\n",
       "        vertical-align: middle;\n",
       "    }\n",
       "\n",
       "    .dataframe tbody tr th {\n",
       "        vertical-align: top;\n",
       "    }\n",
       "\n",
       "    .dataframe thead th {\n",
       "        text-align: right;\n",
       "    }\n",
       "</style>\n",
       "<table border=\"1\" class=\"dataframe\">\n",
       "  <thead>\n",
       "    <tr style=\"text-align: right;\">\n",
       "      <th></th>\n",
       "      <th>PhysicalHealthDays</th>\n",
       "      <th>MentalHealthDays</th>\n",
       "      <th>SleepHours</th>\n",
       "      <th>HeightInMeters</th>\n",
       "      <th>WeightInKilograms</th>\n",
       "      <th>BMI</th>\n",
       "    </tr>\n",
       "  </thead>\n",
       "  <tbody>\n",
       "    <tr>\n",
       "      <th>count</th>\n",
       "      <td>434026.000000</td>\n",
       "      <td>435886.000000</td>\n",
       "      <td>439500.000000</td>\n",
       "      <td>416465.000000</td>\n",
       "      <td>403040.000000</td>\n",
       "      <td>396312.000000</td>\n",
       "    </tr>\n",
       "    <tr>\n",
       "      <th>mean</th>\n",
       "      <td>4.349643</td>\n",
       "      <td>4.384435</td>\n",
       "      <td>7.022874</td>\n",
       "      <td>1.702691</td>\n",
       "      <td>83.074813</td>\n",
       "      <td>28.529956</td>\n",
       "    </tr>\n",
       "    <tr>\n",
       "      <th>std</th>\n",
       "      <td>8.690170</td>\n",
       "      <td>8.388730</td>\n",
       "      <td>1.502642</td>\n",
       "      <td>0.107178</td>\n",
       "      <td>21.448172</td>\n",
       "      <td>6.554916</td>\n",
       "    </tr>\n",
       "    <tr>\n",
       "      <th>min</th>\n",
       "      <td>0.000000</td>\n",
       "      <td>0.000000</td>\n",
       "      <td>1.000000</td>\n",
       "      <td>0.910000</td>\n",
       "      <td>22.680000</td>\n",
       "      <td>12.020000</td>\n",
       "    </tr>\n",
       "    <tr>\n",
       "      <th>25%</th>\n",
       "      <td>0.000000</td>\n",
       "      <td>0.000000</td>\n",
       "      <td>6.000000</td>\n",
       "      <td>1.630000</td>\n",
       "      <td>68.040000</td>\n",
       "      <td>24.130000</td>\n",
       "    </tr>\n",
       "    <tr>\n",
       "      <th>50%</th>\n",
       "      <td>0.000000</td>\n",
       "      <td>0.000000</td>\n",
       "      <td>7.000000</td>\n",
       "      <td>1.700000</td>\n",
       "      <td>80.740000</td>\n",
       "      <td>27.440000</td>\n",
       "    </tr>\n",
       "    <tr>\n",
       "      <th>75%</th>\n",
       "      <td>3.000000</td>\n",
       "      <td>5.000000</td>\n",
       "      <td>8.000000</td>\n",
       "      <td>1.780000</td>\n",
       "      <td>95.250000</td>\n",
       "      <td>31.750000</td>\n",
       "    </tr>\n",
       "    <tr>\n",
       "      <th>max</th>\n",
       "      <td>30.000000</td>\n",
       "      <td>30.000000</td>\n",
       "      <td>24.000000</td>\n",
       "      <td>2.410000</td>\n",
       "      <td>292.570000</td>\n",
       "      <td>99.640000</td>\n",
       "    </tr>\n",
       "  </tbody>\n",
       "</table>\n",
       "</div>"
      ],
      "text/plain": [
       "       PhysicalHealthDays  MentalHealthDays     SleepHours  HeightInMeters  \\\n",
       "count       434026.000000     435886.000000  439500.000000   416465.000000   \n",
       "mean             4.349643          4.384435       7.022874        1.702691   \n",
       "std              8.690170          8.388730       1.502642        0.107178   \n",
       "min              0.000000          0.000000       1.000000        0.910000   \n",
       "25%              0.000000          0.000000       6.000000        1.630000   \n",
       "50%              0.000000          0.000000       7.000000        1.700000   \n",
       "75%              3.000000          5.000000       8.000000        1.780000   \n",
       "max             30.000000         30.000000      24.000000        2.410000   \n",
       "\n",
       "       WeightInKilograms            BMI  \n",
       "count      403040.000000  396312.000000  \n",
       "mean           83.074813      28.529956  \n",
       "std            21.448172       6.554916  \n",
       "min            22.680000      12.020000  \n",
       "25%            68.040000      24.130000  \n",
       "50%            80.740000      27.440000  \n",
       "75%            95.250000      31.750000  \n",
       "max           292.570000      99.640000  "
      ]
     },
     "execution_count": 10,
     "metadata": {},
     "output_type": "execute_result"
    }
   ],
   "source": [
    "data_full.select_dtypes(\"float\").describe()"
   ]
  },
  {
   "cell_type": "markdown",
   "metadata": {},
   "source": [
    "Several apparently outlier values:\n",
    "- BMI of 99.6\n",
    "- 1 or 24 hours of sleep\n",
    "\n",
    "As it stands, it is difficult to know whether the extreme values ​​(0 or 30 days) for Physical/Mental Health Days are outliers, as the dataset description is not exhaustive. When in doubt, outliers will be eliminated from these two columns, as well as from the Sleep Hours column, based on Tukey's criterion.  \n",
    "For BMI, it is preferable to re-imput all values ​​using the known formula (weight in kilograms / height squared). This will make it possible to determine extreme BMI values, and therefore any outlier height-weight relationships."
   ]
  },
  {
   "cell_type": "code",
   "execution_count": 11,
   "metadata": {},
   "outputs": [],
   "source": [
    "data_full[\"BMI\"] = data_full[\"WeightInKilograms\"] / data_full[\"HeightInMeters\"] ** 2\n",
    "for col in [\"PhysicalHealthDays\", \"MentalHealthDays\", \"SleepHours\", \"BMI\"]:\n",
    "    data_full = uu.tukey(data_full, col)\n",
    "data_full.loc[data_full[\"BMI\"].isna(), \"HeightInMeters\"] = np.nan\n",
    "data_full.loc[data_full[\"BMI\"].isna(), \"WeightInKilograms\"] = np.nan"
   ]
  },
  {
   "cell_type": "markdown",
   "metadata": {},
   "source": [
    "### Cleaning of categorical variables"
   ]
  },
  {
   "cell_type": "code",
   "execution_count": 12,
   "metadata": {},
   "outputs": [
    {
     "name": "stdout",
     "output_type": "stream",
     "text": [
      "Column State :\n",
      "State\n",
      "Washington              26138\n",
      "New York                17780\n",
      "Minnesota               16815\n",
      "Ohio                    16481\n",
      "Maryland                16408\n",
      "Texas                   14236\n",
      "Florida                 13384\n",
      "Wisconsin               11273\n",
      "Kansas                  11243\n",
      "Massachusetts           11027\n",
      "California              10948\n",
      "Maine                   10645\n",
      "Indiana                 10458\n",
      "Virginia                10414\n",
      "Arizona                 10183\n",
      "Michigan                10053\n",
      "South Carolina          10031\n",
      "Utah                     9822\n",
      "Connecticut              9771\n",
      "Colorado                 9360\n",
      "Georgia                  9234\n",
      "Iowa                     8948\n",
      "Vermont                  8800\n",
      "New Jersey               8195\n",
      "Hawaii                   7747\n",
      "Nebraska                 7472\n",
      "Missouri                 7438\n",
      "South Dakota             7422\n",
      "Montana                  7047\n",
      "New Hampshire            6754\n",
      "Idaho                    6280\n",
      "Rhode Island             5891\n",
      "Alaska                   5864\n",
      "Oklahoma                 5775\n",
      "Oregon                   5756\n",
      "Louisiana                5624\n",
      "Puerto Rico              5509\n",
      "Arkansas                 5309\n",
      "Tennessee                5264\n",
      "West Virginia            4981\n",
      "New Mexico               4758\n",
      "Pennsylvania             4582\n",
      "Alabama                  4506\n",
      "North Carolina           4505\n",
      "Mississippi              4239\n",
      "North Dakota             4153\n",
      "Wyoming                  4141\n",
      "Illinois                 4054\n",
      "Kentucky                 4023\n",
      "Delaware                 3986\n",
      "District of Columbia     3236\n",
      "Nevada                   3188\n",
      "Guam                     2266\n",
      "Virgin Islands           1531\n",
      "Name: count, dtype: int64\n",
      "\n",
      "Column Sex :\n",
      "Sex\n",
      "Female    235804\n",
      "Male      209144\n",
      "Name: count, dtype: int64\n",
      "\n",
      "Column GeneralHealth :\n",
      "GeneralHealth\n",
      "Very good    148359\n",
      "Good         143571\n",
      "Excellent     71812\n",
      "Fair          60272\n",
      "Poor          19741\n",
      "Name: count, dtype: int64\n",
      "\n",
      "Column LastCheckupTime :\n",
      "LastCheckupTime\n",
      "Within past year (anytime less than 12 months ago)         350774\n",
      "Within past 2 years (1 year but less than 2 years ago)      41915\n",
      "Within past 5 years (2 years but less than 5 years ago)     24881\n",
      "5 or more years ago                                         19077\n",
      "Name: count, dtype: int64\n",
      "\n",
      "Column RemovedTeeth :\n",
      "RemovedTeeth\n",
      "None of them              233298\n",
      "1 to 5                    129275\n",
      "6 or more, but not all     45568\n",
      "All                        25453\n",
      "Name: count, dtype: int64\n",
      "\n",
      "Column SmokerStatus :\n",
      "SmokerStatus\n",
      "Never smoked                             245945\n",
      "Former smoker                            113768\n",
      "Current smoker - now smokes every day     36003\n",
      "Current smoker - now smokes some days     13938\n",
      "Name: count, dtype: int64\n",
      "\n",
      "Column ECigaretteUsage :\n",
      "ECigaretteUsage\n",
      "Never used e-cigarettes in my entire life    311973\n",
      "Not at all (right now)                        75367\n",
      "Use them some days                            11734\n",
      "Use them every day                            10382\n",
      "Name: count, dtype: int64\n",
      "\n",
      "Column RaceEthnicityCategory :\n",
      "RaceEthnicityCategory\n",
      "White only, Non-Hispanic         320274\n",
      "Hispanic                          42905\n",
      "Black only, Non-Hispanic          35439\n",
      "Other race only, Non-Hispanic     22708\n",
      "Multiracial, Non-Hispanic          9578\n",
      "Name: count, dtype: int64\n",
      "\n",
      "Column AgeCategory :\n",
      "AgeCategory\n",
      "Age 65 to 69       47082\n",
      "Age 60 to 64       44490\n",
      "Age 70 to 74       43464\n",
      "Age 55 to 59       36801\n",
      "Age 80 or older    36248\n",
      "Age 50 to 54       33619\n",
      "Age 75 to 79       32505\n",
      "Age 40 to 44       29925\n",
      "Age 45 to 49       28514\n",
      "Age 35 to 39       28512\n",
      "Age 18 to 24       26934\n",
      "Age 30 to 34       25799\n",
      "Age 25 to 29       21989\n",
      "Name: count, dtype: int64\n",
      "\n"
     ]
    }
   ],
   "source": [
    "for col in data_full.select_dtypes(\"O\").columns:\n",
    "    print(f\"Column {col} :\\n{data_full[col].value_counts()}\\n\")"
   ]
  },
  {
   "cell_type": "markdown",
   "metadata": {},
   "source": [
    "The following changes are being made:\n",
    "- Removal of the `State` column, which will not be usable given the number of categories.\n",
    "- Transformation of the `GeneralHealth` column into a score ranging from 0 to 4.\n",
    "- Aggregation of the `Current smoker` categories into the `SmokerStatus` column.\n",
    "- Aggregation of the `Use them` categories into the `ECigaretteUsage` column.\n",
    "- Aggregation of the `Other race` and `Multiracial` categories into the `RaceEthnicityCategory` column.\n",
    "- Aggregation of the age categories into the median age of each category."
   ]
  },
  {
   "cell_type": "code",
   "execution_count": 13,
   "metadata": {},
   "outputs": [],
   "source": [
    "data_full = data_full.drop(columns=\"State\", errors=\"ignore\")\n",
    "data_full[\"LastCheckupTime\"] = data_full[\"LastCheckupTime\"].map(\n",
    "    lambda x: {\n",
    "        \"Within past year (anytime less than 12 months ago)\": \"Recently\",\n",
    "        \"Within past 2 years (1 year but less than 2 years ago)\": \"Intermediate\",\n",
    "        \"Within past 5 years (2 years but less than 5 years ago)\": \"Intermediate\",\n",
    "        \"5 or more years ago\": \"Ancient\",\n",
    "    }.get(x, x)\n",
    ")\n",
    "data_full[\"GeneralHealth\"] = data_full[\"GeneralHealth\"].map(\n",
    "    lambda x: {\"Poor\": 0, \"Fair\": 1, \"Good\": 2, \"Very good\": 3, \"Excellent\": 4}.get(\n",
    "        x, x\n",
    "    )\n",
    ")\n",
    "data_full[\"RemovedTeeth\"] = data_full[\"RemovedTeeth\"].map(\n",
    "    lambda x: {\n",
    "        \"None of them\": \"None\",\n",
    "        \"1 to 5\": \"Few\",\n",
    "        \"6 or more, but not all\": \"Many\",\n",
    "        \"All\": \"Many\",\n",
    "    }.get(x, x)\n",
    ")\n",
    "data_full[\"SmokerStatus\"] = data_full[\"SmokerStatus\"].map(\n",
    "    lambda x: {\n",
    "        \"Current smoker - now smokes every day\": \"Current\",\n",
    "        \"Current smoker - now smokes some days\": \"Current\",\n",
    "        \"Never smoked\": \"Never\",\n",
    "        \"Former smoker\": \"Former\",\n",
    "    }.get(x, x)\n",
    ")\n",
    "data_full[\"ECigaretteUsage\"] = data_full[\"ECigaretteUsage\"].map(\n",
    "    lambda x: {\n",
    "        \"Use them some days\": \"Current\",\n",
    "        \"Use them every day\": \"Current\",\n",
    "        \"Never used e-cigarettes in my entire life\": \"Never\",\n",
    "        \"Not at all (right now)\": \"Former\",\n",
    "    }.get(x, x)\n",
    ")\n",
    "data_full[\"RaceEthnicityCategory\"] = data_full[\"RaceEthnicityCategory\"].map(\n",
    "    lambda x: {\n",
    "        \"Other race only, Non-Hispanic\": \"Other\",\n",
    "        \"Multiracial, Non-Hispanic\": \"Other\",\n",
    "        \"White only, Non-Hispanic\": \"White\",\n",
    "        \"Black only, Non-Hispanic\": \"Black\",\n",
    "    }.get(x, x)\n",
    ")\n",
    "\n",
    "\n",
    "# Converting ages\n",
    "def extract_age_range(age_range):\n",
    "    match = re.findall(r\"\\d+\", age_range)\n",
    "    if len(match) == 2:\n",
    "        return (int(match[0]) + int(match[1])) / 2\n",
    "    elif len(match) == 1:\n",
    "        return int(match[0]) + 5\n",
    "    else:\n",
    "        return None\n",
    "\n",
    "\n",
    "mapping = {\n",
    "    val: extract_age_range(val) for val in data_full[\"AgeCategory\"].astype(str).unique()\n",
    "}\n",
    "data_full[\"AgeCategory\"] = data_full[\"AgeCategory\"].astype(str).map(mapping)"
   ]
  },
  {
   "cell_type": "markdown",
   "metadata": {},
   "source": [
    "## Preprocessing"
   ]
  },
  {
   "cell_type": "markdown",
   "metadata": {},
   "source": [
    "### Defining the target\n",
    "\n",
    "`HadAngina` can theoretically be considered a precursor to a myocardial infarction. It is therefore interesting to look into the possibility of directly predicting heart attacks using this variable. If this risk exists, then it will be important not to use this variable as a feature, so as not to train a model on a trivial problem."
   ]
  },
  {
   "cell_type": "code",
   "execution_count": 14,
   "metadata": {},
   "outputs": [
    {
     "data": {
      "text/html": [
       "<div>\n",
       "<style scoped>\n",
       "    .dataframe tbody tr th:only-of-type {\n",
       "        vertical-align: middle;\n",
       "    }\n",
       "\n",
       "    .dataframe tbody tr th {\n",
       "        vertical-align: top;\n",
       "    }\n",
       "\n",
       "    .dataframe thead th {\n",
       "        text-align: right;\n",
       "    }\n",
       "</style>\n",
       "<table border=\"1\" class=\"dataframe\">\n",
       "  <thead>\n",
       "    <tr style=\"text-align: right;\">\n",
       "      <th></th>\n",
       "      <th>HadHeartAttack</th>\n",
       "      <th>HadAngina</th>\n",
       "    </tr>\n",
       "  </thead>\n",
       "  <tbody>\n",
       "    <tr>\n",
       "      <th>HadHeartAttack</th>\n",
       "      <td>1.000000</td>\n",
       "      <td>0.428023</td>\n",
       "    </tr>\n",
       "    <tr>\n",
       "      <th>HadAngina</th>\n",
       "      <td>0.428023</td>\n",
       "      <td>1.000000</td>\n",
       "    </tr>\n",
       "  </tbody>\n",
       "</table>\n",
       "</div>"
      ],
      "text/plain": [
       "                HadHeartAttack  HadAngina\n",
       "HadHeartAttack        1.000000   0.428023\n",
       "HadAngina             0.428023   1.000000"
      ]
     },
     "execution_count": 14,
     "metadata": {},
     "output_type": "execute_result"
    }
   ],
   "source": [
    "data_full[[\"HadHeartAttack\", \"HadAngina\"]].corr()"
   ]
  },
  {
   "cell_type": "markdown",
   "metadata": {},
   "source": [
    "In fact, a correlation coefficient of 42.8% does not seem sufficient to designate `HadAngina` as a sufficient predictor of the `HadHeartAttack` variable on its own. Therefore, we choose to keep this variable as a feature of the model.  \n",
    "In a second step, we will retest the model without this feature, to see if we can maintain comparable performance without it."
   ]
  },
  {
   "cell_type": "markdown",
   "metadata": {},
   "source": [
    "### Train-test split"
   ]
  },
  {
   "cell_type": "code",
   "execution_count": 15,
   "metadata": {},
   "outputs": [],
   "source": [
    "y = data_full[\"HadHeartAttack\"]\n",
    "X = data_full.drop(columns=[\"HadHeartAttack\"])\n",
    "X_train, X_test, y_train, y_test = train_test_split(X, y, random_state=42, shuffle=True)"
   ]
  },
  {
   "cell_type": "markdown",
   "metadata": {},
   "source": [
    "### Missing values imputations"
   ]
  },
  {
   "cell_type": "code",
   "execution_count": 16,
   "metadata": {},
   "outputs": [
    {
     "name": "stdout",
     "output_type": "stream",
     "text": [
      "Number of columns with all values: 26\n",
      "Number of columns with missing values: 13\n",
      "Sex                          0.000000\n",
      "GeneralHealth                0.002681\n",
      "PhysicalHealthDays           0.186966\n",
      "MentalHealthDays             0.156088\n",
      "LastCheckupTime              0.018656\n",
      "PhysicalActivities           0.000000\n",
      "SleepHours                   0.028561\n",
      "RemovedTeeth                 0.025518\n",
      "HadHeartAttack               0.000000\n",
      "HadAngina                    0.000000\n",
      "HadStroke                    0.000000\n",
      "HadAsthma                    0.000000\n",
      "HadSkinCancer                0.000000\n",
      "HadCOPD                      0.000000\n",
      "HadDepressiveDisorder        0.000000\n",
      "HadKidneyDisease             0.000000\n",
      "HadArthritis                 0.000000\n",
      "HadDiabetes                  0.000000\n",
      "DeafOrHardOfHearing          0.000000\n",
      "BlindOrVisionDifficulty      0.000000\n",
      "DifficultyConcentrating      0.000000\n",
      "DifficultyWalking            0.000000\n",
      "DifficultyDressingBathing    0.000000\n",
      "DifficultyErrands            0.000000\n",
      "SmokerStatus                 0.079322\n",
      "ECigaretteUsage              0.079767\n",
      "ChestScan                    0.000000\n",
      "RaceEthnicityCategory        0.031563\n",
      "AgeCategory                  0.020375\n",
      "HeightInMeters               0.131629\n",
      "WeightInKilograms            0.131629\n",
      "BMI                          0.131629\n",
      "AlcoholDrinkers              0.000000\n",
      "HIVTesting                   0.000000\n",
      "FluVaxLast12                 0.000000\n",
      "PneumoVaxEver                0.000000\n",
      "TetanusLast10Tdap            0.000000\n",
      "HighRiskLastYear             0.000000\n",
      "CovidPos                     0.000000\n",
      "dtype: float64\n"
     ]
    }
   ],
   "source": [
    "print(f\"Number of columns with all values: {(data_full.isna().mean()==0).sum()}\")\n",
    "print(f\"Number of columns with missing values: {(data_full.isna().mean()>0).sum()}\")\n",
    "print(data_full.isna().mean())"
   ]
  },
  {
   "cell_type": "markdown",
   "metadata": {},
   "source": [
    "The frequency of missing values ranges from 2.0% to 18.7% in a third of columns. These values are imputed with the following strategy:\n",
    "- Missing values in categorical columns are imputed to the most frequent modality.\n",
    "- Missing values in continuous columns are imputed by regression from the other columns (through an iterative process, based on the `IterativeImputer` algorithm from `scikit-learn`). The regression models trained on the training set are directly used for the imputation of missing values in the test set."
   ]
  },
  {
   "cell_type": "code",
   "execution_count": 17,
   "metadata": {},
   "outputs": [
    {
     "name": "stdout",
     "output_type": "stream",
     "text": [
      "[IterativeImputer] Completing matrix with shape (333711, 8)\n",
      "[IterativeImputer] Ending imputation round 1/30, elapsed time 1.65\n",
      "[IterativeImputer] Change: 2.2962604594327116, scaled tolerance: 0.0074755831532254185 \n",
      "[IterativeImputer] Ending imputation round 2/30, elapsed time 3.23\n",
      "[IterativeImputer] Change: 0.6453738247045133, scaled tolerance: 0.0074755831532254185 \n",
      "[IterativeImputer] Ending imputation round 3/30, elapsed time 4.61\n",
      "[IterativeImputer] Change: 0.10991029860565153, scaled tolerance: 0.0074755831532254185 \n",
      "[IterativeImputer] Ending imputation round 4/30, elapsed time 6.27\n",
      "[IterativeImputer] Change: 0.04741195304743584, scaled tolerance: 0.0074755831532254185 \n",
      "[IterativeImputer] Ending imputation round 5/30, elapsed time 7.83\n",
      "[IterativeImputer] Change: 0.04520851002068186, scaled tolerance: 0.0074755831532254185 \n",
      "[IterativeImputer] Ending imputation round 6/30, elapsed time 9.61\n",
      "[IterativeImputer] Change: 0.043184777027103036, scaled tolerance: 0.0074755831532254185 \n",
      "[IterativeImputer] Ending imputation round 7/30, elapsed time 10.65\n",
      "[IterativeImputer] Change: 0.041248088652652955, scaled tolerance: 0.0074755831532254185 \n",
      "[IterativeImputer] Ending imputation round 8/30, elapsed time 11.61\n",
      "[IterativeImputer] Change: 0.03939082263195748, scaled tolerance: 0.0074755831532254185 \n",
      "[IterativeImputer] Ending imputation round 9/30, elapsed time 12.99\n",
      "[IterativeImputer] Change: 0.037609673823621355, scaled tolerance: 0.0074755831532254185 \n",
      "[IterativeImputer] Ending imputation round 10/30, elapsed time 13.91\n",
      "[IterativeImputer] Change: 0.035901646581993116, scaled tolerance: 0.0074755831532254185 \n",
      "[IterativeImputer] Ending imputation round 11/30, elapsed time 15.24\n",
      "[IterativeImputer] Change: 0.03426386589124729, scaled tolerance: 0.0074755831532254185 \n",
      "[IterativeImputer] Ending imputation round 12/30, elapsed time 16.26\n",
      "[IterativeImputer] Change: 0.03269356621997413, scaled tolerance: 0.0074755831532254185 \n",
      "[IterativeImputer] Ending imputation round 13/30, elapsed time 17.20\n",
      "[IterativeImputer] Change: 0.03118808745784779, scaled tolerance: 0.0074755831532254185 \n",
      "[IterativeImputer] Ending imputation round 14/30, elapsed time 18.29\n",
      "[IterativeImputer] Change: 0.02974487109326822, scaled tolerance: 0.0074755831532254185 \n",
      "[IterativeImputer] Ending imputation round 15/30, elapsed time 19.66\n",
      "[IterativeImputer] Change: 0.02836145649580811, scaled tolerance: 0.0074755831532254185 \n",
      "[IterativeImputer] Ending imputation round 16/30, elapsed time 21.47\n",
      "[IterativeImputer] Change: 0.027035477320504056, scaled tolerance: 0.0074755831532254185 \n",
      "[IterativeImputer] Ending imputation round 17/30, elapsed time 23.20\n",
      "[IterativeImputer] Change: 0.025764658033980176, scaled tolerance: 0.0074755831532254185 \n",
      "[IterativeImputer] Ending imputation round 18/30, elapsed time 25.16\n",
      "[IterativeImputer] Change: 0.024546810559247303, scaled tolerance: 0.0074755831532254185 \n",
      "[IterativeImputer] Ending imputation round 19/30, elapsed time 26.60\n",
      "[IterativeImputer] Change: 0.02337983103651793, scaled tolerance: 0.0074755831532254185 \n",
      "[IterativeImputer] Ending imputation round 20/30, elapsed time 28.26\n",
      "[IterativeImputer] Change: 0.022261696695987182, scaled tolerance: 0.0074755831532254185 \n",
      "[IterativeImputer] Ending imputation round 21/30, elapsed time 29.90\n",
      "[IterativeImputer] Change: 0.021190462838849594, scaled tolerance: 0.0074755831532254185 \n",
      "[IterativeImputer] Ending imputation round 22/30, elapsed time 31.21\n",
      "[IterativeImputer] Change: 0.020164259925006228, scaled tolerance: 0.0074755831532254185 \n",
      "[IterativeImputer] Ending imputation round 23/30, elapsed time 32.88\n",
      "[IterativeImputer] Change: 0.01918129076177033, scaled tolerance: 0.0074755831532254185 \n",
      "[IterativeImputer] Ending imputation round 24/30, elapsed time 34.40\n",
      "[IterativeImputer] Change: 0.018239827792405183, scaled tolerance: 0.0074755831532254185 \n",
      "[IterativeImputer] Ending imputation round 25/30, elapsed time 35.80\n",
      "[IterativeImputer] Change: 0.01733821048048373, scaled tolerance: 0.0074755831532254185 \n",
      "[IterativeImputer] Ending imputation round 26/30, elapsed time 37.45\n",
      "[IterativeImputer] Change: 0.016884219054342064, scaled tolerance: 0.0074755831532254185 \n",
      "[IterativeImputer] Ending imputation round 27/30, elapsed time 38.76\n",
      "[IterativeImputer] Change: 0.016526150491983582, scaled tolerance: 0.0074755831532254185 \n",
      "[IterativeImputer] Ending imputation round 28/30, elapsed time 40.31\n",
      "[IterativeImputer] Change: 0.016176957786417506, scaled tolerance: 0.0074755831532254185 \n",
      "[IterativeImputer] Ending imputation round 29/30, elapsed time 41.89\n",
      "[IterativeImputer] Change: 0.01583638497468974, scaled tolerance: 0.0074755831532254185 \n",
      "[IterativeImputer] Ending imputation round 30/30, elapsed time 43.39\n",
      "[IterativeImputer] Change: 0.015504184280167949, scaled tolerance: 0.0074755831532254185 \n",
      "[IterativeImputer] Completing matrix with shape (111237, 8)\n",
      "[IterativeImputer] Ending imputation round 1/30, elapsed time 0.02\n",
      "[IterativeImputer] Ending imputation round 2/30, elapsed time 0.04\n",
      "[IterativeImputer] Ending imputation round 3/30, elapsed time 0.07\n",
      "[IterativeImputer] Ending imputation round 4/30, elapsed time 0.09\n",
      "[IterativeImputer] Ending imputation round 5/30, elapsed time 0.11\n",
      "[IterativeImputer] Ending imputation round 6/30, elapsed time 0.14\n",
      "[IterativeImputer] Ending imputation round 7/30, elapsed time 0.16\n",
      "[IterativeImputer] Ending imputation round 8/30, elapsed time 0.23\n",
      "[IterativeImputer] Ending imputation round 9/30, elapsed time 0.28\n",
      "[IterativeImputer] Ending imputation round 10/30, elapsed time 0.31\n",
      "[IterativeImputer] Ending imputation round 11/30, elapsed time 0.33\n",
      "[IterativeImputer] Ending imputation round 12/30, elapsed time 0.36\n",
      "[IterativeImputer] Ending imputation round 13/30, elapsed time 0.39\n",
      "[IterativeImputer] Ending imputation round 14/30, elapsed time 0.42\n",
      "[IterativeImputer] Ending imputation round 15/30, elapsed time 0.45\n",
      "[IterativeImputer] Ending imputation round 16/30, elapsed time 0.48\n",
      "[IterativeImputer] Ending imputation round 17/30, elapsed time 0.51\n",
      "[IterativeImputer] Ending imputation round 18/30, elapsed time 0.54\n",
      "[IterativeImputer] Ending imputation round 19/30, elapsed time 0.56\n",
      "[IterativeImputer] Ending imputation round 20/30, elapsed time 0.59\n",
      "[IterativeImputer] Ending imputation round 21/30, elapsed time 0.62\n",
      "[IterativeImputer] Ending imputation round 22/30, elapsed time 0.65\n",
      "[IterativeImputer] Ending imputation round 23/30, elapsed time 0.68\n",
      "[IterativeImputer] Ending imputation round 24/30, elapsed time 0.72\n",
      "[IterativeImputer] Ending imputation round 25/30, elapsed time 0.76\n",
      "[IterativeImputer] Ending imputation round 26/30, elapsed time 0.79\n",
      "[IterativeImputer] Ending imputation round 27/30, elapsed time 0.82\n",
      "[IterativeImputer] Ending imputation round 28/30, elapsed time 0.85\n",
      "[IterativeImputer] Ending imputation round 29/30, elapsed time 0.89\n",
      "[IterativeImputer] Ending imputation round 30/30, elapsed time 0.94\n"
     ]
    }
   ],
   "source": [
    "X_train, X_test = uu.impute(X_train, X_test, strategy=\"iterative\")"
   ]
  },
  {
   "cell_type": "markdown",
   "metadata": {},
   "source": [
    "### One-hot encoding of categorical variables"
   ]
  },
  {
   "cell_type": "code",
   "execution_count": 18,
   "metadata": {},
   "outputs": [],
   "source": [
    "encoder = OneHotEncoder(drop=\"if_binary\", sparse_output=False)\n",
    "encoded_columns_train = encoder.fit_transform(X_train.select_dtypes(\"O\"))\n",
    "encoded_columns_train = pd.DataFrame(\n",
    "    encoded_columns_train,\n",
    "    columns=encoder.get_feature_names_out(X_train.select_dtypes(\"O\").columns),\n",
    ")\n",
    "encoded_columns_test = pd.DataFrame(\n",
    "    encoder.transform(X_test.select_dtypes(\"O\")), columns=encoded_columns_train.columns\n",
    ")\n",
    "X_train = X_train.drop(columns=encoder.feature_names_in_).reset_index(drop=True)\n",
    "X_train = pd.concat([X_train, encoded_columns_train], axis=1)\n",
    "X_test = X_test.drop(columns=encoder.feature_names_in_).reset_index(drop=True)\n",
    "X_test = pd.concat([X_test, encoded_columns_test], axis=1)"
   ]
  },
  {
   "cell_type": "markdown",
   "metadata": {},
   "source": [
    "### Feature engineering"
   ]
  },
  {
   "cell_type": "code",
   "execution_count": 19,
   "metadata": {},
   "outputs": [],
   "source": [
    "for col in X_train.columns:\n",
    "    X_train = uu.create_polynomial(X_train, col)\n",
    "    X_test = uu.create_polynomial(X_test, col)"
   ]
  },
  {
   "cell_type": "code",
   "execution_count": 20,
   "metadata": {},
   "outputs": [
    {
     "data": {
      "image/png": "[encoded data removed]",
      "text/plain": [
       "<Figure size 432x288 with 1 Axes>"
      ]
     },
     "metadata": {
      "needs_background": "light"
     },
     "output_type": "display_data"
    }
   ],
   "source": [
    "Fvals, pvals = f_classif(X_train, y_train)\n",
    "plt.bar(np.arange(len(Fvals)), np.sort(Fvals)[::-1])\n",
    "plt.xlabel(\"Importance rank\")\n",
    "plt.ylabel(\"F-value\")\n",
    "plt.title(\"Classification signal carried by each feature\")\n",
    "plt.yscale(\"log\")"
   ]
  },
  {
   "cell_type": "markdown",
   "metadata": {},
   "source": [
    "We choose to select the 40 features with the highest importance."
   ]
  },
  {
   "cell_type": "code",
   "execution_count": 21,
   "metadata": {},
   "outputs": [],
   "source": [
    "thr_fval = np.sort(Fvals)[::-1][40]\n",
    "cols_tokeep = Fvals > thr_fval\n",
    "X_train = X_train.iloc[:, cols_tokeep]\n",
    "X_test = X_test.iloc[:, cols_tokeep]"
   ]
  },
  {
   "cell_type": "markdown",
   "metadata": {},
   "source": [
    "## Modelling"
   ]
  },
  {
   "cell_type": "code",
   "execution_count": 22,
   "metadata": {},
   "outputs": [],
   "source": [
    "client = MlflowClient(tracking_uri=\"sqlite:///heart_disease.db\")"
   ]
  },
  {
   "cell_type": "markdown",
   "metadata": {},
   "source": [
    "### Exploration of several approaches"
   ]
  },
  {
   "cell_type": "code",
   "execution_count": 22,
   "metadata": {},
   "outputs": [],
   "source": [
    "experiment_description = \"This experiment explores a few simple modelling algorithms to learn to predict the risk of heart attack.\"\n",
    "\n",
    "experiment_tags = {\n",
    "    \"project_name\": \"heart-disease\",\n",
    "    \"mlflow.note.content\": experiment_description,\n",
    "}\n",
    "\n",
    "general_experiment = client.create_experiment(\n",
    "    name=\"General exploration\", tags=experiment_tags\n",
    ")"
   ]
  },
  {
   "cell_type": "code",
   "execution_count": 23,
   "metadata": {},
   "outputs": [],
   "source": [
    "results = []"
   ]
  },
  {
   "cell_type": "code",
   "execution_count": null,
   "metadata": {},
   "outputs": [
    {
     "name": "stderr",
     "output_type": "stream",
     "text": [
      "2025/10/10 13:11:39 WARNING mlflow.utils.requirements_utils: Found lz4 version (3.1.3+dfsg) contains a local version label (+dfsg). MLflow logged a pip requirement for this package as 'lz4==3.1.3' without the local version label to make it installable from PyPI. To specify pip requirements containing local version labels, please use `conda_env` or `pip_requirements`.\n"
     ]
    }
   ],
   "source": [
    "clf = DummyClassifier()\n",
    "results.append(\n",
    "    uu.evaluate_model(\n",
    "        clf, X_train, y_train, X_test, y_test, \"General exploration\", k=5, name=\"Dummy\"\n",
    "    )\n",
    ")"
   ]
  },
  {
   "cell_type": "code",
   "execution_count": 25,
   "metadata": {},
   "outputs": [
    {
     "name": "stderr",
     "output_type": "stream",
     "text": [
      "2025/10/10 13:12:02 WARNING mlflow.utils.requirements_utils: Found lz4 version (3.1.3+dfsg) contains a local version label (+dfsg). MLflow logged a pip requirement for this package as 'lz4==3.1.3' without the local version label to make it installable from PyPI. To specify pip requirements containing local version labels, please use `conda_env` or `pip_requirements`.\n"
     ]
    }
   ],
   "source": [
    "clf = LogisticRegression(penalty=\"l2\", C=1, n_jobs=-2, class_weight=\"balanced\")\n",
    "results.append(\n",
    "    uu.evaluate_model(\n",
    "        clf, X_train, y_train, X_test, y_test, \"General exploration\", k=5, name=\"LogReg\"\n",
    "    )\n",
    ")"
   ]
  },
  {
   "cell_type": "code",
   "execution_count": 26,
   "metadata": {},
   "outputs": [
    {
     "name": "stderr",
     "output_type": "stream",
     "text": [
      "2025/10/10 13:12:20 WARNING mlflow.utils.requirements_utils: Found lz4 version (3.1.3+dfsg) contains a local version label (+dfsg). MLflow logged a pip requirement for this package as 'lz4==3.1.3' without the local version label to make it installable from PyPI. To specify pip requirements containing local version labels, please use `conda_env` or `pip_requirements`.\n"
     ]
    }
   ],
   "source": [
    "clf = LinearSVC(penalty=\"l2\", C=1, class_weight=\"balanced\")\n",
    "results.append(\n",
    "    uu.evaluate_model(\n",
    "        clf, X_train, y_train, X_test, y_test, \"General exploration\", k=5, name=\"SVM\"\n",
    "    )\n",
    ")"
   ]
  },
  {
   "cell_type": "code",
   "execution_count": 27,
   "metadata": {},
   "outputs": [
    {
     "name": "stderr",
     "output_type": "stream",
     "text": [
      "2025/10/10 13:13:36 WARNING mlflow.utils.requirements_utils: Found lz4 version (3.1.3+dfsg) contains a local version label (+dfsg). MLflow logged a pip requirement for this package as 'lz4==3.1.3' without the local version label to make it installable from PyPI. To specify pip requirements containing local version labels, please use `conda_env` or `pip_requirements`.\n"
     ]
    }
   ],
   "source": [
    "clf = RandomForestClassifier(\n",
    "    n_estimators=100, criterion=\"log_loss\", n_jobs=-2, class_weight=\"balanced\"\n",
    ")\n",
    "results.append(\n",
    "    uu.evaluate_model(\n",
    "        clf, X_train, y_train, X_test, y_test, \"General exploration\", k=5, name=\"RF\"\n",
    "    )\n",
    ")"
   ]
  },
  {
   "cell_type": "code",
   "execution_count": 28,
   "metadata": {},
   "outputs": [
    {
     "name": "stdout",
     "output_type": "stream",
     "text": [
      "[LightGBM] [Info] Number of positive: 15032, number of negative: 251936\n",
      "[LightGBM] [Info] Auto-choosing row-wise multi-threading, the overhead of testing was 0.030875 seconds.\n",
      "You can set `force_row_wise=true` to remove the overhead.\n",
      "And if memory is not enough, you can set `force_col_wise=true`.\n",
      "[LightGBM] [Info] Total Bins 2342\n",
      "[LightGBM] [Info] Number of data points in the train set: 266968, number of used features: 40\n",
      "[LightGBM] [Info] [binary:BoostFromScore]: pavg=0.500000 -> initscore=0.000000\n",
      "[LightGBM] [Info] Start training from score 0.000000\n",
      "Training until validation scores don't improve for 10 rounds\n",
      "Early stopping, best iteration is:\n",
      "[65]\tvalid_0's auc: 0.878283\tvalid_0's binary_logloss: 0.417161\n",
      "[LightGBM] [Info] Number of positive: 15032, number of negative: 251937\n",
      "[LightGBM] [Info] Auto-choosing row-wise multi-threading, the overhead of testing was 0.024241 seconds.\n",
      "You can set `force_row_wise=true` to remove the overhead.\n",
      "And if memory is not enough, you can set `force_col_wise=true`.\n",
      "[LightGBM] [Info] Total Bins 2339\n",
      "[LightGBM] [Info] Number of data points in the train set: 266969, number of used features: 40\n",
      "[LightGBM] [Info] [binary:BoostFromScore]: pavg=0.500000 -> initscore=0.000000\n",
      "[LightGBM] [Info] Start training from score 0.000000\n",
      "Training until validation scores don't improve for 10 rounds\n",
      "Early stopping, best iteration is:\n",
      "[58]\tvalid_0's auc: 0.885692\tvalid_0's binary_logloss: 0.418852\n",
      "[LightGBM] [Info] Number of positive: 15032, number of negative: 251937\n",
      "[LightGBM] [Info] Auto-choosing row-wise multi-threading, the overhead of testing was 0.023810 seconds.\n",
      "You can set `force_row_wise=true` to remove the overhead.\n",
      "And if memory is not enough, you can set `force_col_wise=true`.\n",
      "[LightGBM] [Info] Total Bins 2345\n",
      "[LightGBM] [Info] Number of data points in the train set: 266969, number of used features: 40\n",
      "[LightGBM] [Info] [binary:BoostFromScore]: pavg=0.500000 -> initscore=0.000000\n",
      "[LightGBM] [Info] Start training from score 0.000000\n",
      "Training until validation scores don't improve for 10 rounds\n",
      "Early stopping, best iteration is:\n",
      "[62]\tvalid_0's auc: 0.88653\tvalid_0's binary_logloss: 0.416736\n",
      "[LightGBM] [Info] Number of positive: 15032, number of negative: 251937\n",
      "[LightGBM] [Info] Auto-choosing row-wise multi-threading, the overhead of testing was 0.030345 seconds.\n",
      "You can set `force_row_wise=true` to remove the overhead.\n",
      "And if memory is not enough, you can set `force_col_wise=true`.\n",
      "[LightGBM] [Info] Total Bins 2342\n",
      "[LightGBM] [Info] Number of data points in the train set: 266969, number of used features: 40\n",
      "[LightGBM] [Info] [binary:BoostFromScore]: pavg=0.500000 -> initscore=0.000000\n",
      "[LightGBM] [Info] Start training from score 0.000000\n",
      "Training until validation scores don't improve for 10 rounds\n",
      "Early stopping, best iteration is:\n",
      "[58]\tvalid_0's auc: 0.885255\tvalid_0's binary_logloss: 0.418674\n",
      "[LightGBM] [Info] Number of positive: 15032, number of negative: 251937\n",
      "[LightGBM] [Info] Auto-choosing row-wise multi-threading, the overhead of testing was 0.022490 seconds.\n",
      "You can set `force_row_wise=true` to remove the overhead.\n",
      "And if memory is not enough, you can set `force_col_wise=true`.\n",
      "[LightGBM] [Info] Total Bins 2338\n",
      "[LightGBM] [Info] Number of data points in the train set: 266969, number of used features: 40\n",
      "[LightGBM] [Info] [binary:BoostFromScore]: pavg=0.500000 -> initscore=0.000000\n",
      "[LightGBM] [Info] Start training from score 0.000000\n",
      "Training until validation scores don't improve for 10 rounds\n",
      "Early stopping, best iteration is:\n",
      "[65]\tvalid_0's auc: 0.88633\tvalid_0's binary_logloss: 0.41676\n",
      "[LightGBM] [Info] Number of positive: 18790, number of negative: 314921\n",
      "[LightGBM] [Info] Auto-choosing row-wise multi-threading, the overhead of testing was 0.033224 seconds.\n",
      "You can set `force_row_wise=true` to remove the overhead.\n",
      "And if memory is not enough, you can set `force_col_wise=true`.\n",
      "[LightGBM] [Info] Total Bins 2340\n",
      "[LightGBM] [Info] Number of data points in the train set: 333711, number of used features: 40\n",
      "[LightGBM] [Info] [binary:BoostFromScore]: pavg=0.500000 -> initscore=0.000000\n",
      "[LightGBM] [Info] Start training from score 0.000000\n",
      "Training until validation scores don't improve for 10 rounds\n",
      "Early stopping, best iteration is:\n",
      "[75]\tvalid_0's auc: 0.887923\tvalid_0's binary_logloss: 0.41665\n"
     ]
    },
    {
     "name": "stderr",
     "output_type": "stream",
     "text": [
      "2025/10/10 13:13:58 WARNING mlflow.utils.requirements_utils: Found lz4 version (3.1.3+dfsg) contains a local version label (+dfsg). MLflow logged a pip requirement for this package as 'lz4==3.1.3' without the local version label to make it installable from PyPI. To specify pip requirements containing local version labels, please use `conda_env` or `pip_requirements`.\n"
     ]
    }
   ],
   "source": [
    "clf = LGBMClassifier(n_estimators=1000, class_weight=\"balanced\")\n",
    "results.append(\n",
    "    uu.evaluate_model(\n",
    "        clf, X_train, y_train, X_test, y_test, \"General exploration\", k=5, name=\"Boost\"\n",
    "    )\n",
    ")"
   ]
  },
  {
   "cell_type": "code",
   "execution_count": 29,
   "metadata": {},
   "outputs": [
    {
     "data": {
      "image/png": "[encoded data removed]",
      "text/plain": [
       "<Figure size 720x432 with 1 Axes>"
      ]
     },
     "metadata": {
      "needs_background": "light"
     },
     "output_type": "display_data"
    }
   ],
   "source": [
    "uu.plot_model_performance(results)"
   ]
  },
  {
   "cell_type": "markdown",
   "metadata": {},
   "source": [
    "![MLFlow screenshot](general_exploration_mlflow.png \"Title\")\n",
    "\n",
    "\n",
    "All models generally achieve a performance increase over the baseline (*Dummy Classifier*). There can be considerable variation between models in terms of recall and precision: for example, gradient boosting is better for recall and random forest is better for precision, but both have a lower F1 than the linear models tested.  \n",
    "However, precision and recall co-vary depending on the chosen separation threshold, which can be modified depending on the interest in the model. In this case, the model with the best precision-recall compromise appears to be gradient boosting, as it has a higher AUC of the precision-recall curve than the others. This model will therefore be chosen for hyperparameterization."
   ]
  },
  {
   "cell_type": "markdown",
   "metadata": {},
   "source": [
    "### Optimisation"
   ]
  },
  {
   "cell_type": "markdown",
   "metadata": {},
   "source": [
    "Firstly, given the strong class imbalance on the target, it is interesting to consider using another loss for training the gradient boosting model. In particular, the *focal loss* is a function derived from the *binary cross-entropy* allowing to give more weight to the strongest errors. This could be of interest given the potential number of false positives in this dataset."
   ]
  },
  {
   "cell_type": "code",
   "execution_count": null,
   "metadata": {},
   "outputs": [],
   "source": [
    "experiment_description = \"This experiment aims to optimize the gradient boosting machine to predict the risk of heart attack.\"\n",
    "\n",
    "experiment_tags = {\n",
    "    \"project_name\": \"heart-disease\",\n",
    "    \"mlflow.note.content\": experiment_description,\n",
    "}\n",
    "\n",
    "general_experiment = client.create_experiment(name=\"Optimize GBM\", tags=experiment_tags)"
   ]
  },
  {
   "cell_type": "code",
   "execution_count": null,
   "metadata": {},
   "outputs": [
    {
     "name": "stdout",
     "output_type": "stream",
     "text": [
      "Training until validation scores don't improve for 10 rounds\n",
      "Early stopping, best iteration is:\n",
      "[14]\tvalid_0's auc: 0.150803\n",
      "Training until validation scores don't improve for 10 rounds\n",
      "Early stopping, best iteration is:\n",
      "[12]\tvalid_0's auc: 0.149602\n",
      "Training until validation scores don't improve for 10 rounds\n",
      "Early stopping, best iteration is:\n",
      "[14]\tvalid_0's auc: 0.161198\n",
      "Training until validation scores don't improve for 10 rounds\n",
      "Early stopping, best iteration is:\n",
      "[13]\tvalid_0's auc: 0.163356\n",
      "Training until validation scores don't improve for 10 rounds\n",
      "Early stopping, best iteration is:\n",
      "[14]\tvalid_0's auc: 0.149995\n",
      "Using the focal loss yields the following performance: PR AUC = 0.049±0.008.\n"
     ]
    }
   ],
   "source": [
    "score_mean, score_std = uu.gradient_boosting_focal(\n",
    "    X_train, y_train, experiment=\"Optimize GBM\", k=5, early_stopping_rounds=50\n",
    ")\n",
    "print(\n",
    "    f\"Using the focal loss yields the following performance: PR AUC = {score_mean:.3f}±{score_std:.3f}.\"\n",
    ")"
   ]
  },
  {
   "cell_type": "markdown",
   "metadata": {},
   "source": [
    "Using focal loss gives very poor performances, about as good as a dummy classifier. So we stick to using binary cross-entropy."
   ]
  },
  {
   "cell_type": "markdown",
   "metadata": {},
   "source": [
    "In a second step, we seek to hyperparameterize the gradient boosting model. To do this, we use the Tree Parzen Estimator algorithm implemented in Optuna to explore the hyperparameter space more efficiently. We choose to increase the number of *ei estimates* and move to a multivariate model in order to further explore hyperparameter combinations."
   ]
  },
  {
   "cell_type": "code",
   "execution_count": null,
   "metadata": {},
   "outputs": [],
   "source": [
    "study = uu.hyperparameterize(\n",
    "    X_train,\n",
    "    y_train,\n",
    "    n_trials=100,\n",
    "    experiment=\"Optimize GBM\",\n",
    "    k=5,\n",
    "    early_stopping_rounds=10,\n",
    ")"
   ]
  },
  {
   "cell_type": "code",
   "execution_count": 44,
   "metadata": {},
   "outputs": [
    {
     "data": {
      "application/vnd.plotly.v1+json": {
       "config": {
        "plotlyServerURL": "https://plot.ly"
       },
       "data": [
        {
         "mode": "markers",
         "name": "Objective Value",
         "type": "scatter",
         "x": [
          0,
          1,
          2,
          3,
          4,
          5,
          6,
          7,
          8,
          9,
          10,
          11,
          12,
          13,
          14,
          15,
          16,
          17,
          18,
          19,
          20,
          21,
          22,
          23,
          24,
          25,
          26,
          27,
          28,
          29,
          30,
          31,
          32,
          33,
          34,
          35,
          36,
          37,
          38,
          39,
          40,
          41,
          42,
          43,
          44,
          45,
          46,
          47,
          48,
          49,
          50,
          51,
          52,
          53,
          54,
          55,
          56,
          57,
          58,
          59,
          60,
          61,
          62,
          63,
          64,
          65,
          66,
          67,
          68,
          69,
          70,
          71,
          72,
          73,
          74,
          75,
          76,
          77,
          78,
          79,
          80,
          81,
          82,
          83,
          84,
          85,
          86,
          87,
          88,
          89,
          90,
          91,
          92,
          93,
          94,
          95,
          96,
          97,
          98,
          99
         ],
         "y": [
          0.39182376111510236,
          0.38054283205066075,
          0.3998586287146968,
          0.40197997007673525,
          0.38204680732861007,
          0.3621314144669455,
          0.40452942434479294,
          0.40124941922206403,
          0.3960095210770486,
          0.3979163338962334,
          0.4049713807154186,
          0.4031020650376186,
          0.40178583330716916,
          0.40514663992703176,
          0.4047734951573504,
          0.39723780178222867,
          0.39587331614570537,
          0.4041457593635869,
          0.4052451467230889,
          0.4051608093445803,
          0.4001325078538727,
          0.4035399125304681,
          0.4026640388410758,
          0.3858058181060292,
          0.40514997189131663,
          0.4020623433346001,
          0.4020416406209839,
          0.39977803324285377,
          0.40536363054452773,
          0.4040760604782044,
          0.4016521736118273,
          0.4033781509992308,
          0.39296188819674394,
          0.4047539042038597,
          0.4043950021317727,
          0.40114636434375717,
          0.4048585020565863,
          0.40279683664868193,
          0.4030606417852117,
          0.40354622933647677,
          0.40385537409589034,
          0.40380472191193917,
          0.40289174753804435,
          0.40190573248436373,
          0.40061787173306646,
          0.3921317585517745,
          0.4041682935994588,
          0.4017328316605697,
          0.40371785359083734,
          0.40055776712018065,
          0.40041110920692785,
          0.40073085529765307,
          0.4032801273968162,
          0.4051443161538467,
          0.4038914161693364,
          0.4046661073029565,
          0.40093826803653887,
          0.4059063101694792,
          0.4028955397312908,
          0.4024877895433029,
          0.4033058770030137,
          0.40424847085484006,
          0.4042947936448087,
          0.4052879027605412,
          0.4016719747281433,
          0.40294325129844477,
          0.400930533413129,
          0.40113915551057655,
          0.404247723627543,
          0.39586628089699677,
          0.40136652030920467,
          0.404977360220518,
          0.40593501788359215,
          0.4055449530148622,
          0.40472471784964376,
          0.40277625894195407,
          0.4040682432454544,
          0.4060528828413738,
          0.38469296184598994,
          0.4022707193102912,
          0.3881104503133887,
          0.40329721545051245,
          0.40496998432026016,
          0.40176845948548967,
          0.4025564883313143,
          0.3986461166852012,
          0.3950790615598849,
          0.4011066532655806,
          0.4032150974647181,
          0.4053255113944848,
          0.38652956497842444,
          0.4038381247023029,
          0.40649324279119164,
          0.4025777736833528,
          0.4058465568691971,
          0.40524368219822593,
          0.40262538137071413,
          0.40257631737821853,
          0.40664850042285094,
          0.4044443331554861
         ]
        },
        {
         "mode": "lines",
         "name": "Best Value",
         "type": "scatter",
         "x": [
          0,
          1,
          2,
          3,
          4,
          5,
          6,
          7,
          8,
          9,
          10,
          11,
          12,
          13,
          14,
          15,
          16,
          17,
          18,
          19,
          20,
          21,
          22,
          23,
          24,
          25,
          26,
          27,
          28,
          29,
          30,
          31,
          32,
          33,
          34,
          35,
          36,
          37,
          38,
          39,
          40,
          41,
          42,
          43,
          44,
          45,
          46,
          47,
          48,
          49,
          50,
          51,
          52,
          53,
          54,
          55,
          56,
          57,
          58,
          59,
          60,
          61,
          62,
          63,
          64,
          65,
          66,
          67,
          68,
          69,
          70,
          71,
          72,
          73,
          74,
          75,
          76,
          77,
          78,
          79,
          80,
          81,
          82,
          83,
          84,
          85,
          86,
          87,
          88,
          89,
          90,
          91,
          92,
          93,
          94,
          95,
          96,
          97,
          98,
          99
         ],
         "y": [
          0.39182376111510236,
          0.39182376111510236,
          0.3998586287146968,
          0.40197997007673525,
          0.40197997007673525,
          0.40197997007673525,
          0.40452942434479294,
          0.40452942434479294,
          0.40452942434479294,
          0.40452942434479294,
          0.4049713807154186,
          0.4049713807154186,
          0.4049713807154186,
          0.40514663992703176,
          0.40514663992703176,
          0.40514663992703176,
          0.40514663992703176,
          0.40514663992703176,
          0.4052451467230889,
          0.4052451467230889,
          0.4052451467230889,
          0.4052451467230889,
          0.4052451467230889,
          0.4052451467230889,
          0.4052451467230889,
          0.4052451467230889,
          0.4052451467230889,
          0.4052451467230889,
          0.40536363054452773,
          0.40536363054452773,
          0.40536363054452773,
          0.40536363054452773,
          0.40536363054452773,
          0.40536363054452773,
          0.40536363054452773,
          0.40536363054452773,
          0.40536363054452773,
          0.40536363054452773,
          0.40536363054452773,
          0.40536363054452773,
          0.40536363054452773,
          0.40536363054452773,
          0.40536363054452773,
          0.40536363054452773,
          0.40536363054452773,
          0.40536363054452773,
          0.40536363054452773,
          0.40536363054452773,
          0.40536363054452773,
          0.40536363054452773,
          0.40536363054452773,
          0.40536363054452773,
          0.40536363054452773,
          0.40536363054452773,
          0.40536363054452773,
          0.40536363054452773,
          0.40536363054452773,
          0.4059063101694792,
          0.4059063101694792,
          0.4059063101694792,
          0.4059063101694792,
          0.4059063101694792,
          0.4059063101694792,
          0.4059063101694792,
          0.4059063101694792,
          0.4059063101694792,
          0.4059063101694792,
          0.4059063101694792,
          0.4059063101694792,
          0.4059063101694792,
          0.4059063101694792,
          0.4059063101694792,
          0.40593501788359215,
          0.40593501788359215,
          0.40593501788359215,
          0.40593501788359215,
          0.40593501788359215,
          0.4060528828413738,
          0.4060528828413738,
          0.4060528828413738,
          0.4060528828413738,
          0.4060528828413738,
          0.4060528828413738,
          0.4060528828413738,
          0.4060528828413738,
          0.4060528828413738,
          0.4060528828413738,
          0.4060528828413738,
          0.4060528828413738,
          0.4060528828413738,
          0.4060528828413738,
          0.4060528828413738,
          0.40649324279119164,
          0.40649324279119164,
          0.40649324279119164,
          0.40649324279119164,
          0.40649324279119164,
          0.40649324279119164,
          0.40664850042285094,
          0.40664850042285094
         ]
        },
        {
         "marker": {
          "color": "#cccccc"
         },
         "mode": "markers",
         "name": "Infeasible Trial",
         "showlegend": false,
         "type": "scatter",
         "x": [],
         "y": []
        }
       ],
       "layout": {
        "template": {
         "data": {
          "bar": [
           {
            "error_x": {
             "color": "#2a3f5f"
            },
            "error_y": {
             "color": "#2a3f5f"
            },
            "marker": {
             "line": {
              "color": "#E5ECF6",
              "width": 0.5
             },
             "pattern": {
              "fillmode": "overlay",
              "size": 10,
              "solidity": 0.2
             }
            },
            "type": "bar"
           }
          ],
          "barpolar": [
           {
            "marker": {
             "line": {
              "color": "#E5ECF6",
              "width": 0.5
             },
             "pattern": {
              "fillmode": "overlay",
              "size": 10,
              "solidity": 0.2
             }
            },
            "type": "barpolar"
           }
          ],
          "carpet": [
           {
            "aaxis": {
             "endlinecolor": "#2a3f5f",
             "gridcolor": "white",
             "linecolor": "white",
             "minorgridcolor": "white",
             "startlinecolor": "#2a3f5f"
            },
            "baxis": {
             "endlinecolor": "#2a3f5f",
             "gridcolor": "white",
             "linecolor": "white",
             "minorgridcolor": "white",
             "startlinecolor": "#2a3f5f"
            },
            "type": "carpet"
           }
          ],
          "choropleth": [
           {
            "colorbar": {
             "outlinewidth": 0,
             "ticks": ""
            },
            "type": "choropleth"
           }
          ],
          "contour": [
           {
            "colorbar": {
             "outlinewidth": 0,
             "ticks": ""
            },
            "colorscale": [
             [
              0,
              "#0d0887"
             ],
             [
              0.1111111111111111,
              "#46039f"
             ],
             [
              0.2222222222222222,
              "#7201a8"
             ],
             [
              0.3333333333333333,
              "#9c179e"
             ],
             [
              0.4444444444444444,
              "#bd3786"
             ],
             [
              0.5555555555555556,
              "#d8576b"
             ],
             [
              0.6666666666666666,
              "#ed7953"
             ],
             [
              0.7777777777777778,
              "#fb9f3a"
             ],
             [
              0.8888888888888888,
              "#fdca26"
             ],
             [
              1,
              "#f0f921"
             ]
            ],
            "type": "contour"
           }
          ],
          "contourcarpet": [
           {
            "colorbar": {
             "outlinewidth": 0,
             "ticks": ""
            },
            "type": "contourcarpet"
           }
          ],
          "heatmap": [
           {
            "colorbar": {
             "outlinewidth": 0,
             "ticks": ""
            },
            "colorscale": [
             [
              0,
              "#0d0887"
             ],
             [
              0.1111111111111111,
              "#46039f"
             ],
             [
              0.2222222222222222,
              "#7201a8"
             ],
             [
              0.3333333333333333,
              "#9c179e"
             ],
             [
              0.4444444444444444,
              "#bd3786"
             ],
             [
              0.5555555555555556,
              "#d8576b"
             ],
             [
              0.6666666666666666,
              "#ed7953"
             ],
             [
              0.7777777777777778,
              "#fb9f3a"
             ],
             [
              0.8888888888888888,
              "#fdca26"
             ],
             [
              1,
              "#f0f921"
             ]
            ],
            "type": "heatmap"
           }
          ],
          "heatmapgl": [
           {
            "colorbar": {
             "outlinewidth": 0,
             "ticks": ""
            },
            "colorscale": [
             [
              0,
              "#0d0887"
             ],
             [
              0.1111111111111111,
              "#46039f"
             ],
             [
              0.2222222222222222,
              "#7201a8"
             ],
             [
              0.3333333333333333,
              "#9c179e"
             ],
             [
              0.4444444444444444,
              "#bd3786"
             ],
             [
              0.5555555555555556,
              "#d8576b"
             ],
             [
              0.6666666666666666,
              "#ed7953"
             ],
             [
              0.7777777777777778,
              "#fb9f3a"
             ],
             [
              0.8888888888888888,
              "#fdca26"
             ],
             [
              1,
              "#f0f921"
             ]
            ],
            "type": "heatmapgl"
           }
          ],
          "histogram": [
           {
            "marker": {
             "pattern": {
              "fillmode": "overlay",
              "size": 10,
              "solidity": 0.2
             }
            },
            "type": "histogram"
           }
          ],
          "histogram2d": [
           {
            "colorbar": {
             "outlinewidth": 0,
             "ticks": ""
            },
            "colorscale": [
             [
              0,
              "#0d0887"
             ],
             [
              0.1111111111111111,
              "#46039f"
             ],
             [
              0.2222222222222222,
              "#7201a8"
             ],
             [
              0.3333333333333333,
              "#9c179e"
             ],
             [
              0.4444444444444444,
              "#bd3786"
             ],
             [
              0.5555555555555556,
              "#d8576b"
             ],
             [
              0.6666666666666666,
              "#ed7953"
             ],
             [
              0.7777777777777778,
              "#fb9f3a"
             ],
             [
              0.8888888888888888,
              "#fdca26"
             ],
             [
              1,
              "#f0f921"
             ]
            ],
            "type": "histogram2d"
           }
          ],
          "histogram2dcontour": [
           {
            "colorbar": {
             "outlinewidth": 0,
             "ticks": ""
            },
            "colorscale": [
             [
              0,
              "#0d0887"
             ],
             [
              0.1111111111111111,
              "#46039f"
             ],
             [
              0.2222222222222222,
              "#7201a8"
             ],
             [
              0.3333333333333333,
              "#9c179e"
             ],
             [
              0.4444444444444444,
              "#bd3786"
             ],
             [
              0.5555555555555556,
              "#d8576b"
             ],
             [
              0.6666666666666666,
              "#ed7953"
             ],
             [
              0.7777777777777778,
              "#fb9f3a"
             ],
             [
              0.8888888888888888,
              "#fdca26"
             ],
             [
              1,
              "#f0f921"
             ]
            ],
            "type": "histogram2dcontour"
           }
          ],
          "mesh3d": [
           {
            "colorbar": {
             "outlinewidth": 0,
             "ticks": ""
            },
            "type": "mesh3d"
           }
          ],
          "parcoords": [
           {
            "line": {
             "colorbar": {
              "outlinewidth": 0,
              "ticks": ""
             }
            },
            "type": "parcoords"
           }
          ],
          "pie": [
           {
            "automargin": true,
            "type": "pie"
           }
          ],
          "scatter": [
           {
            "fillpattern": {
             "fillmode": "overlay",
             "size": 10,
             "solidity": 0.2
            },
            "type": "scatter"
           }
          ],
          "scatter3d": [
           {
            "line": {
             "colorbar": {
              "outlinewidth": 0,
              "ticks": ""
             }
            },
            "marker": {
             "colorbar": {
              "outlinewidth": 0,
              "ticks": ""
             }
            },
            "type": "scatter3d"
           }
          ],
          "scattercarpet": [
           {
            "marker": {
             "colorbar": {
              "outlinewidth": 0,
              "ticks": ""
             }
            },
            "type": "scattercarpet"
           }
          ],
          "scattergeo": [
           {
            "marker": {
             "colorbar": {
              "outlinewidth": 0,
              "ticks": ""
             }
            },
            "type": "scattergeo"
           }
          ],
          "scattergl": [
           {
            "marker": {
             "colorbar": {
              "outlinewidth": 0,
              "ticks": ""
             }
            },
            "type": "scattergl"
           }
          ],
          "scattermapbox": [
           {
            "marker": {
             "colorbar": {
              "outlinewidth": 0,
              "ticks": ""
             }
            },
            "type": "scattermapbox"
           }
          ],
          "scatterpolar": [
           {
            "marker": {
             "colorbar": {
              "outlinewidth": 0,
              "ticks": ""
             }
            },
            "type": "scatterpolar"
           }
          ],
          "scatterpolargl": [
           {
            "marker": {
             "colorbar": {
              "outlinewidth": 0,
              "ticks": ""
             }
            },
            "type": "scatterpolargl"
           }
          ],
          "scatterternary": [
           {
            "marker": {
             "colorbar": {
              "outlinewidth": 0,
              "ticks": ""
             }
            },
            "type": "scatterternary"
           }
          ],
          "surface": [
           {
            "colorbar": {
             "outlinewidth": 0,
             "ticks": ""
            },
            "colorscale": [
             [
              0,
              "#0d0887"
             ],
             [
              0.1111111111111111,
              "#46039f"
             ],
             [
              0.2222222222222222,
              "#7201a8"
             ],
             [
              0.3333333333333333,
              "#9c179e"
             ],
             [
              0.4444444444444444,
              "#bd3786"
             ],
             [
              0.5555555555555556,
              "#d8576b"
             ],
             [
              0.6666666666666666,
              "#ed7953"
             ],
             [
              0.7777777777777778,
              "#fb9f3a"
             ],
             [
              0.8888888888888888,
              "#fdca26"
             ],
             [
              1,
              "#f0f921"
             ]
            ],
            "type": "surface"
           }
          ],
          "table": [
           {
            "cells": {
             "fill": {
              "color": "#EBF0F8"
             },
             "line": {
              "color": "white"
             }
            },
            "header": {
             "fill": {
              "color": "#C8D4E3"
             },
             "line": {
              "color": "white"
             }
            },
            "type": "table"
           }
          ]
         },
         "layout": {
          "annotationdefaults": {
           "arrowcolor": "#2a3f5f",
           "arrowhead": 0,
           "arrowwidth": 1
          },
          "autotypenumbers": "strict",
          "coloraxis": {
           "colorbar": {
            "outlinewidth": 0,
            "ticks": ""
           }
          },
          "colorscale": {
           "diverging": [
            [
             0,
             "#8e0152"
            ],
            [
             0.1,
             "#c51b7d"
            ],
            [
             0.2,
             "#de77ae"
            ],
            [
             0.3,
             "#f1b6da"
            ],
            [
             0.4,
             "#fde0ef"
            ],
            [
             0.5,
             "#f7f7f7"
            ],
            [
             0.6,
             "#e6f5d0"
            ],
            [
             0.7,
             "#b8e186"
            ],
            [
             0.8,
             "#7fbc41"
            ],
            [
             0.9,
             "#4d9221"
            ],
            [
             1,
             "#276419"
            ]
           ],
           "sequential": [
            [
             0,
             "#0d0887"
            ],
            [
             0.1111111111111111,
             "#46039f"
            ],
            [
             0.2222222222222222,
             "#7201a8"
            ],
            [
             0.3333333333333333,
             "#9c179e"
            ],
            [
             0.4444444444444444,
             "#bd3786"
            ],
            [
             0.5555555555555556,
             "#d8576b"
            ],
            [
             0.6666666666666666,
             "#ed7953"
            ],
            [
             0.7777777777777778,
             "#fb9f3a"
            ],
            [
             0.8888888888888888,
             "#fdca26"
            ],
            [
             1,
             "#f0f921"
            ]
           ],
           "sequentialminus": [
            [
             0,
             "#0d0887"
            ],
            [
             0.1111111111111111,
             "#46039f"
            ],
            [
             0.2222222222222222,
             "#7201a8"
            ],
            [
             0.3333333333333333,
             "#9c179e"
            ],
            [
             0.4444444444444444,
             "#bd3786"
            ],
            [
             0.5555555555555556,
             "#d8576b"
            ],
            [
             0.6666666666666666,
             "#ed7953"
            ],
            [
             0.7777777777777778,
             "#fb9f3a"
            ],
            [
             0.8888888888888888,
             "#fdca26"
            ],
            [
             1,
             "#f0f921"
            ]
           ]
          },
          "colorway": [
           "#636efa",
           "#EF553B",
           "#00cc96",
           "#ab63fa",
           "#FFA15A",
           "#19d3f3",
           "#FF6692",
           "#B6E880",
           "#FF97FF",
           "#FECB52"
          ],
          "font": {
           "color": "#2a3f5f"
          },
          "geo": {
           "bgcolor": "white",
           "lakecolor": "white",
           "landcolor": "#E5ECF6",
           "showlakes": true,
           "showland": true,
           "subunitcolor": "white"
          },
          "hoverlabel": {
           "align": "left"
          },
          "hovermode": "closest",
          "mapbox": {
           "style": "light"
          },
          "paper_bgcolor": "white",
          "plot_bgcolor": "#E5ECF6",
          "polar": {
           "angularaxis": {
            "gridcolor": "white",
            "linecolor": "white",
            "ticks": ""
           },
           "bgcolor": "#E5ECF6",
           "radialaxis": {
            "gridcolor": "white",
            "linecolor": "white",
            "ticks": ""
           }
          },
          "scene": {
           "xaxis": {
            "backgroundcolor": "#E5ECF6",
            "gridcolor": "white",
            "gridwidth": 2,
            "linecolor": "white",
            "showbackground": true,
            "ticks": "",
            "zerolinecolor": "white"
           },
           "yaxis": {
            "backgroundcolor": "#E5ECF6",
            "gridcolor": "white",
            "gridwidth": 2,
            "linecolor": "white",
            "showbackground": true,
            "ticks": "",
            "zerolinecolor": "white"
           },
           "zaxis": {
            "backgroundcolor": "#E5ECF6",
            "gridcolor": "white",
            "gridwidth": 2,
            "linecolor": "white",
            "showbackground": true,
            "ticks": "",
            "zerolinecolor": "white"
           }
          },
          "shapedefaults": {
           "line": {
            "color": "#2a3f5f"
           }
          },
          "ternary": {
           "aaxis": {
            "gridcolor": "white",
            "linecolor": "white",
            "ticks": ""
           },
           "baxis": {
            "gridcolor": "white",
            "linecolor": "white",
            "ticks": ""
           },
           "bgcolor": "#E5ECF6",
           "caxis": {
            "gridcolor": "white",
            "linecolor": "white",
            "ticks": ""
           }
          },
          "title": {
           "x": 0.05
          },
          "xaxis": {
           "automargin": true,
           "gridcolor": "white",
           "linecolor": "white",
           "ticks": "",
           "title": {
            "standoff": 15
           },
           "zerolinecolor": "white",
           "zerolinewidth": 2
          },
          "yaxis": {
           "automargin": true,
           "gridcolor": "white",
           "linecolor": "white",
           "ticks": "",
           "title": {
            "standoff": 15
           },
           "zerolinecolor": "white",
           "zerolinewidth": 2
          }
         }
        },
        "title": {
         "text": "Optimization History Plot"
        },
        "xaxis": {
         "title": {
          "text": "Trial"
         }
        },
        "yaxis": {
         "title": {
          "text": "Objective Value"
         }
        }
       }
      }
     },
     "metadata": {},
     "output_type": "display_data"
    }
   ],
   "source": [
    "plot_optimization_history(study)"
   ]
  },
  {
   "cell_type": "markdown",
   "metadata": {},
   "source": [
    "The PR AUC used here as a hyperparameterization objective tends to have difficulty increasing beyond 10 trials. This might be due to the number of dimensions simultaneously explored."
   ]
  },
  {
   "cell_type": "code",
   "execution_count": 47,
   "metadata": {},
   "outputs": [
    {
     "data": {
      "application/vnd.plotly.v1+json": {
       "config": {
        "plotlyServerURL": "https://plot.ly"
       },
       "data": [
        {
         "cliponaxis": false,
         "hovertemplate": [
          "reg_alpha (FloatDistribution): 0.0013167202635523568<extra></extra>",
          "reg_lambda (FloatDistribution): 0.0021989086744610515<extra></extra>",
          "colsample_bytree (FloatDistribution): 0.013804840488978938<extra></extra>",
          "min_child_samples (IntDistribution): 0.01510374246575931<extra></extra>",
          "max_depth (IntDistribution): 0.03330126011790116<extra></extra>",
          "subsample (FloatDistribution): 0.04554957383398619<extra></extra>",
          "num_leaves (IntDistribution): 0.10585513756976517<extra></extra>",
          "learning_rate (FloatDistribution): 0.7828698165855957<extra></extra>"
         ],
         "name": "Objective Value",
         "orientation": "h",
         "text": [
          "<0.01",
          "<0.01",
          "0.01",
          "0.02",
          "0.03",
          "0.05",
          "0.11",
          "0.78"
         ],
         "textposition": "outside",
         "type": "bar",
         "x": [
          0.0013167202635523568,
          0.0021989086744610515,
          0.013804840488978938,
          0.01510374246575931,
          0.03330126011790116,
          0.04554957383398619,
          0.10585513756976517,
          0.7828698165855957
         ],
         "y": [
          "reg_alpha",
          "reg_lambda",
          "colsample_bytree",
          "min_child_samples",
          "max_depth",
          "subsample",
          "num_leaves",
          "learning_rate"
         ]
        }
       ],
       "layout": {
        "template": {
         "data": {
          "bar": [
           {
            "error_x": {
             "color": "#2a3f5f"
            },
            "error_y": {
             "color": "#2a3f5f"
            },
            "marker": {
             "line": {
              "color": "#E5ECF6",
              "width": 0.5
             },
             "pattern": {
              "fillmode": "overlay",
              "size": 10,
              "solidity": 0.2
             }
            },
            "type": "bar"
           }
          ],
          "barpolar": [
           {
            "marker": {
             "line": {
              "color": "#E5ECF6",
              "width": 0.5
             },
             "pattern": {
              "fillmode": "overlay",
              "size": 10,
              "solidity": 0.2
             }
            },
            "type": "barpolar"
           }
          ],
          "carpet": [
           {
            "aaxis": {
             "endlinecolor": "#2a3f5f",
             "gridcolor": "white",
             "linecolor": "white",
             "minorgridcolor": "white",
             "startlinecolor": "#2a3f5f"
            },
            "baxis": {
             "endlinecolor": "#2a3f5f",
             "gridcolor": "white",
             "linecolor": "white",
             "minorgridcolor": "white",
             "startlinecolor": "#2a3f5f"
            },
            "type": "carpet"
           }
          ],
          "choropleth": [
           {
            "colorbar": {
             "outlinewidth": 0,
             "ticks": ""
            },
            "type": "choropleth"
           }
          ],
          "contour": [
           {
            "colorbar": {
             "outlinewidth": 0,
             "ticks": ""
            },
            "colorscale": [
             [
              0,
              "#0d0887"
             ],
             [
              0.1111111111111111,
              "#46039f"
             ],
             [
              0.2222222222222222,
              "#7201a8"
             ],
             [
              0.3333333333333333,
              "#9c179e"
             ],
             [
              0.4444444444444444,
              "#bd3786"
             ],
             [
              0.5555555555555556,
              "#d8576b"
             ],
             [
              0.6666666666666666,
              "#ed7953"
             ],
             [
              0.7777777777777778,
              "#fb9f3a"
             ],
             [
              0.8888888888888888,
              "#fdca26"
             ],
             [
              1,
              "#f0f921"
             ]
            ],
            "type": "contour"
           }
          ],
          "contourcarpet": [
           {
            "colorbar": {
             "outlinewidth": 0,
             "ticks": ""
            },
            "type": "contourcarpet"
           }
          ],
          "heatmap": [
           {
            "colorbar": {
             "outlinewidth": 0,
             "ticks": ""
            },
            "colorscale": [
             [
              0,
              "#0d0887"
             ],
             [
              0.1111111111111111,
              "#46039f"
             ],
             [
              0.2222222222222222,
              "#7201a8"
             ],
             [
              0.3333333333333333,
              "#9c179e"
             ],
             [
              0.4444444444444444,
              "#bd3786"
             ],
             [
              0.5555555555555556,
              "#d8576b"
             ],
             [
              0.6666666666666666,
              "#ed7953"
             ],
             [
              0.7777777777777778,
              "#fb9f3a"
             ],
             [
              0.8888888888888888,
              "#fdca26"
             ],
             [
              1,
              "#f0f921"
             ]
            ],
            "type": "heatmap"
           }
          ],
          "heatmapgl": [
           {
            "colorbar": {
             "outlinewidth": 0,
             "ticks": ""
            },
            "colorscale": [
             [
              0,
              "#0d0887"
             ],
             [
              0.1111111111111111,
              "#46039f"
             ],
             [
              0.2222222222222222,
              "#7201a8"
             ],
             [
              0.3333333333333333,
              "#9c179e"
             ],
             [
              0.4444444444444444,
              "#bd3786"
             ],
             [
              0.5555555555555556,
              "#d8576b"
             ],
             [
              0.6666666666666666,
              "#ed7953"
             ],
             [
              0.7777777777777778,
              "#fb9f3a"
             ],
             [
              0.8888888888888888,
              "#fdca26"
             ],
             [
              1,
              "#f0f921"
             ]
            ],
            "type": "heatmapgl"
           }
          ],
          "histogram": [
           {
            "marker": {
             "pattern": {
              "fillmode": "overlay",
              "size": 10,
              "solidity": 0.2
             }
            },
            "type": "histogram"
           }
          ],
          "histogram2d": [
           {
            "colorbar": {
             "outlinewidth": 0,
             "ticks": ""
            },
            "colorscale": [
             [
              0,
              "#0d0887"
             ],
             [
              0.1111111111111111,
              "#46039f"
             ],
             [
              0.2222222222222222,
              "#7201a8"
             ],
             [
              0.3333333333333333,
              "#9c179e"
             ],
             [
              0.4444444444444444,
              "#bd3786"
             ],
             [
              0.5555555555555556,
              "#d8576b"
             ],
             [
              0.6666666666666666,
              "#ed7953"
             ],
             [
              0.7777777777777778,
              "#fb9f3a"
             ],
             [
              0.8888888888888888,
              "#fdca26"
             ],
             [
              1,
              "#f0f921"
             ]
            ],
            "type": "histogram2d"
           }
          ],
          "histogram2dcontour": [
           {
            "colorbar": {
             "outlinewidth": 0,
             "ticks": ""
            },
            "colorscale": [
             [
              0,
              "#0d0887"
             ],
             [
              0.1111111111111111,
              "#46039f"
             ],
             [
              0.2222222222222222,
              "#7201a8"
             ],
             [
              0.3333333333333333,
              "#9c179e"
             ],
             [
              0.4444444444444444,
              "#bd3786"
             ],
             [
              0.5555555555555556,
              "#d8576b"
             ],
             [
              0.6666666666666666,
              "#ed7953"
             ],
             [
              0.7777777777777778,
              "#fb9f3a"
             ],
             [
              0.8888888888888888,
              "#fdca26"
             ],
             [
              1,
              "#f0f921"
             ]
            ],
            "type": "histogram2dcontour"
           }
          ],
          "mesh3d": [
           {
            "colorbar": {
             "outlinewidth": 0,
             "ticks": ""
            },
            "type": "mesh3d"
           }
          ],
          "parcoords": [
           {
            "line": {
             "colorbar": {
              "outlinewidth": 0,
              "ticks": ""
             }
            },
            "type": "parcoords"
           }
          ],
          "pie": [
           {
            "automargin": true,
            "type": "pie"
           }
          ],
          "scatter": [
           {
            "fillpattern": {
             "fillmode": "overlay",
             "size": 10,
             "solidity": 0.2
            },
            "type": "scatter"
           }
          ],
          "scatter3d": [
           {
            "line": {
             "colorbar": {
              "outlinewidth": 0,
              "ticks": ""
             }
            },
            "marker": {
             "colorbar": {
              "outlinewidth": 0,
              "ticks": ""
             }
            },
            "type": "scatter3d"
           }
          ],
          "scattercarpet": [
           {
            "marker": {
             "colorbar": {
              "outlinewidth": 0,
              "ticks": ""
             }
            },
            "type": "scattercarpet"
           }
          ],
          "scattergeo": [
           {
            "marker": {
             "colorbar": {
              "outlinewidth": 0,
              "ticks": ""
             }
            },
            "type": "scattergeo"
           }
          ],
          "scattergl": [
           {
            "marker": {
             "colorbar": {
              "outlinewidth": 0,
              "ticks": ""
             }
            },
            "type": "scattergl"
           }
          ],
          "scattermapbox": [
           {
            "marker": {
             "colorbar": {
              "outlinewidth": 0,
              "ticks": ""
             }
            },
            "type": "scattermapbox"
           }
          ],
          "scatterpolar": [
           {
            "marker": {
             "colorbar": {
              "outlinewidth": 0,
              "ticks": ""
             }
            },
            "type": "scatterpolar"
           }
          ],
          "scatterpolargl": [
           {
            "marker": {
             "colorbar": {
              "outlinewidth": 0,
              "ticks": ""
             }
            },
            "type": "scatterpolargl"
           }
          ],
          "scatterternary": [
           {
            "marker": {
             "colorbar": {
              "outlinewidth": 0,
              "ticks": ""
             }
            },
            "type": "scatterternary"
           }
          ],
          "surface": [
           {
            "colorbar": {
             "outlinewidth": 0,
             "ticks": ""
            },
            "colorscale": [
             [
              0,
              "#0d0887"
             ],
             [
              0.1111111111111111,
              "#46039f"
             ],
             [
              0.2222222222222222,
              "#7201a8"
             ],
             [
              0.3333333333333333,
              "#9c179e"
             ],
             [
              0.4444444444444444,
              "#bd3786"
             ],
             [
              0.5555555555555556,
              "#d8576b"
             ],
             [
              0.6666666666666666,
              "#ed7953"
             ],
             [
              0.7777777777777778,
              "#fb9f3a"
             ],
             [
              0.8888888888888888,
              "#fdca26"
             ],
             [
              1,
              "#f0f921"
             ]
            ],
            "type": "surface"
           }
          ],
          "table": [
           {
            "cells": {
             "fill": {
              "color": "#EBF0F8"
             },
             "line": {
              "color": "white"
             }
            },
            "header": {
             "fill": {
              "color": "#C8D4E3"
             },
             "line": {
              "color": "white"
             }
            },
            "type": "table"
           }
          ]
         },
         "layout": {
          "annotationdefaults": {
           "arrowcolor": "#2a3f5f",
           "arrowhead": 0,
           "arrowwidth": 1
          },
          "autotypenumbers": "strict",
          "coloraxis": {
           "colorbar": {
            "outlinewidth": 0,
            "ticks": ""
           }
          },
          "colorscale": {
           "diverging": [
            [
             0,
             "#8e0152"
            ],
            [
             0.1,
             "#c51b7d"
            ],
            [
             0.2,
             "#de77ae"
            ],
            [
             0.3,
             "#f1b6da"
            ],
            [
             0.4,
             "#fde0ef"
            ],
            [
             0.5,
             "#f7f7f7"
            ],
            [
             0.6,
             "#e6f5d0"
            ],
            [
             0.7,
             "#b8e186"
            ],
            [
             0.8,
             "#7fbc41"
            ],
            [
             0.9,
             "#4d9221"
            ],
            [
             1,
             "#276419"
            ]
           ],
           "sequential": [
            [
             0,
             "#0d0887"
            ],
            [
             0.1111111111111111,
             "#46039f"
            ],
            [
             0.2222222222222222,
             "#7201a8"
            ],
            [
             0.3333333333333333,
             "#9c179e"
            ],
            [
             0.4444444444444444,
             "#bd3786"
            ],
            [
             0.5555555555555556,
             "#d8576b"
            ],
            [
             0.6666666666666666,
             "#ed7953"
            ],
            [
             0.7777777777777778,
             "#fb9f3a"
            ],
            [
             0.8888888888888888,
             "#fdca26"
            ],
            [
             1,
             "#f0f921"
            ]
           ],
           "sequentialminus": [
            [
             0,
             "#0d0887"
            ],
            [
             0.1111111111111111,
             "#46039f"
            ],
            [
             0.2222222222222222,
             "#7201a8"
            ],
            [
             0.3333333333333333,
             "#9c179e"
            ],
            [
             0.4444444444444444,
             "#bd3786"
            ],
            [
             0.5555555555555556,
             "#d8576b"
            ],
            [
             0.6666666666666666,
             "#ed7953"
            ],
            [
             0.7777777777777778,
             "#fb9f3a"
            ],
            [
             0.8888888888888888,
             "#fdca26"
            ],
            [
             1,
             "#f0f921"
            ]
           ]
          },
          "colorway": [
           "#636efa",
           "#EF553B",
           "#00cc96",
           "#ab63fa",
           "#FFA15A",
           "#19d3f3",
           "#FF6692",
           "#B6E880",
           "#FF97FF",
           "#FECB52"
          ],
          "font": {
           "color": "#2a3f5f"
          },
          "geo": {
           "bgcolor": "white",
           "lakecolor": "white",
           "landcolor": "#E5ECF6",
           "showlakes": true,
           "showland": true,
           "subunitcolor": "white"
          },
          "hoverlabel": {
           "align": "left"
          },
          "hovermode": "closest",
          "mapbox": {
           "style": "light"
          },
          "paper_bgcolor": "white",
          "plot_bgcolor": "#E5ECF6",
          "polar": {
           "angularaxis": {
            "gridcolor": "white",
            "linecolor": "white",
            "ticks": ""
           },
           "bgcolor": "#E5ECF6",
           "radialaxis": {
            "gridcolor": "white",
            "linecolor": "white",
            "ticks": ""
           }
          },
          "scene": {
           "xaxis": {
            "backgroundcolor": "#E5ECF6",
            "gridcolor": "white",
            "gridwidth": 2,
            "linecolor": "white",
            "showbackground": true,
            "ticks": "",
            "zerolinecolor": "white"
           },
           "yaxis": {
            "backgroundcolor": "#E5ECF6",
            "gridcolor": "white",
            "gridwidth": 2,
            "linecolor": "white",
            "showbackground": true,
            "ticks": "",
            "zerolinecolor": "white"
           },
           "zaxis": {
            "backgroundcolor": "#E5ECF6",
            "gridcolor": "white",
            "gridwidth": 2,
            "linecolor": "white",
            "showbackground": true,
            "ticks": "",
            "zerolinecolor": "white"
           }
          },
          "shapedefaults": {
           "line": {
            "color": "#2a3f5f"
           }
          },
          "ternary": {
           "aaxis": {
            "gridcolor": "white",
            "linecolor": "white",
            "ticks": ""
           },
           "baxis": {
            "gridcolor": "white",
            "linecolor": "white",
            "ticks": ""
           },
           "bgcolor": "#E5ECF6",
           "caxis": {
            "gridcolor": "white",
            "linecolor": "white",
            "ticks": ""
           }
          },
          "title": {
           "x": 0.05
          },
          "xaxis": {
           "automargin": true,
           "gridcolor": "white",
           "linecolor": "white",
           "ticks": "",
           "title": {
            "standoff": 15
           },
           "zerolinecolor": "white",
           "zerolinewidth": 2
          },
          "yaxis": {
           "automargin": true,
           "gridcolor": "white",
           "linecolor": "white",
           "ticks": "",
           "title": {
            "standoff": 15
           },
           "zerolinecolor": "white",
           "zerolinewidth": 2
          }
         }
        },
        "title": {
         "text": "Hyperparameter Importances"
        },
        "xaxis": {
         "title": {
          "text": "Hyperparameter Importance"
         }
        },
        "yaxis": {
         "title": {
          "text": "Hyperparameter"
         }
        }
       }
      }
     },
     "metadata": {},
     "output_type": "display_data"
    }
   ],
   "source": [
    "plot_param_importances(study)"
   ]
  },
  {
   "cell_type": "markdown",
   "metadata": {},
   "source": [
    "To attempt hyperparameterization again, we will focus on the 4 most important hyperparameters: `learning_rate`, `num_leaves`, `subsample`, and `max_depth`."
   ]
  },
  {
   "cell_type": "code",
   "execution_count": 46,
   "metadata": {},
   "outputs": [
    {
     "data": {
      "application/vnd.plotly.v1+json": {
       "config": {
        "plotlyServerURL": "https://plot.ly"
       },
       "data": [
        {
         "marker": {
          "color": [
           0,
           1,
           2,
           3,
           4,
           5,
           6,
           7,
           8,
           9,
           10,
           11,
           12,
           13,
           14,
           15,
           16,
           17,
           18,
           19,
           20,
           21,
           22,
           23,
           24,
           25,
           26,
           27,
           28,
           29,
           30,
           31,
           32,
           33,
           34,
           35,
           36,
           37,
           38,
           39,
           40,
           41,
           42,
           43,
           44,
           45,
           46,
           47,
           48,
           49,
           50,
           51,
           52,
           53,
           54,
           55,
           56,
           57,
           58,
           59,
           60,
           61,
           62,
           63,
           64,
           65,
           66,
           67,
           68,
           69,
           70,
           71,
           72,
           73,
           74,
           75,
           76,
           77,
           78,
           79,
           80,
           81,
           82,
           83,
           84,
           85,
           86,
           87,
           88,
           89,
           90,
           91,
           92,
           93,
           94,
           95,
           96,
           97,
           98,
           99
          ],
          "colorbar": {
           "title": {
            "text": "Trial"
           },
           "x": 1,
           "xpad": 40
          },
          "colorscale": [
           [
            0,
            "rgb(247,251,255)"
           ],
           [
            0.125,
            "rgb(222,235,247)"
           ],
           [
            0.25,
            "rgb(198,219,239)"
           ],
           [
            0.375,
            "rgb(158,202,225)"
           ],
           [
            0.5,
            "rgb(107,174,214)"
           ],
           [
            0.625,
            "rgb(66,146,198)"
           ],
           [
            0.75,
            "rgb(33,113,181)"
           ],
           [
            0.875,
            "rgb(8,81,156)"
           ],
           [
            1,
            "rgb(8,48,107)"
           ]
          ],
          "line": {
           "color": "Grey",
           "width": 0.5
          },
          "showscale": true
         },
         "mode": "markers",
         "name": "Feasible Trial",
         "showlegend": false,
         "type": "scatter",
         "x": [
          0.7161246729613109,
          0.8183365518199919,
          0.9701925940566853,
          0.6364073139839009,
          0.6232270043888273,
          0.7451824378393097,
          0.9284159305132442,
          0.7997857154289375,
          0.6985148046605713,
          0.9676845589799081,
          0.992829737191993,
          0.9548183414649585,
          0.9769227741813081,
          0.8457625168372285,
          0.9361828722381186,
          0.841580859763287,
          0.8512772682557915,
          0.8358717451494093,
          0.7258070779532722,
          0.7131227207724564,
          0.594816531309862,
          0.8345832082530568,
          0.7447266956307528,
          0.689203756786524,
          0.6454437283877303,
          0.6682529937116197,
          0.5068782788040127,
          0.8008547644646822,
          0.6580300946935282,
          0.6626042570930772,
          0.7772116552166315,
          0.750341931191832,
          0.5860310459542537,
          0.68234364328472,
          0.6193732275260028,
          0.6646078465875443,
          0.725270773873459,
          0.6605161504052318,
          0.5963334146055665,
          0.5355097193244739,
          0.7791782854511324,
          0.7470726989664803,
          0.8067340493339008,
          0.7374621834131048,
          0.7024219349040574,
          0.9742353565149997,
          0.6416614033790341,
          0.549164409575483,
          0.8723982754385379,
          0.6726671441693282,
          0.749470514864246,
          0.8866777999470915,
          0.9573762447770268,
          0.9562496464855603,
          0.6657176589607834,
          0.9820196257645561,
          0.8520947897082004,
          0.5637173197520049,
          0.5848416172336933,
          0.5011026311753586,
          0.5597202439388411,
          0.827910614764147,
          0.9668069090196232,
          0.8811964917532404,
          0.9763835338701753,
          0.6927132892591455,
          0.6881490595740782,
          0.8861781943749352,
          0.9674538002277426,
          0.789516414411749,
          0.7656637151347385,
          0.9346949986646118,
          0.6914033953595939,
          0.5652113830108837,
          0.6140354179420441,
          0.7329451217456145,
          0.730466768105818,
          0.6538434518092016,
          0.5507670342702063,
          0.6875403938992676,
          0.5919347065214166,
          0.6221152405022735,
          0.6205399553696621,
          0.5616387139668434,
          0.6983548337282826,
          0.7200973727643799,
          0.642202618989974,
          0.582937217791475,
          0.7298621654540428,
          0.564668577011198,
          0.5229523058548667,
          0.582734919746333,
          0.5468195392574048,
          0.5985422893617397,
          0.5701162616290475,
          0.6245048696431571,
          0.5253011663091354,
          0.531319065255905,
          0.5513454028100482,
          0.5255789089133925
         ],
         "xaxis": "x",
         "y": [
          0.39182376111510236,
          0.38054283205066075,
          0.3998586287146968,
          0.40197997007673525,
          0.38204680732861007,
          0.3621314144669455,
          0.40452942434479294,
          0.40124941922206403,
          0.3960095210770486,
          0.3979163338962334,
          0.4049713807154186,
          0.4031020650376186,
          0.40178583330716916,
          0.40514663992703176,
          0.4047734951573504,
          0.39723780178222867,
          0.39587331614570537,
          0.4041457593635869,
          0.4052451467230889,
          0.4051608093445803,
          0.4001325078538727,
          0.4035399125304681,
          0.4026640388410758,
          0.3858058181060292,
          0.40514997189131663,
          0.4020623433346001,
          0.4020416406209839,
          0.39977803324285377,
          0.40536363054452773,
          0.4040760604782044,
          0.4016521736118273,
          0.4033781509992308,
          0.39296188819674394,
          0.4047539042038597,
          0.4043950021317727,
          0.40114636434375717,
          0.4048585020565863,
          0.40279683664868193,
          0.4030606417852117,
          0.40354622933647677,
          0.40385537409589034,
          0.40380472191193917,
          0.40289174753804435,
          0.40190573248436373,
          0.40061787173306646,
          0.3921317585517745,
          0.4041682935994588,
          0.4017328316605697,
          0.40371785359083734,
          0.40055776712018065,
          0.40041110920692785,
          0.40073085529765307,
          0.4032801273968162,
          0.4051443161538467,
          0.4038914161693364,
          0.4046661073029565,
          0.40093826803653887,
          0.4059063101694792,
          0.4028955397312908,
          0.4024877895433029,
          0.4033058770030137,
          0.40424847085484006,
          0.4042947936448087,
          0.4052879027605412,
          0.4016719747281433,
          0.40294325129844477,
          0.400930533413129,
          0.40113915551057655,
          0.404247723627543,
          0.39586628089699677,
          0.40136652030920467,
          0.404977360220518,
          0.40593501788359215,
          0.4055449530148622,
          0.40472471784964376,
          0.40277625894195407,
          0.4040682432454544,
          0.4060528828413738,
          0.38469296184598994,
          0.4022707193102912,
          0.3881104503133887,
          0.40329721545051245,
          0.40496998432026016,
          0.40176845948548967,
          0.4025564883313143,
          0.3986461166852012,
          0.3950790615598849,
          0.4011066532655806,
          0.4032150974647181,
          0.4053255113944848,
          0.38652956497842444,
          0.4038381247023029,
          0.40649324279119164,
          0.4025777736833528,
          0.4058465568691971,
          0.40524368219822593,
          0.40262538137071413,
          0.40257631737821853,
          0.40664850042285094,
          0.4044443331554861
         ],
         "yaxis": "y"
        },
        {
         "marker": {
          "color": [
           0,
           1,
           2,
           3,
           4,
           5,
           6,
           7,
           8,
           9,
           10,
           11,
           12,
           13,
           14,
           15,
           16,
           17,
           18,
           19,
           20,
           21,
           22,
           23,
           24,
           25,
           26,
           27,
           28,
           29,
           30,
           31,
           32,
           33,
           34,
           35,
           36,
           37,
           38,
           39,
           40,
           41,
           42,
           43,
           44,
           45,
           46,
           47,
           48,
           49,
           50,
           51,
           52,
           53,
           54,
           55,
           56,
           57,
           58,
           59,
           60,
           61,
           62,
           63,
           64,
           65,
           66,
           67,
           68,
           69,
           70,
           71,
           72,
           73,
           74,
           75,
           76,
           77,
           78,
           79,
           80,
           81,
           82,
           83,
           84,
           85,
           86,
           87,
           88,
           89,
           90,
           91,
           92,
           93,
           94,
           95,
           96,
           97,
           98,
           99
          ],
          "colorbar": {
           "title": {
            "text": "Trial"
           },
           "x": 1,
           "xpad": 40
          },
          "colorscale": [
           [
            0,
            "rgb(247,251,255)"
           ],
           [
            0.125,
            "rgb(222,235,247)"
           ],
           [
            0.25,
            "rgb(198,219,239)"
           ],
           [
            0.375,
            "rgb(158,202,225)"
           ],
           [
            0.5,
            "rgb(107,174,214)"
           ],
           [
            0.625,
            "rgb(66,146,198)"
           ],
           [
            0.75,
            "rgb(33,113,181)"
           ],
           [
            0.875,
            "rgb(8,81,156)"
           ],
           [
            1,
            "rgb(8,48,107)"
           ]
          ],
          "line": {
           "color": "Grey",
           "width": 0.5
          },
          "showscale": false
         },
         "mode": "markers",
         "name": "Feasible Trial",
         "showlegend": false,
         "type": "scatter",
         "x": [
          0.020692082617612028,
          0.001400347903945152,
          0.035941887930340775,
          0.04738468696655791,
          0.0011184168699910617,
          0.0019563289250569657,
          0.032959384731309105,
          0.046274272066382044,
          0.03090136607388625,
          0.022535241981312855,
          0.04469032793649557,
          0.02297372966179441,
          0.24142432112539902,
          0.035632455924853736,
          0.024414689412590583,
          0.013070739646583921,
          0.009628559457607119,
          0.18145731284038857,
          0.10513727824974597,
          0.0885798041200648,
          0.07936527330981434,
          0.15738163015757944,
          0.14475744425602086,
          0.012512680465139326,
          0.1296446201486263,
          0.0767321716545555,
          0.18527811912053932,
          0.019559619935579364,
          0.09296773380033593,
          0.17326423307138605,
          0.04741988029104828,
          0.05215864058850173,
          0.037748578882921435,
          0.10364968427625013,
          0.1881660270780731,
          0.05318915120887189,
          0.06329775650994601,
          0.11192874356158117,
          0.01599150145483613,
          0.20482660317605772,
          0.12121989194024584,
          0.034888708391566194,
          0.14788149481587443,
          0.03685522578529851,
          0.025995433598334176,
          0.007563814536292527,
          0.15357132361011044,
          0.21391604035598735,
          0.019224216848080445,
          0.0688642715547873,
          0.24683207982667188,
          0.2585782895265649,
          0.04356962310715567,
          0.06154217071349396,
          0.2564488464266317,
          0.06458336696533044,
          0.18436795991123298,
          0.06605977512620649,
          0.08744624955912325,
          0.08485459255105013,
          0.05663495003652265,
          0.07750959076549878,
          0.038639098229791106,
          0.02893162940372299,
          0.020541892138995762,
          0.16698213143380655,
          0.2937792819607388,
          0.012074459674153624,
          0.04298542557475345,
          0.0052215058057729895,
          0.03381354332705995,
          0.03761853463161568,
          0.1301638864681935,
          0.11343327765677604,
          0.1853242165518667,
          0.22122358280178153,
          0.17970264818271395,
          0.05553342136328154,
          0.02090164077023831,
          0.08115908996384817,
          0.014133503916963977,
          0.13562558460389043,
          0.08642741435948582,
          0.029419029499855396,
          0.2100737209346881,
          0.04077456615918807,
          0.016346326983775635,
          0.06182249381518324,
          0.12876773779232567,
          0.15462249466506237,
          0.01921014199049245,
          0.20926063239751608,
          0.10425458847528478,
          0.24858484982384382,
          0.13728728844206797,
          0.10392151751760781,
          0.14285034494304266,
          0.18511352231780473,
          0.12650019626533693,
          0.17474328398863667
         ],
         "xaxis": "x2",
         "y": [
          0.39182376111510236,
          0.38054283205066075,
          0.3998586287146968,
          0.40197997007673525,
          0.38204680732861007,
          0.3621314144669455,
          0.40452942434479294,
          0.40124941922206403,
          0.3960095210770486,
          0.3979163338962334,
          0.4049713807154186,
          0.4031020650376186,
          0.40178583330716916,
          0.40514663992703176,
          0.4047734951573504,
          0.39723780178222867,
          0.39587331614570537,
          0.4041457593635869,
          0.4052451467230889,
          0.4051608093445803,
          0.4001325078538727,
          0.4035399125304681,
          0.4026640388410758,
          0.3858058181060292,
          0.40514997189131663,
          0.4020623433346001,
          0.4020416406209839,
          0.39977803324285377,
          0.40536363054452773,
          0.4040760604782044,
          0.4016521736118273,
          0.4033781509992308,
          0.39296188819674394,
          0.4047539042038597,
          0.4043950021317727,
          0.40114636434375717,
          0.4048585020565863,
          0.40279683664868193,
          0.4030606417852117,
          0.40354622933647677,
          0.40385537409589034,
          0.40380472191193917,
          0.40289174753804435,
          0.40190573248436373,
          0.40061787173306646,
          0.3921317585517745,
          0.4041682935994588,
          0.4017328316605697,
          0.40371785359083734,
          0.40055776712018065,
          0.40041110920692785,
          0.40073085529765307,
          0.4032801273968162,
          0.4051443161538467,
          0.4038914161693364,
          0.4046661073029565,
          0.40093826803653887,
          0.4059063101694792,
          0.4028955397312908,
          0.4024877895433029,
          0.4033058770030137,
          0.40424847085484006,
          0.4042947936448087,
          0.4052879027605412,
          0.4016719747281433,
          0.40294325129844477,
          0.400930533413129,
          0.40113915551057655,
          0.404247723627543,
          0.39586628089699677,
          0.40136652030920467,
          0.404977360220518,
          0.40593501788359215,
          0.4055449530148622,
          0.40472471784964376,
          0.40277625894195407,
          0.4040682432454544,
          0.4060528828413738,
          0.38469296184598994,
          0.4022707193102912,
          0.3881104503133887,
          0.40329721545051245,
          0.40496998432026016,
          0.40176845948548967,
          0.4025564883313143,
          0.3986461166852012,
          0.3950790615598849,
          0.4011066532655806,
          0.4032150974647181,
          0.4053255113944848,
          0.38652956497842444,
          0.4038381247023029,
          0.40649324279119164,
          0.4025777736833528,
          0.4058465568691971,
          0.40524368219822593,
          0.40262538137071413,
          0.40257631737821853,
          0.40664850042285094,
          0.4044443331554861
         ],
         "yaxis": "y2"
        },
        {
         "marker": {
          "color": [
           0,
           1,
           2,
           3,
           4,
           5,
           6,
           7,
           8,
           9,
           10,
           11,
           12,
           13,
           14,
           15,
           16,
           17,
           18,
           19,
           20,
           21,
           22,
           23,
           24,
           25,
           26,
           27,
           28,
           29,
           30,
           31,
           32,
           33,
           34,
           35,
           36,
           37,
           38,
           39,
           40,
           41,
           42,
           43,
           44,
           45,
           46,
           47,
           48,
           49,
           50,
           51,
           52,
           53,
           54,
           55,
           56,
           57,
           58,
           59,
           60,
           61,
           62,
           63,
           64,
           65,
           66,
           67,
           68,
           69,
           70,
           71,
           72,
           73,
           74,
           75,
           76,
           77,
           78,
           79,
           80,
           81,
           82,
           83,
           84,
           85,
           86,
           87,
           88,
           89,
           90,
           91,
           92,
           93,
           94,
           95,
           96,
           97,
           98,
           99
          ],
          "colorbar": {
           "title": {
            "text": "Trial"
           },
           "x": 1,
           "xpad": 40
          },
          "colorscale": [
           [
            0,
            "rgb(247,251,255)"
           ],
           [
            0.125,
            "rgb(222,235,247)"
           ],
           [
            0.25,
            "rgb(198,219,239)"
           ],
           [
            0.375,
            "rgb(158,202,225)"
           ],
           [
            0.5,
            "rgb(107,174,214)"
           ],
           [
            0.625,
            "rgb(66,146,198)"
           ],
           [
            0.75,
            "rgb(33,113,181)"
           ],
           [
            0.875,
            "rgb(8,81,156)"
           ],
           [
            1,
            "rgb(8,48,107)"
           ]
          ],
          "line": {
           "color": "Grey",
           "width": 0.5
          },
          "showscale": false
         },
         "mode": "markers",
         "name": "Feasible Trial",
         "showlegend": false,
         "type": "scatter",
         "x": [
          12,
          11,
          12,
          10,
          9,
          3,
          5,
          11,
          7,
          12,
          5,
          5,
          8,
          4,
          4,
          4,
          3,
          4,
          5,
          5,
          6,
          6,
          3,
          4,
          4,
          3,
          7,
          6,
          6,
          6,
          7,
          3,
          6,
          4,
          4,
          7,
          8,
          8,
          3,
          3,
          6,
          3,
          3,
          4,
          4,
          3,
          9,
          3,
          3,
          6,
          6,
          3,
          6,
          5,
          5,
          4,
          7,
          5,
          6,
          6,
          3,
          6,
          4,
          4,
          4,
          9,
          6,
          6,
          6,
          7,
          6,
          4,
          5,
          5,
          5,
          6,
          4,
          5,
          4,
          7,
          5,
          3,
          4,
          3,
          4,
          6,
          7,
          5,
          3,
          5,
          5,
          4,
          6,
          6,
          6,
          7,
          8,
          6,
          6,
          4
         ],
         "xaxis": "x3",
         "y": [
          0.39182376111510236,
          0.38054283205066075,
          0.3998586287146968,
          0.40197997007673525,
          0.38204680732861007,
          0.3621314144669455,
          0.40452942434479294,
          0.40124941922206403,
          0.3960095210770486,
          0.3979163338962334,
          0.4049713807154186,
          0.4031020650376186,
          0.40178583330716916,
          0.40514663992703176,
          0.4047734951573504,
          0.39723780178222867,
          0.39587331614570537,
          0.4041457593635869,
          0.4052451467230889,
          0.4051608093445803,
          0.4001325078538727,
          0.4035399125304681,
          0.4026640388410758,
          0.3858058181060292,
          0.40514997189131663,
          0.4020623433346001,
          0.4020416406209839,
          0.39977803324285377,
          0.40536363054452773,
          0.4040760604782044,
          0.4016521736118273,
          0.4033781509992308,
          0.39296188819674394,
          0.4047539042038597,
          0.4043950021317727,
          0.40114636434375717,
          0.4048585020565863,
          0.40279683664868193,
          0.4030606417852117,
          0.40354622933647677,
          0.40385537409589034,
          0.40380472191193917,
          0.40289174753804435,
          0.40190573248436373,
          0.40061787173306646,
          0.3921317585517745,
          0.4041682935994588,
          0.4017328316605697,
          0.40371785359083734,
          0.40055776712018065,
          0.40041110920692785,
          0.40073085529765307,
          0.4032801273968162,
          0.4051443161538467,
          0.4038914161693364,
          0.4046661073029565,
          0.40093826803653887,
          0.4059063101694792,
          0.4028955397312908,
          0.4024877895433029,
          0.4033058770030137,
          0.40424847085484006,
          0.4042947936448087,
          0.4052879027605412,
          0.4016719747281433,
          0.40294325129844477,
          0.400930533413129,
          0.40113915551057655,
          0.404247723627543,
          0.39586628089699677,
          0.40136652030920467,
          0.404977360220518,
          0.40593501788359215,
          0.4055449530148622,
          0.40472471784964376,
          0.40277625894195407,
          0.4040682432454544,
          0.4060528828413738,
          0.38469296184598994,
          0.4022707193102912,
          0.3881104503133887,
          0.40329721545051245,
          0.40496998432026016,
          0.40176845948548967,
          0.4025564883313143,
          0.3986461166852012,
          0.3950790615598849,
          0.4011066532655806,
          0.4032150974647181,
          0.4053255113944848,
          0.38652956497842444,
          0.4038381247023029,
          0.40649324279119164,
          0.4025777736833528,
          0.4058465568691971,
          0.40524368219822593,
          0.40262538137071413,
          0.40257631737821853,
          0.40664850042285094,
          0.4044443331554861
         ],
         "yaxis": "y3"
        },
        {
         "marker": {
          "color": [
           0,
           1,
           2,
           3,
           4,
           5,
           6,
           7,
           8,
           9,
           10,
           11,
           12,
           13,
           14,
           15,
           16,
           17,
           18,
           19,
           20,
           21,
           22,
           23,
           24,
           25,
           26,
           27,
           28,
           29,
           30,
           31,
           32,
           33,
           34,
           35,
           36,
           37,
           38,
           39,
           40,
           41,
           42,
           43,
           44,
           45,
           46,
           47,
           48,
           49,
           50,
           51,
           52,
           53,
           54,
           55,
           56,
           57,
           58,
           59,
           60,
           61,
           62,
           63,
           64,
           65,
           66,
           67,
           68,
           69,
           70,
           71,
           72,
           73,
           74,
           75,
           76,
           77,
           78,
           79,
           80,
           81,
           82,
           83,
           84,
           85,
           86,
           87,
           88,
           89,
           90,
           91,
           92,
           93,
           94,
           95,
           96,
           97,
           98,
           99
          ],
          "colorbar": {
           "title": {
            "text": "Trial"
           },
           "x": 1,
           "xpad": 40
          },
          "colorscale": [
           [
            0,
            "rgb(247,251,255)"
           ],
           [
            0.125,
            "rgb(222,235,247)"
           ],
           [
            0.25,
            "rgb(198,219,239)"
           ],
           [
            0.375,
            "rgb(158,202,225)"
           ],
           [
            0.5,
            "rgb(107,174,214)"
           ],
           [
            0.625,
            "rgb(66,146,198)"
           ],
           [
            0.75,
            "rgb(33,113,181)"
           ],
           [
            0.875,
            "rgb(8,81,156)"
           ],
           [
            1,
            "rgb(8,48,107)"
           ]
          ],
          "line": {
           "color": "Grey",
           "width": 0.5
          },
          "showscale": false
         },
         "mode": "markers",
         "name": "Feasible Trial",
         "showlegend": false,
         "type": "scatter",
         "x": [
          33,
          87,
          8,
          50,
          62,
          76,
          55,
          76,
          59,
          95,
          30,
          42,
          10,
          87,
          92,
          94,
          25,
          95,
          51,
          50,
          41,
          74,
          41,
          83,
          62,
          83,
          62,
          44,
          48,
          30,
          77,
          42,
          51,
          41,
          64,
          43,
          63,
          63,
          54,
          72,
          38,
          93,
          88,
          48,
          73,
          94,
          66,
          40,
          64,
          52,
          52,
          34,
          16,
          24,
          77,
          11,
          25,
          66,
          62,
          47,
          78,
          86,
          15,
          85,
          75,
          48,
          64,
          92,
          76,
          87,
          43,
          96,
          52,
          62,
          76,
          41,
          70,
          39,
          47,
          37,
          35,
          54,
          32,
          49,
          53,
          47,
          62,
          69,
          61,
          61,
          66,
          72,
          54,
          69,
          45,
          37,
          46,
          32,
          63,
          50
         ],
         "xaxis": "x4",
         "y": [
          0.39182376111510236,
          0.38054283205066075,
          0.3998586287146968,
          0.40197997007673525,
          0.38204680732861007,
          0.3621314144669455,
          0.40452942434479294,
          0.40124941922206403,
          0.3960095210770486,
          0.3979163338962334,
          0.4049713807154186,
          0.4031020650376186,
          0.40178583330716916,
          0.40514663992703176,
          0.4047734951573504,
          0.39723780178222867,
          0.39587331614570537,
          0.4041457593635869,
          0.4052451467230889,
          0.4051608093445803,
          0.4001325078538727,
          0.4035399125304681,
          0.4026640388410758,
          0.3858058181060292,
          0.40514997189131663,
          0.4020623433346001,
          0.4020416406209839,
          0.39977803324285377,
          0.40536363054452773,
          0.4040760604782044,
          0.4016521736118273,
          0.4033781509992308,
          0.39296188819674394,
          0.4047539042038597,
          0.4043950021317727,
          0.40114636434375717,
          0.4048585020565863,
          0.40279683664868193,
          0.4030606417852117,
          0.40354622933647677,
          0.40385537409589034,
          0.40380472191193917,
          0.40289174753804435,
          0.40190573248436373,
          0.40061787173306646,
          0.3921317585517745,
          0.4041682935994588,
          0.4017328316605697,
          0.40371785359083734,
          0.40055776712018065,
          0.40041110920692785,
          0.40073085529765307,
          0.4032801273968162,
          0.4051443161538467,
          0.4038914161693364,
          0.4046661073029565,
          0.40093826803653887,
          0.4059063101694792,
          0.4028955397312908,
          0.4024877895433029,
          0.4033058770030137,
          0.40424847085484006,
          0.4042947936448087,
          0.4052879027605412,
          0.4016719747281433,
          0.40294325129844477,
          0.400930533413129,
          0.40113915551057655,
          0.404247723627543,
          0.39586628089699677,
          0.40136652030920467,
          0.404977360220518,
          0.40593501788359215,
          0.4055449530148622,
          0.40472471784964376,
          0.40277625894195407,
          0.4040682432454544,
          0.4060528828413738,
          0.38469296184598994,
          0.4022707193102912,
          0.3881104503133887,
          0.40329721545051245,
          0.40496998432026016,
          0.40176845948548967,
          0.4025564883313143,
          0.3986461166852012,
          0.3950790615598849,
          0.4011066532655806,
          0.4032150974647181,
          0.4053255113944848,
          0.38652956497842444,
          0.4038381247023029,
          0.40649324279119164,
          0.4025777736833528,
          0.4058465568691971,
          0.40524368219822593,
          0.40262538137071413,
          0.40257631737821853,
          0.40664850042285094,
          0.4044443331554861
         ],
         "yaxis": "y4"
        },
        {
         "marker": {
          "color": [
           0,
           1,
           2,
           3,
           4,
           5,
           6,
           7,
           8,
           9,
           10,
           11,
           12,
           13,
           14,
           15,
           16,
           17,
           18,
           19,
           20,
           21,
           22,
           23,
           24,
           25,
           26,
           27,
           28,
           29,
           30,
           31,
           32,
           33,
           34,
           35,
           36,
           37,
           38,
           39,
           40,
           41,
           42,
           43,
           44,
           45,
           46,
           47,
           48,
           49,
           50,
           51,
           52,
           53,
           54,
           55,
           56,
           57,
           58,
           59,
           60,
           61,
           62,
           63,
           64,
           65,
           66,
           67,
           68,
           69,
           70,
           71,
           72,
           73,
           74,
           75,
           76,
           77,
           78,
           79,
           80,
           81,
           82,
           83,
           84,
           85,
           86,
           87,
           88,
           89,
           90,
           91,
           92,
           93,
           94,
           95,
           96,
           97,
           98,
           99
          ],
          "colorbar": {
           "title": {
            "text": "Trial"
           },
           "x": 1,
           "xpad": 40
          },
          "colorscale": [
           [
            0,
            "rgb(247,251,255)"
           ],
           [
            0.125,
            "rgb(222,235,247)"
           ],
           [
            0.25,
            "rgb(198,219,239)"
           ],
           [
            0.375,
            "rgb(158,202,225)"
           ],
           [
            0.5,
            "rgb(107,174,214)"
           ],
           [
            0.625,
            "rgb(66,146,198)"
           ],
           [
            0.75,
            "rgb(33,113,181)"
           ],
           [
            0.875,
            "rgb(8,81,156)"
           ],
           [
            1,
            "rgb(8,48,107)"
           ]
          ],
          "line": {
           "color": "Grey",
           "width": 0.5
          },
          "showscale": false
         },
         "mode": "markers",
         "name": "Feasible Trial",
         "showlegend": false,
         "type": "scatter",
         "x": [
          96,
          48,
          90,
          40,
          24,
          71,
          89,
          36,
          17,
          63,
          92,
          89,
          69,
          100,
          94,
          81,
          51,
          47,
          98,
          88,
          99,
          98,
          74,
          90,
          94,
          75,
          69,
          99,
          91,
          88,
          89,
          100,
          98,
          98,
          66,
          54,
          75,
          99,
          71,
          87,
          87,
          79,
          98,
          74,
          100,
          76,
          68,
          63,
          80,
          100,
          78,
          76,
          90,
          92,
          82,
          88,
          96,
          94,
          100,
          86,
          93,
          94,
          100,
          95,
          90,
          99,
          100,
          78,
          95,
          91,
          82,
          99,
          98,
          98,
          93,
          84,
          93,
          96,
          63,
          94,
          98,
          99,
          100,
          98,
          97,
          77,
          88,
          84,
          94,
          95,
          94,
          87,
          84,
          96,
          90,
          88,
          66,
          94,
          78,
          64
         ],
         "xaxis": "x5",
         "y": [
          0.39182376111510236,
          0.38054283205066075,
          0.3998586287146968,
          0.40197997007673525,
          0.38204680732861007,
          0.3621314144669455,
          0.40452942434479294,
          0.40124941922206403,
          0.3960095210770486,
          0.3979163338962334,
          0.4049713807154186,
          0.4031020650376186,
          0.40178583330716916,
          0.40514663992703176,
          0.4047734951573504,
          0.39723780178222867,
          0.39587331614570537,
          0.4041457593635869,
          0.4052451467230889,
          0.4051608093445803,
          0.4001325078538727,
          0.4035399125304681,
          0.4026640388410758,
          0.3858058181060292,
          0.40514997189131663,
          0.4020623433346001,
          0.4020416406209839,
          0.39977803324285377,
          0.40536363054452773,
          0.4040760604782044,
          0.4016521736118273,
          0.4033781509992308,
          0.39296188819674394,
          0.4047539042038597,
          0.4043950021317727,
          0.40114636434375717,
          0.4048585020565863,
          0.40279683664868193,
          0.4030606417852117,
          0.40354622933647677,
          0.40385537409589034,
          0.40380472191193917,
          0.40289174753804435,
          0.40190573248436373,
          0.40061787173306646,
          0.3921317585517745,
          0.4041682935994588,
          0.4017328316605697,
          0.40371785359083734,
          0.40055776712018065,
          0.40041110920692785,
          0.40073085529765307,
          0.4032801273968162,
          0.4051443161538467,
          0.4038914161693364,
          0.4046661073029565,
          0.40093826803653887,
          0.4059063101694792,
          0.4028955397312908,
          0.4024877895433029,
          0.4033058770030137,
          0.40424847085484006,
          0.4042947936448087,
          0.4052879027605412,
          0.4016719747281433,
          0.40294325129844477,
          0.400930533413129,
          0.40113915551057655,
          0.404247723627543,
          0.39586628089699677,
          0.40136652030920467,
          0.404977360220518,
          0.40593501788359215,
          0.4055449530148622,
          0.40472471784964376,
          0.40277625894195407,
          0.4040682432454544,
          0.4060528828413738,
          0.38469296184598994,
          0.4022707193102912,
          0.3881104503133887,
          0.40329721545051245,
          0.40496998432026016,
          0.40176845948548967,
          0.4025564883313143,
          0.3986461166852012,
          0.3950790615598849,
          0.4011066532655806,
          0.4032150974647181,
          0.4053255113944848,
          0.38652956497842444,
          0.4038381247023029,
          0.40649324279119164,
          0.4025777736833528,
          0.4058465568691971,
          0.40524368219822593,
          0.40262538137071413,
          0.40257631737821853,
          0.40664850042285094,
          0.4044443331554861
         ],
         "yaxis": "y5"
        },
        {
         "marker": {
          "color": [
           0,
           1,
           2,
           3,
           4,
           5,
           6,
           7,
           8,
           9,
           10,
           11,
           12,
           13,
           14,
           15,
           16,
           17,
           18,
           19,
           20,
           21,
           22,
           23,
           24,
           25,
           26,
           27,
           28,
           29,
           30,
           31,
           32,
           33,
           34,
           35,
           36,
           37,
           38,
           39,
           40,
           41,
           42,
           43,
           44,
           45,
           46,
           47,
           48,
           49,
           50,
           51,
           52,
           53,
           54,
           55,
           56,
           57,
           58,
           59,
           60,
           61,
           62,
           63,
           64,
           65,
           66,
           67,
           68,
           69,
           70,
           71,
           72,
           73,
           74,
           75,
           76,
           77,
           78,
           79,
           80,
           81,
           82,
           83,
           84,
           85,
           86,
           87,
           88,
           89,
           90,
           91,
           92,
           93,
           94,
           95,
           96,
           97,
           98,
           99
          ],
          "colorbar": {
           "title": {
            "text": "Trial"
           },
           "x": 1,
           "xpad": 40
          },
          "colorscale": [
           [
            0,
            "rgb(247,251,255)"
           ],
           [
            0.125,
            "rgb(222,235,247)"
           ],
           [
            0.25,
            "rgb(198,219,239)"
           ],
           [
            0.375,
            "rgb(158,202,225)"
           ],
           [
            0.5,
            "rgb(107,174,214)"
           ],
           [
            0.625,
            "rgb(66,146,198)"
           ],
           [
            0.75,
            "rgb(33,113,181)"
           ],
           [
            0.875,
            "rgb(8,81,156)"
           ],
           [
            1,
            "rgb(8,48,107)"
           ]
          ],
          "line": {
           "color": "Grey",
           "width": 0.5
          },
          "showscale": false
         },
         "mode": "markers",
         "name": "Feasible Trial",
         "showlegend": false,
         "type": "scatter",
         "x": [
          0.03507744209850398,
          0.000012852959515400399,
          0.004102742761945893,
          2.78073631555557,
          0.00000481351214714783,
          0.00021426722070821023,
          4.32094687594102e-7,
          0.000001649715952659241,
          4.903367121590383e-7,
          1.054703457096032,
          1.4714099030355707e-7,
          1.370478209913403e-7,
          4.0742123895199925e-7,
          0.0002617357443456991,
          0.003977180375116768,
          0.2569477652874452,
          0.000002764888889461507,
          0.0000033173201540653846,
          0.000031745302576753476,
          0.0004272791634268793,
          0.0001716932458796106,
          0.00008515663018413336,
          0.0008633758014173995,
          2.090255258954704e-8,
          0.000004228185447307081,
          0.00004403991043913878,
          1.847869978110606e-8,
          0.0952830930084754,
          1.2074940023784943e-7,
          8.168045815168746e-8,
          2.691390666708478e-7,
          1.6002019979715106e-8,
          8.559391387548466e-8,
          0.000022778820477529336,
          0.00047097192280149075,
          0.010069431735977519,
          0.0000010115767277339743,
          0.0007915779088600341,
          0.000006500798782005583,
          0.000012251144209249118,
          0.001576008084745733,
          0.000019316303062963176,
          0.0022040638898561285,
          2.7049529618659493e-7,
          0.00029909431066286503,
          9.777704114590445e-7,
          0.000003120056707487944,
          5.109337395478927e-7,
          0.0012932156979532277,
          0.005706809202255128,
          0.0046369731346240315,
          0.0000016409276639539083,
          0.000005075750870576742,
          3.9906573907018974e-7,
          2.8791377703343106e-8,
          0.00000709208478012447,
          5.4761738860688806e-8,
          2.1307435367996134e-7,
          2.1066537938666964e-8,
          0.0000013341296551959327,
          5.39441574942284e-7,
          0.0019835522975376763,
          0.000009836335440831232,
          0.00007277337541497886,
          7.532348807429261e-8,
          1.7271247250066733e-8,
          2.4907322989095165e-8,
          0.00019725880816711752,
          0.00019328098685544146,
          0.0000025819842121483857,
          0.00016928429788578105,
          0.000015532311751963244,
          0.00023103260933976394,
          0.00021287127857611205,
          0.010777185460594535,
          0.00002855059166390908,
          0.000002199935844684757,
          0.0015789178373853846,
          0.049304252117448384,
          0.0028282425699214806,
          0.01312925264583638,
          0.00005857507129402248,
          0.28508758922335226,
          0.00010251731980855166,
          0.000045294698910196255,
          0.00003685609815405573,
          0.0000014896822245343562,
          0.0011248762933516014,
          0.007730264319805203,
          0.03397548626241429,
          2.660393946092635,
          0.014029967836444253,
          0.009583050719291912,
          0.014188076767195796,
          2.934499885654964,
          8.460140933891465,
          0.0016526437395589348,
          0.003991523038515144,
          2.1197101581037656,
          1.0529745114789095
         ],
         "xaxis": "x6",
         "y": [
          0.39182376111510236,
          0.38054283205066075,
          0.3998586287146968,
          0.40197997007673525,
          0.38204680732861007,
          0.3621314144669455,
          0.40452942434479294,
          0.40124941922206403,
          0.3960095210770486,
          0.3979163338962334,
          0.4049713807154186,
          0.4031020650376186,
          0.40178583330716916,
          0.40514663992703176,
          0.4047734951573504,
          0.39723780178222867,
          0.39587331614570537,
          0.4041457593635869,
          0.4052451467230889,
          0.4051608093445803,
          0.4001325078538727,
          0.4035399125304681,
          0.4026640388410758,
          0.3858058181060292,
          0.40514997189131663,
          0.4020623433346001,
          0.4020416406209839,
          0.39977803324285377,
          0.40536363054452773,
          0.4040760604782044,
          0.4016521736118273,
          0.4033781509992308,
          0.39296188819674394,
          0.4047539042038597,
          0.4043950021317727,
          0.40114636434375717,
          0.4048585020565863,
          0.40279683664868193,
          0.4030606417852117,
          0.40354622933647677,
          0.40385537409589034,
          0.40380472191193917,
          0.40289174753804435,
          0.40190573248436373,
          0.40061787173306646,
          0.3921317585517745,
          0.4041682935994588,
          0.4017328316605697,
          0.40371785359083734,
          0.40055776712018065,
          0.40041110920692785,
          0.40073085529765307,
          0.4032801273968162,
          0.4051443161538467,
          0.4038914161693364,
          0.4046661073029565,
          0.40093826803653887,
          0.4059063101694792,
          0.4028955397312908,
          0.4024877895433029,
          0.4033058770030137,
          0.40424847085484006,
          0.4042947936448087,
          0.4052879027605412,
          0.4016719747281433,
          0.40294325129844477,
          0.400930533413129,
          0.40113915551057655,
          0.404247723627543,
          0.39586628089699677,
          0.40136652030920467,
          0.404977360220518,
          0.40593501788359215,
          0.4055449530148622,
          0.40472471784964376,
          0.40277625894195407,
          0.4040682432454544,
          0.4060528828413738,
          0.38469296184598994,
          0.4022707193102912,
          0.3881104503133887,
          0.40329721545051245,
          0.40496998432026016,
          0.40176845948548967,
          0.4025564883313143,
          0.3986461166852012,
          0.3950790615598849,
          0.4011066532655806,
          0.4032150974647181,
          0.4053255113944848,
          0.38652956497842444,
          0.4038381247023029,
          0.40649324279119164,
          0.4025777736833528,
          0.4058465568691971,
          0.40524368219822593,
          0.40262538137071413,
          0.40257631737821853,
          0.40664850042285094,
          0.4044443331554861
         ],
         "yaxis": "y6"
        },
        {
         "marker": {
          "color": [
           0,
           1,
           2,
           3,
           4,
           5,
           6,
           7,
           8,
           9,
           10,
           11,
           12,
           13,
           14,
           15,
           16,
           17,
           18,
           19,
           20,
           21,
           22,
           23,
           24,
           25,
           26,
           27,
           28,
           29,
           30,
           31,
           32,
           33,
           34,
           35,
           36,
           37,
           38,
           39,
           40,
           41,
           42,
           43,
           44,
           45,
           46,
           47,
           48,
           49,
           50,
           51,
           52,
           53,
           54,
           55,
           56,
           57,
           58,
           59,
           60,
           61,
           62,
           63,
           64,
           65,
           66,
           67,
           68,
           69,
           70,
           71,
           72,
           73,
           74,
           75,
           76,
           77,
           78,
           79,
           80,
           81,
           82,
           83,
           84,
           85,
           86,
           87,
           88,
           89,
           90,
           91,
           92,
           93,
           94,
           95,
           96,
           97,
           98,
           99
          ],
          "colorbar": {
           "title": {
            "text": "Trial"
           },
           "x": 1,
           "xpad": 40
          },
          "colorscale": [
           [
            0,
            "rgb(247,251,255)"
           ],
           [
            0.125,
            "rgb(222,235,247)"
           ],
           [
            0.25,
            "rgb(198,219,239)"
           ],
           [
            0.375,
            "rgb(158,202,225)"
           ],
           [
            0.5,
            "rgb(107,174,214)"
           ],
           [
            0.625,
            "rgb(66,146,198)"
           ],
           [
            0.75,
            "rgb(33,113,181)"
           ],
           [
            0.875,
            "rgb(8,81,156)"
           ],
           [
            1,
            "rgb(8,48,107)"
           ]
          ],
          "line": {
           "color": "Grey",
           "width": 0.5
          },
          "showscale": false
         },
         "mode": "markers",
         "name": "Feasible Trial",
         "showlegend": false,
         "type": "scatter",
         "x": [
          0.009681970665374644,
          0.16095300412631006,
          0.0002833387495176091,
          0.5555690083402167,
          0.4549557377544611,
          0.000017491830613090046,
          0.0003244987186059692,
          8.431902620188964,
          0.00026343015654244,
          0.00024132904350947752,
          0.3530604553785171,
          0.002965339222497319,
          4.771064379029251,
          0.000048620138066144426,
          0.010605302640838346,
          3.527717120832413e-8,
          8.341344461735147,
          0.00013716971932215398,
          4.6294352336126024e-8,
          0.000006395221748999525,
          0.000004244172524488327,
          5.745563804222605e-8,
          0.0000032791569671485752,
          0.00008174994374343145,
          3.0169385878110124e-7,
          2.7474060844491972e-8,
          6.166243537254841e-8,
          0.00000565738912742209,
          2.9600419898882823e-8,
          7.750250333260068e-7,
          1.4455854830909952e-8,
          8.137208378442389e-7,
          1.5733095450060206e-8,
          1.970056897201491e-8,
          0.0008474404855047262,
          0.000005129426850726986,
          0.000041692403234501054,
          1.2051549685650623e-8,
          9.228029354489049e-8,
          5.2752643382873164e-8,
          0.021589600461207864,
          0.00011979210232994925,
          0.000012759595159646661,
          1.992023464831749e-8,
          0.00009737721072792313,
          0.000004181451725449031,
          1.1931788879212707e-8,
          0.0000016834584688655385,
          0.00006710646869936215,
          0.0000015132521512212966,
          0.00000774661352415661,
          0.9405625369898105,
          0.16785064336594196,
          0.006001397733779498,
          0.0000012861481445820605,
          0.000012880482807347113,
          0.0017606398436986015,
          0.0000015145298027202158,
          0.00014500496213117343,
          0.0000019763418253702695,
          0.000009339231111012177,
          0.000015422898236505208,
          0.002879479659651166,
          0.000013438775404491025,
          0.0014807888356916572,
          3.471161834600367e-7,
          3.133807719046259e-8,
          0.001485641228023729,
          0.000015525083857486562,
          0.0000023511376325621766,
          0.000004438189368896677,
          0.0009366459084332399,
          0.000001503478153854872,
          0.000012993686006876362,
          0.0006816306101898855,
          0.000011004140364206635,
          0.000004302612063828322,
          0.000006274427442723888,
          0.000013154007795464554,
          8.154482924379085e-7,
          0.0016519290583557275,
          0.00003521401341967028,
          0.0000012448834504629594,
          2.007847820914931e-7,
          1.1235785391606317e-8,
          0.06425173935958331,
          0.0000028124008512157526,
          0.00002675070564647073,
          1.9028929963856288e-7,
          8.082955231617249e-7,
          4.71722074542759e-7,
          4.763508398386787e-7,
          7.455480504236348e-8,
          1.3624228152522652e-7,
          2.4256751653631182e-8,
          7.33889013394588e-7,
          4.782389960412071e-8,
          4.7536544010511094e-8,
          2.7875971830049813e-8,
          1.0691655495897303e-8
         ],
         "xaxis": "x7",
         "y": [
          0.39182376111510236,
          0.38054283205066075,
          0.3998586287146968,
          0.40197997007673525,
          0.38204680732861007,
          0.3621314144669455,
          0.40452942434479294,
          0.40124941922206403,
          0.3960095210770486,
          0.3979163338962334,
          0.4049713807154186,
          0.4031020650376186,
          0.40178583330716916,
          0.40514663992703176,
          0.4047734951573504,
          0.39723780178222867,
          0.39587331614570537,
          0.4041457593635869,
          0.4052451467230889,
          0.4051608093445803,
          0.4001325078538727,
          0.4035399125304681,
          0.4026640388410758,
          0.3858058181060292,
          0.40514997189131663,
          0.4020623433346001,
          0.4020416406209839,
          0.39977803324285377,
          0.40536363054452773,
          0.4040760604782044,
          0.4016521736118273,
          0.4033781509992308,
          0.39296188819674394,
          0.4047539042038597,
          0.4043950021317727,
          0.40114636434375717,
          0.4048585020565863,
          0.40279683664868193,
          0.4030606417852117,
          0.40354622933647677,
          0.40385537409589034,
          0.40380472191193917,
          0.40289174753804435,
          0.40190573248436373,
          0.40061787173306646,
          0.3921317585517745,
          0.4041682935994588,
          0.4017328316605697,
          0.40371785359083734,
          0.40055776712018065,
          0.40041110920692785,
          0.40073085529765307,
          0.4032801273968162,
          0.4051443161538467,
          0.4038914161693364,
          0.4046661073029565,
          0.40093826803653887,
          0.4059063101694792,
          0.4028955397312908,
          0.4024877895433029,
          0.4033058770030137,
          0.40424847085484006,
          0.4042947936448087,
          0.4052879027605412,
          0.4016719747281433,
          0.40294325129844477,
          0.400930533413129,
          0.40113915551057655,
          0.404247723627543,
          0.39586628089699677,
          0.40136652030920467,
          0.404977360220518,
          0.40593501788359215,
          0.4055449530148622,
          0.40472471784964376,
          0.40277625894195407,
          0.4040682432454544,
          0.4060528828413738,
          0.38469296184598994,
          0.4022707193102912,
          0.3881104503133887,
          0.40329721545051245,
          0.40496998432026016,
          0.40176845948548967,
          0.4025564883313143,
          0.3986461166852012,
          0.3950790615598849,
          0.4011066532655806,
          0.4032150974647181,
          0.4053255113944848,
          0.38652956497842444,
          0.4038381247023029,
          0.40649324279119164,
          0.4025777736833528,
          0.4058465568691971,
          0.40524368219822593,
          0.40262538137071413,
          0.40257631737821853,
          0.40664850042285094,
          0.4044443331554861
         ],
         "yaxis": "y7"
        },
        {
         "marker": {
          "color": [
           0,
           1,
           2,
           3,
           4,
           5,
           6,
           7,
           8,
           9,
           10,
           11,
           12,
           13,
           14,
           15,
           16,
           17,
           18,
           19,
           20,
           21,
           22,
           23,
           24,
           25,
           26,
           27,
           28,
           29,
           30,
           31,
           32,
           33,
           34,
           35,
           36,
           37,
           38,
           39,
           40,
           41,
           42,
           43,
           44,
           45,
           46,
           47,
           48,
           49,
           50,
           51,
           52,
           53,
           54,
           55,
           56,
           57,
           58,
           59,
           60,
           61,
           62,
           63,
           64,
           65,
           66,
           67,
           68,
           69,
           70,
           71,
           72,
           73,
           74,
           75,
           76,
           77,
           78,
           79,
           80,
           81,
           82,
           83,
           84,
           85,
           86,
           87,
           88,
           89,
           90,
           91,
           92,
           93,
           94,
           95,
           96,
           97,
           98,
           99
          ],
          "colorbar": {
           "title": {
            "text": "Trial"
           },
           "x": 1,
           "xpad": 40
          },
          "colorscale": [
           [
            0,
            "rgb(247,251,255)"
           ],
           [
            0.125,
            "rgb(222,235,247)"
           ],
           [
            0.25,
            "rgb(198,219,239)"
           ],
           [
            0.375,
            "rgb(158,202,225)"
           ],
           [
            0.5,
            "rgb(107,174,214)"
           ],
           [
            0.625,
            "rgb(66,146,198)"
           ],
           [
            0.75,
            "rgb(33,113,181)"
           ],
           [
            0.875,
            "rgb(8,81,156)"
           ],
           [
            1,
            "rgb(8,48,107)"
           ]
          ],
          "line": {
           "color": "Grey",
           "width": 0.5
          },
          "showscale": false
         },
         "mode": "markers",
         "name": "Feasible Trial",
         "showlegend": false,
         "type": "scatter",
         "x": [
          0.656610660210964,
          0.6658686819718957,
          0.5909742406183405,
          0.7509913115718791,
          0.6875611724537107,
          0.8206461446872444,
          0.5612739177069017,
          0.94389639143813,
          0.7178126105500906,
          0.5160151345827255,
          0.5289491399276649,
          0.5488370275117583,
          0.511643306644442,
          0.5748589432019781,
          0.5597256501638238,
          0.563775079747911,
          0.5498338060754586,
          0.5577931058637744,
          0.6158359021399396,
          0.5791147149104614,
          0.5439935924027363,
          0.5834594370245544,
          0.7026315162497052,
          0.6358555518343681,
          0.6621515273998243,
          0.7167376635653933,
          0.6153219407888558,
          0.6918650782798433,
          0.8467068834017911,
          0.9374143272967294,
          0.7691951133412062,
          0.6851158600776384,
          0.8600176458303103,
          0.6353010121446373,
          0.5652103433991371,
          0.5115571106090064,
          0.5942538491731368,
          0.6858081244770495,
          0.5399824978191712,
          0.5961908804495092,
          0.5498463040043424,
          0.5946449796039516,
          0.730674482329101,
          0.8828807376706791,
          0.5241654635080473,
          0.569308508584099,
          0.8554177069944602,
          0.7791037017596134,
          0.5999619515267681,
          0.9318607433436106,
          0.5027568042502848,
          0.5310262798782235,
          0.6256003647865525,
          0.504169174702804,
          0.9274770112820926,
          0.7006535745307687,
          0.5015263796932355,
          0.7195283381766265,
          0.5796529314944547,
          0.7679947502065801,
          0.6928948550116734,
          0.5496864128749283,
          0.5407453057474256,
          0.6294521471912593,
          0.7787064740559628,
          0.8056223412352861,
          0.5674512334169095,
          0.754088045687028,
          0.6476268929961392,
          0.630674419265909,
          0.607415210626788,
          0.5184153440414861,
          0.6931462127533858,
          0.7360579452797833,
          0.6994626570144695,
          0.6671494489368426,
          0.6525522350200325,
          0.7634477439894838,
          0.7497667516902122,
          0.7495805510878772,
          0.6684048583169141,
          0.6521330060165499,
          0.7367814865636902,
          0.7680043597920618,
          0.8325711375793216,
          0.836065057059058,
          0.7760924533824043,
          0.7989494990960248,
          0.5259854498062653,
          0.6874700722558101,
          0.7730251161788139,
          0.7943288953589891,
          0.5465096589392013,
          0.5401909392107431,
          0.5806370874817547,
          0.5693747235173144,
          0.5800651067212034,
          0.6069129852731413,
          0.6270380945559796,
          0.5372057847335422
         ],
         "xaxis": "x8",
         "y": [
          0.39182376111510236,
          0.38054283205066075,
          0.3998586287146968,
          0.40197997007673525,
          0.38204680732861007,
          0.3621314144669455,
          0.40452942434479294,
          0.40124941922206403,
          0.3960095210770486,
          0.3979163338962334,
          0.4049713807154186,
          0.4031020650376186,
          0.40178583330716916,
          0.40514663992703176,
          0.4047734951573504,
          0.39723780178222867,
          0.39587331614570537,
          0.4041457593635869,
          0.4052451467230889,
          0.4051608093445803,
          0.4001325078538727,
          0.4035399125304681,
          0.4026640388410758,
          0.3858058181060292,
          0.40514997189131663,
          0.4020623433346001,
          0.4020416406209839,
          0.39977803324285377,
          0.40536363054452773,
          0.4040760604782044,
          0.4016521736118273,
          0.4033781509992308,
          0.39296188819674394,
          0.4047539042038597,
          0.4043950021317727,
          0.40114636434375717,
          0.4048585020565863,
          0.40279683664868193,
          0.4030606417852117,
          0.40354622933647677,
          0.40385537409589034,
          0.40380472191193917,
          0.40289174753804435,
          0.40190573248436373,
          0.40061787173306646,
          0.3921317585517745,
          0.4041682935994588,
          0.4017328316605697,
          0.40371785359083734,
          0.40055776712018065,
          0.40041110920692785,
          0.40073085529765307,
          0.4032801273968162,
          0.4051443161538467,
          0.4038914161693364,
          0.4046661073029565,
          0.40093826803653887,
          0.4059063101694792,
          0.4028955397312908,
          0.4024877895433029,
          0.4033058770030137,
          0.40424847085484006,
          0.4042947936448087,
          0.4052879027605412,
          0.4016719747281433,
          0.40294325129844477,
          0.400930533413129,
          0.40113915551057655,
          0.404247723627543,
          0.39586628089699677,
          0.40136652030920467,
          0.404977360220518,
          0.40593501788359215,
          0.4055449530148622,
          0.40472471784964376,
          0.40277625894195407,
          0.4040682432454544,
          0.4060528828413738,
          0.38469296184598994,
          0.4022707193102912,
          0.3881104503133887,
          0.40329721545051245,
          0.40496998432026016,
          0.40176845948548967,
          0.4025564883313143,
          0.3986461166852012,
          0.3950790615598849,
          0.4011066532655806,
          0.4032150974647181,
          0.4053255113944848,
          0.38652956497842444,
          0.4038381247023029,
          0.40649324279119164,
          0.4025777736833528,
          0.4058465568691971,
          0.40524368219822593,
          0.40262538137071413,
          0.40257631737821853,
          0.40664850042285094,
          0.4044443331554861
         ],
         "yaxis": "y8"
        }
       ],
       "layout": {
        "template": {
         "data": {
          "bar": [
           {
            "error_x": {
             "color": "#2a3f5f"
            },
            "error_y": {
             "color": "#2a3f5f"
            },
            "marker": {
             "line": {
              "color": "#E5ECF6",
              "width": 0.5
             },
             "pattern": {
              "fillmode": "overlay",
              "size": 10,
              "solidity": 0.2
             }
            },
            "type": "bar"
           }
          ],
          "barpolar": [
           {
            "marker": {
             "line": {
              "color": "#E5ECF6",
              "width": 0.5
             },
             "pattern": {
              "fillmode": "overlay",
              "size": 10,
              "solidity": 0.2
             }
            },
            "type": "barpolar"
           }
          ],
          "carpet": [
           {
            "aaxis": {
             "endlinecolor": "#2a3f5f",
             "gridcolor": "white",
             "linecolor": "white",
             "minorgridcolor": "white",
             "startlinecolor": "#2a3f5f"
            },
            "baxis": {
             "endlinecolor": "#2a3f5f",
             "gridcolor": "white",
             "linecolor": "white",
             "minorgridcolor": "white",
             "startlinecolor": "#2a3f5f"
            },
            "type": "carpet"
           }
          ],
          "choropleth": [
           {
            "colorbar": {
             "outlinewidth": 0,
             "ticks": ""
            },
            "type": "choropleth"
           }
          ],
          "contour": [
           {
            "colorbar": {
             "outlinewidth": 0,
             "ticks": ""
            },
            "colorscale": [
             [
              0,
              "#0d0887"
             ],
             [
              0.1111111111111111,
              "#46039f"
             ],
             [
              0.2222222222222222,
              "#7201a8"
             ],
             [
              0.3333333333333333,
              "#9c179e"
             ],
             [
              0.4444444444444444,
              "#bd3786"
             ],
             [
              0.5555555555555556,
              "#d8576b"
             ],
             [
              0.6666666666666666,
              "#ed7953"
             ],
             [
              0.7777777777777778,
              "#fb9f3a"
             ],
             [
              0.8888888888888888,
              "#fdca26"
             ],
             [
              1,
              "#f0f921"
             ]
            ],
            "type": "contour"
           }
          ],
          "contourcarpet": [
           {
            "colorbar": {
             "outlinewidth": 0,
             "ticks": ""
            },
            "type": "contourcarpet"
           }
          ],
          "heatmap": [
           {
            "colorbar": {
             "outlinewidth": 0,
             "ticks": ""
            },
            "colorscale": [
             [
              0,
              "#0d0887"
             ],
             [
              0.1111111111111111,
              "#46039f"
             ],
             [
              0.2222222222222222,
              "#7201a8"
             ],
             [
              0.3333333333333333,
              "#9c179e"
             ],
             [
              0.4444444444444444,
              "#bd3786"
             ],
             [
              0.5555555555555556,
              "#d8576b"
             ],
             [
              0.6666666666666666,
              "#ed7953"
             ],
             [
              0.7777777777777778,
              "#fb9f3a"
             ],
             [
              0.8888888888888888,
              "#fdca26"
             ],
             [
              1,
              "#f0f921"
             ]
            ],
            "type": "heatmap"
           }
          ],
          "heatmapgl": [
           {
            "colorbar": {
             "outlinewidth": 0,
             "ticks": ""
            },
            "colorscale": [
             [
              0,
              "#0d0887"
             ],
             [
              0.1111111111111111,
              "#46039f"
             ],
             [
              0.2222222222222222,
              "#7201a8"
             ],
             [
              0.3333333333333333,
              "#9c179e"
             ],
             [
              0.4444444444444444,
              "#bd3786"
             ],
             [
              0.5555555555555556,
              "#d8576b"
             ],
             [
              0.6666666666666666,
              "#ed7953"
             ],
             [
              0.7777777777777778,
              "#fb9f3a"
             ],
             [
              0.8888888888888888,
              "#fdca26"
             ],
             [
              1,
              "#f0f921"
             ]
            ],
            "type": "heatmapgl"
           }
          ],
          "histogram": [
           {
            "marker": {
             "pattern": {
              "fillmode": "overlay",
              "size": 10,
              "solidity": 0.2
             }
            },
            "type": "histogram"
           }
          ],
          "histogram2d": [
           {
            "colorbar": {
             "outlinewidth": 0,
             "ticks": ""
            },
            "colorscale": [
             [
              0,
              "#0d0887"
             ],
             [
              0.1111111111111111,
              "#46039f"
             ],
             [
              0.2222222222222222,
              "#7201a8"
             ],
             [
              0.3333333333333333,
              "#9c179e"
             ],
             [
              0.4444444444444444,
              "#bd3786"
             ],
             [
              0.5555555555555556,
              "#d8576b"
             ],
             [
              0.6666666666666666,
              "#ed7953"
             ],
             [
              0.7777777777777778,
              "#fb9f3a"
             ],
             [
              0.8888888888888888,
              "#fdca26"
             ],
             [
              1,
              "#f0f921"
             ]
            ],
            "type": "histogram2d"
           }
          ],
          "histogram2dcontour": [
           {
            "colorbar": {
             "outlinewidth": 0,
             "ticks": ""
            },
            "colorscale": [
             [
              0,
              "#0d0887"
             ],
             [
              0.1111111111111111,
              "#46039f"
             ],
             [
              0.2222222222222222,
              "#7201a8"
             ],
             [
              0.3333333333333333,
              "#9c179e"
             ],
             [
              0.4444444444444444,
              "#bd3786"
             ],
             [
              0.5555555555555556,
              "#d8576b"
             ],
             [
              0.6666666666666666,
              "#ed7953"
             ],
             [
              0.7777777777777778,
              "#fb9f3a"
             ],
             [
              0.8888888888888888,
              "#fdca26"
             ],
             [
              1,
              "#f0f921"
             ]
            ],
            "type": "histogram2dcontour"
           }
          ],
          "mesh3d": [
           {
            "colorbar": {
             "outlinewidth": 0,
             "ticks": ""
            },
            "type": "mesh3d"
           }
          ],
          "parcoords": [
           {
            "line": {
             "colorbar": {
              "outlinewidth": 0,
              "ticks": ""
             }
            },
            "type": "parcoords"
           }
          ],
          "pie": [
           {
            "automargin": true,
            "type": "pie"
           }
          ],
          "scatter": [
           {
            "fillpattern": {
             "fillmode": "overlay",
             "size": 10,
             "solidity": 0.2
            },
            "type": "scatter"
           }
          ],
          "scatter3d": [
           {
            "line": {
             "colorbar": {
              "outlinewidth": 0,
              "ticks": ""
             }
            },
            "marker": {
             "colorbar": {
              "outlinewidth": 0,
              "ticks": ""
             }
            },
            "type": "scatter3d"
           }
          ],
          "scattercarpet": [
           {
            "marker": {
             "colorbar": {
              "outlinewidth": 0,
              "ticks": ""
             }
            },
            "type": "scattercarpet"
           }
          ],
          "scattergeo": [
           {
            "marker": {
             "colorbar": {
              "outlinewidth": 0,
              "ticks": ""
             }
            },
            "type": "scattergeo"
           }
          ],
          "scattergl": [
           {
            "marker": {
             "colorbar": {
              "outlinewidth": 0,
              "ticks": ""
             }
            },
            "type": "scattergl"
           }
          ],
          "scattermapbox": [
           {
            "marker": {
             "colorbar": {
              "outlinewidth": 0,
              "ticks": ""
             }
            },
            "type": "scattermapbox"
           }
          ],
          "scatterpolar": [
           {
            "marker": {
             "colorbar": {
              "outlinewidth": 0,
              "ticks": ""
             }
            },
            "type": "scatterpolar"
           }
          ],
          "scatterpolargl": [
           {
            "marker": {
             "colorbar": {
              "outlinewidth": 0,
              "ticks": ""
             }
            },
            "type": "scatterpolargl"
           }
          ],
          "scatterternary": [
           {
            "marker": {
             "colorbar": {
              "outlinewidth": 0,
              "ticks": ""
             }
            },
            "type": "scatterternary"
           }
          ],
          "surface": [
           {
            "colorbar": {
             "outlinewidth": 0,
             "ticks": ""
            },
            "colorscale": [
             [
              0,
              "#0d0887"
             ],
             [
              0.1111111111111111,
              "#46039f"
             ],
             [
              0.2222222222222222,
              "#7201a8"
             ],
             [
              0.3333333333333333,
              "#9c179e"
             ],
             [
              0.4444444444444444,
              "#bd3786"
             ],
             [
              0.5555555555555556,
              "#d8576b"
             ],
             [
              0.6666666666666666,
              "#ed7953"
             ],
             [
              0.7777777777777778,
              "#fb9f3a"
             ],
             [
              0.8888888888888888,
              "#fdca26"
             ],
             [
              1,
              "#f0f921"
             ]
            ],
            "type": "surface"
           }
          ],
          "table": [
           {
            "cells": {
             "fill": {
              "color": "#EBF0F8"
             },
             "line": {
              "color": "white"
             }
            },
            "header": {
             "fill": {
              "color": "#C8D4E3"
             },
             "line": {
              "color": "white"
             }
            },
            "type": "table"
           }
          ]
         },
         "layout": {
          "annotationdefaults": {
           "arrowcolor": "#2a3f5f",
           "arrowhead": 0,
           "arrowwidth": 1
          },
          "autotypenumbers": "strict",
          "coloraxis": {
           "colorbar": {
            "outlinewidth": 0,
            "ticks": ""
           }
          },
          "colorscale": {
           "diverging": [
            [
             0,
             "#8e0152"
            ],
            [
             0.1,
             "#c51b7d"
            ],
            [
             0.2,
             "#de77ae"
            ],
            [
             0.3,
             "#f1b6da"
            ],
            [
             0.4,
             "#fde0ef"
            ],
            [
             0.5,
             "#f7f7f7"
            ],
            [
             0.6,
             "#e6f5d0"
            ],
            [
             0.7,
             "#b8e186"
            ],
            [
             0.8,
             "#7fbc41"
            ],
            [
             0.9,
             "#4d9221"
            ],
            [
             1,
             "#276419"
            ]
           ],
           "sequential": [
            [
             0,
             "#0d0887"
            ],
            [
             0.1111111111111111,
             "#46039f"
            ],
            [
             0.2222222222222222,
             "#7201a8"
            ],
            [
             0.3333333333333333,
             "#9c179e"
            ],
            [
             0.4444444444444444,
             "#bd3786"
            ],
            [
             0.5555555555555556,
             "#d8576b"
            ],
            [
             0.6666666666666666,
             "#ed7953"
            ],
            [
             0.7777777777777778,
             "#fb9f3a"
            ],
            [
             0.8888888888888888,
             "#fdca26"
            ],
            [
             1,
             "#f0f921"
            ]
           ],
           "sequentialminus": [
            [
             0,
             "#0d0887"
            ],
            [
             0.1111111111111111,
             "#46039f"
            ],
            [
             0.2222222222222222,
             "#7201a8"
            ],
            [
             0.3333333333333333,
             "#9c179e"
            ],
            [
             0.4444444444444444,
             "#bd3786"
            ],
            [
             0.5555555555555556,
             "#d8576b"
            ],
            [
             0.6666666666666666,
             "#ed7953"
            ],
            [
             0.7777777777777778,
             "#fb9f3a"
            ],
            [
             0.8888888888888888,
             "#fdca26"
            ],
            [
             1,
             "#f0f921"
            ]
           ]
          },
          "colorway": [
           "#636efa",
           "#EF553B",
           "#00cc96",
           "#ab63fa",
           "#FFA15A",
           "#19d3f3",
           "#FF6692",
           "#B6E880",
           "#FF97FF",
           "#FECB52"
          ],
          "font": {
           "color": "#2a3f5f"
          },
          "geo": {
           "bgcolor": "white",
           "lakecolor": "white",
           "landcolor": "#E5ECF6",
           "showlakes": true,
           "showland": true,
           "subunitcolor": "white"
          },
          "hoverlabel": {
           "align": "left"
          },
          "hovermode": "closest",
          "mapbox": {
           "style": "light"
          },
          "paper_bgcolor": "white",
          "plot_bgcolor": "#E5ECF6",
          "polar": {
           "angularaxis": {
            "gridcolor": "white",
            "linecolor": "white",
            "ticks": ""
           },
           "bgcolor": "#E5ECF6",
           "radialaxis": {
            "gridcolor": "white",
            "linecolor": "white",
            "ticks": ""
           }
          },
          "scene": {
           "xaxis": {
            "backgroundcolor": "#E5ECF6",
            "gridcolor": "white",
            "gridwidth": 2,
            "linecolor": "white",
            "showbackground": true,
            "ticks": "",
            "zerolinecolor": "white"
           },
           "yaxis": {
            "backgroundcolor": "#E5ECF6",
            "gridcolor": "white",
            "gridwidth": 2,
            "linecolor": "white",
            "showbackground": true,
            "ticks": "",
            "zerolinecolor": "white"
           },
           "zaxis": {
            "backgroundcolor": "#E5ECF6",
            "gridcolor": "white",
            "gridwidth": 2,
            "linecolor": "white",
            "showbackground": true,
            "ticks": "",
            "zerolinecolor": "white"
           }
          },
          "shapedefaults": {
           "line": {
            "color": "#2a3f5f"
           }
          },
          "ternary": {
           "aaxis": {
            "gridcolor": "white",
            "linecolor": "white",
            "ticks": ""
           },
           "baxis": {
            "gridcolor": "white",
            "linecolor": "white",
            "ticks": ""
           },
           "bgcolor": "#E5ECF6",
           "caxis": {
            "gridcolor": "white",
            "linecolor": "white",
            "ticks": ""
           }
          },
          "title": {
           "x": 0.05
          },
          "xaxis": {
           "automargin": true,
           "gridcolor": "white",
           "linecolor": "white",
           "ticks": "",
           "title": {
            "standoff": 15
           },
           "zerolinecolor": "white",
           "zerolinewidth": 2
          },
          "yaxis": {
           "automargin": true,
           "gridcolor": "white",
           "linecolor": "white",
           "ticks": "",
           "title": {
            "standoff": 15
           },
           "zerolinecolor": "white",
           "zerolinewidth": 2
          }
         }
        },
        "title": {
         "text": "Slice Plot"
        },
        "width": 2400,
        "xaxis": {
         "anchor": "y",
         "domain": [
          0,
          0.103125
         ],
         "title": {
          "text": "colsample_bytree"
         }
        },
        "xaxis2": {
         "anchor": "y2",
         "domain": [
          0.128125,
          0.23124999999999998
         ],
         "title": {
          "text": "learning_rate"
         },
         "type": "log"
        },
        "xaxis3": {
         "anchor": "y3",
         "domain": [
          0.25625,
          0.359375
         ],
         "title": {
          "text": "max_depth"
         }
        },
        "xaxis4": {
         "anchor": "y4",
         "domain": [
          0.38437499999999997,
          0.48749999999999993
         ],
         "title": {
          "text": "min_child_samples"
         }
        },
        "xaxis5": {
         "anchor": "y5",
         "domain": [
          0.5125,
          0.615625
         ],
         "title": {
          "text": "num_leaves"
         }
        },
        "xaxis6": {
         "anchor": "y6",
         "domain": [
          0.640625,
          0.74375
         ],
         "title": {
          "text": "reg_alpha"
         },
         "type": "log"
        },
        "xaxis7": {
         "anchor": "y7",
         "domain": [
          0.76875,
          0.8718750000000001
         ],
         "title": {
          "text": "reg_lambda"
         },
         "type": "log"
        },
        "xaxis8": {
         "anchor": "y8",
         "domain": [
          0.8968750000000001,
          1
         ],
         "title": {
          "text": "subsample"
         }
        },
        "yaxis": {
         "anchor": "x",
         "domain": [
          0,
          1
         ],
         "title": {
          "text": "Objective Value"
         }
        },
        "yaxis2": {
         "anchor": "x2",
         "domain": [
          0,
          1
         ],
         "matches": "y",
         "showticklabels": false
        },
        "yaxis3": {
         "anchor": "x3",
         "domain": [
          0,
          1
         ],
         "matches": "y",
         "showticklabels": false
        },
        "yaxis4": {
         "anchor": "x4",
         "domain": [
          0,
          1
         ],
         "matches": "y",
         "showticklabels": false
        },
        "yaxis5": {
         "anchor": "x5",
         "domain": [
          0,
          1
         ],
         "matches": "y",
         "showticklabels": false
        },
        "yaxis6": {
         "anchor": "x6",
         "domain": [
          0,
          1
         ],
         "matches": "y",
         "showticklabels": false
        },
        "yaxis7": {
         "anchor": "x7",
         "domain": [
          0,
          1
         ],
         "matches": "y",
         "showticklabels": false
        },
        "yaxis8": {
         "anchor": "x8",
         "domain": [
          0,
          1
         ],
         "matches": "y",
         "showticklabels": false
        }
       }
      }
     },
     "metadata": {},
     "output_type": "display_data"
    }
   ],
   "source": [
    "plot_slice(study)"
   ]
  },
  {
   "cell_type": "code",
   "execution_count": 48,
   "metadata": {},
   "outputs": [],
   "source": [
    "study = uu.hyperparameterize(\n",
    "    X_train,\n",
    "    y_train,\n",
    "    n_trials=50,\n",
    "    k=5,\n",
    "    experiment=\"Optimize GBM\",\n",
    "    early_stopping_rounds=10,\n",
    "    params_to_optimize={\n",
    "        \"num_leaves\": [30, 100],\n",
    "        \"max_depth\": [3, 12],\n",
    "        \"learning_rate\": [2e-2, 0.2],\n",
    "        \"subsample\": [0.5, 1.0],\n",
    "    },\n",
    ")"
   ]
  },
  {
   "cell_type": "code",
   "execution_count": 49,
   "metadata": {},
   "outputs": [
    {
     "data": {
      "application/vnd.plotly.v1+json": {
       "config": {
        "plotlyServerURL": "https://plot.ly"
       },
       "data": [
        {
         "mode": "markers",
         "name": "Objective Value",
         "type": "scatter",
         "x": [
          0,
          1,
          2,
          3,
          4,
          5,
          6,
          7,
          8,
          9,
          10,
          11,
          12,
          13,
          14,
          15,
          16,
          17,
          18,
          19,
          20,
          21,
          22,
          23,
          24,
          25,
          26,
          27,
          28,
          29,
          30,
          31,
          32,
          33,
          34,
          35,
          36,
          37,
          38,
          39,
          40,
          41,
          42,
          43,
          44,
          45,
          46,
          47,
          48,
          49
         ],
         "y": [
          0.40231749992671934,
          0.3882988063331756,
          0.4057404813630394,
          0.40401949347975175,
          0.40259750574732545,
          0.3887140232334424,
          0.4025933155395339,
          0.4049806560419696,
          0.40284774291354486,
          0.3867941553143538,
          0.4015716588201542,
          0.3895408019480904,
          0.40315938534709295,
          0.4033260648604918,
          0.40528092654500625,
          0.40193061889705567,
          0.40146386583644683,
          0.4015629381793763,
          0.4026529959387421,
          0.403551529060421,
          0.38608893468910577,
          0.40469218181911304,
          0.40380842864160194,
          0.40297124295253095,
          0.4032748447596667,
          0.40377032342748576,
          0.40295010758302247,
          0.39785608512968185,
          0.40258666784571817,
          0.4033231741056279,
          0.4055492269333434,
          0.40491741776943196,
          0.4055567870799354,
          0.40625516176954746,
          0.4066781479384753,
          0.40371595757126044,
          0.4047523357016306,
          0.40518808268640083,
          0.4039535443275021,
          0.40343834320262806,
          0.4062085990024807,
          0.4048834713320191,
          0.4034806416921518,
          0.40634890717683547,
          0.4023702816008344,
          0.40420956412971565,
          0.40685246182363766,
          0.4042408942674564,
          0.4045572909773692,
          0.38825149082572336
         ]
        },
        {
         "mode": "lines",
         "name": "Best Value",
         "type": "scatter",
         "x": [
          0,
          1,
          2,
          3,
          4,
          5,
          6,
          7,
          8,
          9,
          10,
          11,
          12,
          13,
          14,
          15,
          16,
          17,
          18,
          19,
          20,
          21,
          22,
          23,
          24,
          25,
          26,
          27,
          28,
          29,
          30,
          31,
          32,
          33,
          34,
          35,
          36,
          37,
          38,
          39,
          40,
          41,
          42,
          43,
          44,
          45,
          46,
          47,
          48,
          49
         ],
         "y": [
          0.40231749992671934,
          0.40231749992671934,
          0.4057404813630394,
          0.4057404813630394,
          0.4057404813630394,
          0.4057404813630394,
          0.4057404813630394,
          0.4057404813630394,
          0.4057404813630394,
          0.4057404813630394,
          0.4057404813630394,
          0.4057404813630394,
          0.4057404813630394,
          0.4057404813630394,
          0.4057404813630394,
          0.4057404813630394,
          0.4057404813630394,
          0.4057404813630394,
          0.4057404813630394,
          0.4057404813630394,
          0.4057404813630394,
          0.4057404813630394,
          0.4057404813630394,
          0.4057404813630394,
          0.4057404813630394,
          0.4057404813630394,
          0.4057404813630394,
          0.4057404813630394,
          0.4057404813630394,
          0.4057404813630394,
          0.4057404813630394,
          0.4057404813630394,
          0.4057404813630394,
          0.40625516176954746,
          0.4066781479384753,
          0.4066781479384753,
          0.4066781479384753,
          0.4066781479384753,
          0.4066781479384753,
          0.4066781479384753,
          0.4066781479384753,
          0.4066781479384753,
          0.4066781479384753,
          0.4066781479384753,
          0.4066781479384753,
          0.4066781479384753,
          0.40685246182363766,
          0.40685246182363766,
          0.40685246182363766,
          0.40685246182363766
         ]
        },
        {
         "marker": {
          "color": "#cccccc"
         },
         "mode": "markers",
         "name": "Infeasible Trial",
         "showlegend": false,
         "type": "scatter",
         "x": [],
         "y": []
        }
       ],
       "layout": {
        "template": {
         "data": {
          "bar": [
           {
            "error_x": {
             "color": "#2a3f5f"
            },
            "error_y": {
             "color": "#2a3f5f"
            },
            "marker": {
             "line": {
              "color": "#E5ECF6",
              "width": 0.5
             },
             "pattern": {
              "fillmode": "overlay",
              "size": 10,
              "solidity": 0.2
             }
            },
            "type": "bar"
           }
          ],
          "barpolar": [
           {
            "marker": {
             "line": {
              "color": "#E5ECF6",
              "width": 0.5
             },
             "pattern": {
              "fillmode": "overlay",
              "size": 10,
              "solidity": 0.2
             }
            },
            "type": "barpolar"
           }
          ],
          "carpet": [
           {
            "aaxis": {
             "endlinecolor": "#2a3f5f",
             "gridcolor": "white",
             "linecolor": "white",
             "minorgridcolor": "white",
             "startlinecolor": "#2a3f5f"
            },
            "baxis": {
             "endlinecolor": "#2a3f5f",
             "gridcolor": "white",
             "linecolor": "white",
             "minorgridcolor": "white",
             "startlinecolor": "#2a3f5f"
            },
            "type": "carpet"
           }
          ],
          "choropleth": [
           {
            "colorbar": {
             "outlinewidth": 0,
             "ticks": ""
            },
            "type": "choropleth"
           }
          ],
          "contour": [
           {
            "colorbar": {
             "outlinewidth": 0,
             "ticks": ""
            },
            "colorscale": [
             [
              0,
              "#0d0887"
             ],
             [
              0.1111111111111111,
              "#46039f"
             ],
             [
              0.2222222222222222,
              "#7201a8"
             ],
             [
              0.3333333333333333,
              "#9c179e"
             ],
             [
              0.4444444444444444,
              "#bd3786"
             ],
             [
              0.5555555555555556,
              "#d8576b"
             ],
             [
              0.6666666666666666,
              "#ed7953"
             ],
             [
              0.7777777777777778,
              "#fb9f3a"
             ],
             [
              0.8888888888888888,
              "#fdca26"
             ],
             [
              1,
              "#f0f921"
             ]
            ],
            "type": "contour"
           }
          ],
          "contourcarpet": [
           {
            "colorbar": {
             "outlinewidth": 0,
             "ticks": ""
            },
            "type": "contourcarpet"
           }
          ],
          "heatmap": [
           {
            "colorbar": {
             "outlinewidth": 0,
             "ticks": ""
            },
            "colorscale": [
             [
              0,
              "#0d0887"
             ],
             [
              0.1111111111111111,
              "#46039f"
             ],
             [
              0.2222222222222222,
              "#7201a8"
             ],
             [
              0.3333333333333333,
              "#9c179e"
             ],
             [
              0.4444444444444444,
              "#bd3786"
             ],
             [
              0.5555555555555556,
              "#d8576b"
             ],
             [
              0.6666666666666666,
              "#ed7953"
             ],
             [
              0.7777777777777778,
              "#fb9f3a"
             ],
             [
              0.8888888888888888,
              "#fdca26"
             ],
             [
              1,
              "#f0f921"
             ]
            ],
            "type": "heatmap"
           }
          ],
          "heatmapgl": [
           {
            "colorbar": {
             "outlinewidth": 0,
             "ticks": ""
            },
            "colorscale": [
             [
              0,
              "#0d0887"
             ],
             [
              0.1111111111111111,
              "#46039f"
             ],
             [
              0.2222222222222222,
              "#7201a8"
             ],
             [
              0.3333333333333333,
              "#9c179e"
             ],
             [
              0.4444444444444444,
              "#bd3786"
             ],
             [
              0.5555555555555556,
              "#d8576b"
             ],
             [
              0.6666666666666666,
              "#ed7953"
             ],
             [
              0.7777777777777778,
              "#fb9f3a"
             ],
             [
              0.8888888888888888,
              "#fdca26"
             ],
             [
              1,
              "#f0f921"
             ]
            ],
            "type": "heatmapgl"
           }
          ],
          "histogram": [
           {
            "marker": {
             "pattern": {
              "fillmode": "overlay",
              "size": 10,
              "solidity": 0.2
             }
            },
            "type": "histogram"
           }
          ],
          "histogram2d": [
           {
            "colorbar": {
             "outlinewidth": 0,
             "ticks": ""
            },
            "colorscale": [
             [
              0,
              "#0d0887"
             ],
             [
              0.1111111111111111,
              "#46039f"
             ],
             [
              0.2222222222222222,
              "#7201a8"
             ],
             [
              0.3333333333333333,
              "#9c179e"
             ],
             [
              0.4444444444444444,
              "#bd3786"
             ],
             [
              0.5555555555555556,
              "#d8576b"
             ],
             [
              0.6666666666666666,
              "#ed7953"
             ],
             [
              0.7777777777777778,
              "#fb9f3a"
             ],
             [
              0.8888888888888888,
              "#fdca26"
             ],
             [
              1,
              "#f0f921"
             ]
            ],
            "type": "histogram2d"
           }
          ],
          "histogram2dcontour": [
           {
            "colorbar": {
             "outlinewidth": 0,
             "ticks": ""
            },
            "colorscale": [
             [
              0,
              "#0d0887"
             ],
             [
              0.1111111111111111,
              "#46039f"
             ],
             [
              0.2222222222222222,
              "#7201a8"
             ],
             [
              0.3333333333333333,
              "#9c179e"
             ],
             [
              0.4444444444444444,
              "#bd3786"
             ],
             [
              0.5555555555555556,
              "#d8576b"
             ],
             [
              0.6666666666666666,
              "#ed7953"
             ],
             [
              0.7777777777777778,
              "#fb9f3a"
             ],
             [
              0.8888888888888888,
              "#fdca26"
             ],
             [
              1,
              "#f0f921"
             ]
            ],
            "type": "histogram2dcontour"
           }
          ],
          "mesh3d": [
           {
            "colorbar": {
             "outlinewidth": 0,
             "ticks": ""
            },
            "type": "mesh3d"
           }
          ],
          "parcoords": [
           {
            "line": {
             "colorbar": {
              "outlinewidth": 0,
              "ticks": ""
             }
            },
            "type": "parcoords"
           }
          ],
          "pie": [
           {
            "automargin": true,
            "type": "pie"
           }
          ],
          "scatter": [
           {
            "fillpattern": {
             "fillmode": "overlay",
             "size": 10,
             "solidity": 0.2
            },
            "type": "scatter"
           }
          ],
          "scatter3d": [
           {
            "line": {
             "colorbar": {
              "outlinewidth": 0,
              "ticks": ""
             }
            },
            "marker": {
             "colorbar": {
              "outlinewidth": 0,
              "ticks": ""
             }
            },
            "type": "scatter3d"
           }
          ],
          "scattercarpet": [
           {
            "marker": {
             "colorbar": {
              "outlinewidth": 0,
              "ticks": ""
             }
            },
            "type": "scattercarpet"
           }
          ],
          "scattergeo": [
           {
            "marker": {
             "colorbar": {
              "outlinewidth": 0,
              "ticks": ""
             }
            },
            "type": "scattergeo"
           }
          ],
          "scattergl": [
           {
            "marker": {
             "colorbar": {
              "outlinewidth": 0,
              "ticks": ""
             }
            },
            "type": "scattergl"
           }
          ],
          "scattermapbox": [
           {
            "marker": {
             "colorbar": {
              "outlinewidth": 0,
              "ticks": ""
             }
            },
            "type": "scattermapbox"
           }
          ],
          "scatterpolar": [
           {
            "marker": {
             "colorbar": {
              "outlinewidth": 0,
              "ticks": ""
             }
            },
            "type": "scatterpolar"
           }
          ],
          "scatterpolargl": [
           {
            "marker": {
             "colorbar": {
              "outlinewidth": 0,
              "ticks": ""
             }
            },
            "type": "scatterpolargl"
           }
          ],
          "scatterternary": [
           {
            "marker": {
             "colorbar": {
              "outlinewidth": 0,
              "ticks": ""
             }
            },
            "type": "scatterternary"
           }
          ],
          "surface": [
           {
            "colorbar": {
             "outlinewidth": 0,
             "ticks": ""
            },
            "colorscale": [
             [
              0,
              "#0d0887"
             ],
             [
              0.1111111111111111,
              "#46039f"
             ],
             [
              0.2222222222222222,
              "#7201a8"
             ],
             [
              0.3333333333333333,
              "#9c179e"
             ],
             [
              0.4444444444444444,
              "#bd3786"
             ],
             [
              0.5555555555555556,
              "#d8576b"
             ],
             [
              0.6666666666666666,
              "#ed7953"
             ],
             [
              0.7777777777777778,
              "#fb9f3a"
             ],
             [
              0.8888888888888888,
              "#fdca26"
             ],
             [
              1,
              "#f0f921"
             ]
            ],
            "type": "surface"
           }
          ],
          "table": [
           {
            "cells": {
             "fill": {
              "color": "#EBF0F8"
             },
             "line": {
              "color": "white"
             }
            },
            "header": {
             "fill": {
              "color": "#C8D4E3"
             },
             "line": {
              "color": "white"
             }
            },
            "type": "table"
           }
          ]
         },
         "layout": {
          "annotationdefaults": {
           "arrowcolor": "#2a3f5f",
           "arrowhead": 0,
           "arrowwidth": 1
          },
          "autotypenumbers": "strict",
          "coloraxis": {
           "colorbar": {
            "outlinewidth": 0,
            "ticks": ""
           }
          },
          "colorscale": {
           "diverging": [
            [
             0,
             "#8e0152"
            ],
            [
             0.1,
             "#c51b7d"
            ],
            [
             0.2,
             "#de77ae"
            ],
            [
             0.3,
             "#f1b6da"
            ],
            [
             0.4,
             "#fde0ef"
            ],
            [
             0.5,
             "#f7f7f7"
            ],
            [
             0.6,
             "#e6f5d0"
            ],
            [
             0.7,
             "#b8e186"
            ],
            [
             0.8,
             "#7fbc41"
            ],
            [
             0.9,
             "#4d9221"
            ],
            [
             1,
             "#276419"
            ]
           ],
           "sequential": [
            [
             0,
             "#0d0887"
            ],
            [
             0.1111111111111111,
             "#46039f"
            ],
            [
             0.2222222222222222,
             "#7201a8"
            ],
            [
             0.3333333333333333,
             "#9c179e"
            ],
            [
             0.4444444444444444,
             "#bd3786"
            ],
            [
             0.5555555555555556,
             "#d8576b"
            ],
            [
             0.6666666666666666,
             "#ed7953"
            ],
            [
             0.7777777777777778,
             "#fb9f3a"
            ],
            [
             0.8888888888888888,
             "#fdca26"
            ],
            [
             1,
             "#f0f921"
            ]
           ],
           "sequentialminus": [
            [
             0,
             "#0d0887"
            ],
            [
             0.1111111111111111,
             "#46039f"
            ],
            [
             0.2222222222222222,
             "#7201a8"
            ],
            [
             0.3333333333333333,
             "#9c179e"
            ],
            [
             0.4444444444444444,
             "#bd3786"
            ],
            [
             0.5555555555555556,
             "#d8576b"
            ],
            [
             0.6666666666666666,
             "#ed7953"
            ],
            [
             0.7777777777777778,
             "#fb9f3a"
            ],
            [
             0.8888888888888888,
             "#fdca26"
            ],
            [
             1,
             "#f0f921"
            ]
           ]
          },
          "colorway": [
           "#636efa",
           "#EF553B",
           "#00cc96",
           "#ab63fa",
           "#FFA15A",
           "#19d3f3",
           "#FF6692",
           "#B6E880",
           "#FF97FF",
           "#FECB52"
          ],
          "font": {
           "color": "#2a3f5f"
          },
          "geo": {
           "bgcolor": "white",
           "lakecolor": "white",
           "landcolor": "#E5ECF6",
           "showlakes": true,
           "showland": true,
           "subunitcolor": "white"
          },
          "hoverlabel": {
           "align": "left"
          },
          "hovermode": "closest",
          "mapbox": {
           "style": "light"
          },
          "paper_bgcolor": "white",
          "plot_bgcolor": "#E5ECF6",
          "polar": {
           "angularaxis": {
            "gridcolor": "white",
            "linecolor": "white",
            "ticks": ""
           },
           "bgcolor": "#E5ECF6",
           "radialaxis": {
            "gridcolor": "white",
            "linecolor": "white",
            "ticks": ""
           }
          },
          "scene": {
           "xaxis": {
            "backgroundcolor": "#E5ECF6",
            "gridcolor": "white",
            "gridwidth": 2,
            "linecolor": "white",
            "showbackground": true,
            "ticks": "",
            "zerolinecolor": "white"
           },
           "yaxis": {
            "backgroundcolor": "#E5ECF6",
            "gridcolor": "white",
            "gridwidth": 2,
            "linecolor": "white",
            "showbackground": true,
            "ticks": "",
            "zerolinecolor": "white"
           },
           "zaxis": {
            "backgroundcolor": "#E5ECF6",
            "gridcolor": "white",
            "gridwidth": 2,
            "linecolor": "white",
            "showbackground": true,
            "ticks": "",
            "zerolinecolor": "white"
           }
          },
          "shapedefaults": {
           "line": {
            "color": "#2a3f5f"
           }
          },
          "ternary": {
           "aaxis": {
            "gridcolor": "white",
            "linecolor": "white",
            "ticks": ""
           },
           "baxis": {
            "gridcolor": "white",
            "linecolor": "white",
            "ticks": ""
           },
           "bgcolor": "#E5ECF6",
           "caxis": {
            "gridcolor": "white",
            "linecolor": "white",
            "ticks": ""
           }
          },
          "title": {
           "x": 0.05
          },
          "xaxis": {
           "automargin": true,
           "gridcolor": "white",
           "linecolor": "white",
           "ticks": "",
           "title": {
            "standoff": 15
           },
           "zerolinecolor": "white",
           "zerolinewidth": 2
          },
          "yaxis": {
           "automargin": true,
           "gridcolor": "white",
           "linecolor": "white",
           "ticks": "",
           "title": {
            "standoff": 15
           },
           "zerolinecolor": "white",
           "zerolinewidth": 2
          }
         }
        },
        "title": {
         "text": "Optimization History Plot"
        },
        "xaxis": {
         "title": {
          "text": "Trial"
         }
        },
        "yaxis": {
         "title": {
          "text": "Objective Value"
         }
        }
       }
      }
     },
     "metadata": {},
     "output_type": "display_data"
    }
   ],
   "source": [
    "plot_optimization_history(study)"
   ]
  },
  {
   "cell_type": "markdown",
   "metadata": {},
   "source": [
    "The exploration of a narrower hyperparameter space leads to a more consistent increase in performance over trials."
   ]
  },
  {
   "cell_type": "code",
   "execution_count": null,
   "metadata": {},
   "outputs": [
    {
     "name": "stdout",
     "output_type": "stream",
     "text": [
      "Training until validation scores don't improve for 10 rounds\n",
      "Early stopping, best iteration is:\n",
      "[107]\tvalid_0's auc: 0.888506\tvalid_0's binary_logloss: 0.415912\n"
     ]
    },
    {
     "name": "stderr",
     "output_type": "stream",
     "text": [
      "2025/10/10 16:02:38 WARNING mlflow.utils.requirements_utils: Found lz4 version (3.1.3+dfsg) contains a local version label (+dfsg). MLflow logged a pip requirement for this package as 'lz4==3.1.3' without the local version label to make it installable from PyPI. To specify pip requirements containing local version labels, please use `conda_env` or `pip_requirements`.\n"
     ]
    },
    {
     "name": "stdout",
     "output_type": "stream",
     "text": [
      "The model is able to predict future heart attacks with:\n",
      "- a precision of 44.15%\n",
      "- a recall of 51.04%\n",
      "- a F1 score of 47.35%\n"
     ]
    }
   ],
   "source": [
    "final_model = LGBMClassifier(\n",
    "    **study.best_params, n_estimators=1000, n_jobs=-2, class_weight=\"balanced\"\n",
    ")\n",
    "mlflow.set_tracking_uri(\"sqlite:///heart_disease.db\")\n",
    "mlflow.set_experiment(\"Optimize GBM\")\n",
    "with mlflow.start_run() as run:\n",
    "    final_model.fit(\n",
    "        X_train,\n",
    "        y_train,\n",
    "        eval_set=[(X_test, y_test)],\n",
    "        eval_metric=\"auc\",\n",
    "        callbacks=[lgb.early_stopping(10)],\n",
    "    )\n",
    "    y_proba_pred = final_model.predict_proba(X_test)[:, 1]\n",
    "    mlflow.log_params({\"model\": \"Boost\", \"loss\": \"BCE\", **study.best_params})\n",
    "    mlflow.log_metric(\n",
    "        \"average_precision\", average_precision_score(y_test, y_proba_pred)\n",
    "    )\n",
    "    mlflow.lightgbm.log_model(\n",
    "        lgb_model=final_model,\n",
    "        input_example=X_test.astype(\"float\"),\n",
    "        artifact_path=\"boosting_final_model\",\n",
    "    )\n",
    "precisions, recalls, thr = precision_recall_curve(y_test, y_proba_pred)\n",
    "f1s = [2 / ((1 / r) + (1 / pr)) for r, pr in zip(recalls, precisions)]\n",
    "print(\"The model is able to predict future heart attacks with:\")\n",
    "print(f\"- a precision of {precisions[np.argmax(f1s)]*100:.2f}%\")\n",
    "print(f\"- a recall of {recalls[np.argmax(f1s)]*100:.2f}%\")\n",
    "print(f\"- a F1 score of {np.max(f1s)*100:.2f}%\")"
   ]
  },
  {
   "cell_type": "markdown",
   "metadata": {},
   "source": [
    "### Testing the effect of the `HadAngina` feature\n",
    "\n",
    "As previously stated, it is possible that the ` HadAngina` feature is a confounding variable, whose statistical relationship with the target is too strong, so that its inclusion in the set of feature might be a data leakage. To test this hypothesis, we proceed to the ablation of this feature while retraining the best model found so far."
   ]
  },
  {
   "cell_type": "code",
   "execution_count": null,
   "metadata": {},
   "outputs": [
    {
     "name": "stdout",
     "output_type": "stream",
     "text": [
      "Training until validation scores don't improve for 10 rounds\n",
      "Early stopping, best iteration is:\n",
      "[90]\tvalid_0's auc: 0.847511\tvalid_0's binary_logloss: 0.487969\n"
     ]
    },
    {
     "name": "stderr",
     "output_type": "stream",
     "text": [
      "2025/10/10 16:03:11 WARNING mlflow.utils.requirements_utils: Found lz4 version (3.1.3+dfsg) contains a local version label (+dfsg). MLflow logged a pip requirement for this package as 'lz4==3.1.3' without the local version label to make it installable from PyPI. To specify pip requirements containing local version labels, please use `conda_env` or `pip_requirements`.\n"
     ]
    },
    {
     "name": "stdout",
     "output_type": "stream",
     "text": [
      "When removing the feature `HadAngina`, the PR AUC of the model on the test set drops to 0.2694.\n",
      "When removing the feature `HadAngina`, the model is able to predict future heart attacks with:\n",
      "- a precision of 25.09%\n",
      "- a recall of 47.34%\n",
      "- a F1 score of 32.80%\n"
     ]
    }
   ],
   "source": [
    "final_model_no_angina = LGBMClassifier(\n",
    "    **study.best_params, n_estimators=1000, n_jobs=-2, class_weight=\"balanced\"\n",
    ")\n",
    "with mlflow.start_run() as run:\n",
    "    final_model_no_angina.fit(\n",
    "        X_train.drop(columns=\"HadAngina\"),\n",
    "        y_train,\n",
    "        eval_set=[(X_test.drop(columns=\"HadAngina\"), y_test)],\n",
    "        eval_metric=\"auc\",\n",
    "        callbacks=[lgb.early_stopping(10)],\n",
    "    )\n",
    "    y_proba_pred = final_model_no_angina.predict_proba(\n",
    "        X_test.drop(columns=\"HadAngina\")\n",
    "    )[:, 1]\n",
    "    mlflow.log_params(\n",
    "        {\"model\": \"Boost\", \"loss\": \"BCE\", \"HadAngina\": \"dropped\", **study.best_params}\n",
    "    )\n",
    "    score = average_precision_score(y_test, y_proba_pred)\n",
    "    mlflow.log_metric(\"average_precision\", score)\n",
    "    mlflow.lightgbm.log_model(\n",
    "        lgb_model=final_model_no_angina,\n",
    "        input_example=X_test.drop(columns=\"HadAngina\").astype(\"float\"),\n",
    "        artifact_path=\"boosting_final_model_no_angina\",\n",
    "    )\n",
    "    print(\n",
    "        f\"When removing the feature `HadAngina`, the PR AUC of the model on the test set drops to {score:.4f}.\"\n",
    "    )\n",
    "precisions, recalls, thr = precision_recall_curve(y_test, y_proba_pred)\n",
    "f1s = [2 / ((1 / r) + (1 / pr)) for r, pr in zip(recalls, precisions)]\n",
    "print(\n",
    "    \"When removing the feature `HadAngina`, the model is able to predict future heart attacks with:\"\n",
    ")\n",
    "print(f\"- a precision of {precisions[np.argmax(f1s)]*100:.2f}%\")\n",
    "print(f\"- a recall of {recalls[np.argmax(f1s)]*100:.2f}%\")\n",
    "print(f\"- a F1 score of {np.max(f1s)*100:.2f}%\")"
   ]
  },
  {
   "cell_type": "markdown",
   "metadata": {},
   "source": [
    "It seems that the feature `HadAngina` mostly has an effect on the precision of the model predictions: after the ablation, it drops from 44% to 25%, whereas the recall stays around 50%."
   ]
  },
  {
   "cell_type": "markdown",
   "metadata": {},
   "source": [
    "## Explainability"
   ]
  },
  {
   "cell_type": "markdown",
   "metadata": {},
   "source": [
    "We calculate Shapley values ​​to identify the most important features in the model's predictions. This explainability analysis is crucial because, even if the model's predictions are still far from perfect, it can help identify underestimated factors that may increase the likelihood of developing heart disease."
   ]
  },
  {
   "cell_type": "code",
   "execution_count": 27,
   "metadata": {},
   "outputs": [],
   "source": [
    "explainer = shap.Explainer(final_model)\n",
    "shap_values = explainer(X_train)"
   ]
  },
  {
   "cell_type": "code",
   "execution_count": 28,
   "metadata": {},
   "outputs": [
    {
     "data": {
      "image/png": "[encoded data removed]",
      "text/plain": [
       "<Figure size 576x468 with 1 Axes>"
      ]
     },
     "metadata": {},
     "output_type": "display_data"
    }
   ],
   "source": [
    "shap.plots.bar(shap_values)"
   ]
  },
  {
   "cell_type": "markdown",
   "metadata": {},
   "source": [
    "The features that appear to be most important in explaining the variation in the probability of a heart attack are:\n",
    "- demographics: age group and being male\n",
    "- habits: alcohol consumption\n",
    "- comorbidities: diabetes, multiple tooth extractions (or no tooth extraction), general health\n",
    "- heart problems: suffering from angina or having a chest CT scan"
   ]
  },
  {
   "cell_type": "code",
   "execution_count": 29,
   "metadata": {},
   "outputs": [
    {
     "data": {
      "image/png": "[encoded data removed]",
      "text/plain": [
       "<Figure size 576x684 with 2 Axes>"
      ]
     },
     "metadata": {
      "needs_background": "light"
     },
     "output_type": "display_data"
    }
   ],
   "source": [
    "shap.summary_plot(shap_values, X_train)"
   ]
  },
  {
   "cell_type": "markdown",
   "metadata": {},
   "source": [
    "The figure above illustrates the relationship between the values ​​of several features and the probability of developing heart disease predicted by the model. Most of the features listed in this figure have a monotonic effect, and most of the Shapley values ​​are consistent with effects already observed in the medical literature:\n",
    "- The risk of heart attack increases with age and is higher in people with age-related diseases (e.g., diabetes, arthritis) or cardiovascular diseases (e.g., angina, stroke, or a recent chest CT scan).\n",
    "- Never having smoked tobacco has a protective effect, while tobacco-related COPD increases the risk.\n",
    "- The risk of heart attack is primarily associated with general health variables: it decreases in people with a high general health score and who have never had a tooth extracted, while it increases in those who have had multiple tooth extractions and have difficulty walking.\n",
    "- Surprisingly, Shapley values ​​are negative for alcohol drinkers, suggesting that alcohol consumption would be associated with a lower risk of heart attack (which is in complete contradiction with the scientific and medical consensus). Moreover, the effect of body weight is not monotonic and appears difficult to interpret globally. These results suggests some caution in interpreting our model, especially since it still has relatively high false positive and false negative rates on the test dataset."
   ]
  },
  {
   "cell_type": "markdown",
   "metadata": {},
   "source": [
    "We can also try to focus on a few individual cases to see how the features impact the overall prediction of the model."
   ]
  },
  {
   "cell_type": "code",
   "execution_count": 33,
   "metadata": {},
   "outputs": [
    {
     "data": {
      "image/png": "[encoded data removed]",
      "text/plain": [
       "<Figure size 576x468 with 3 Axes>"
      ]
     },
     "metadata": {},
     "output_type": "display_data"
    }
   ],
   "source": [
    "shap.plots.waterfall(uu.convert_shap_logit(shap_values[0]))"
   ]
  },
  {
   "cell_type": "markdown",
   "metadata": {},
   "source": [
    "In this person's case, the model estimates a relatively moderate risk of heart attack (logit = 0.138, corresponding to a probability of 0.534). Starting with a baseline logit risk of 0.226 (corresponding to a probability of 0.556), the patient benefits from the protective effects of good general health, young age, the absence of angina or chest scans, being female, and relatively high body mass. However, her risk of heart attack increases due to her difficulty walking, history of tooth extraction, and non-alcohol consumption."
   ]
  },
  {
   "cell_type": "code",
   "execution_count": 34,
   "metadata": {},
   "outputs": [
    {
     "data": {
      "image/png": "[encoded data removed]",
      "text/plain": [
       "<Figure size 576x468 with 3 Axes>"
      ]
     },
     "metadata": {},
     "output_type": "display_data"
    }
   ],
   "source": [
    "shap.plots.waterfall(uu.convert_shap_logit(shap_values[100]))"
   ]
  },
  {
   "cell_type": "markdown",
   "metadata": {},
   "source": [
    "In this person's case, the model estimates a relatively higher risk of heart attack (logit = 0.302, corresponding to a probability of 0.575). From the same starting point, the patient benefits from the protective effects of good general health, the absence of angina or chest CT scans, and being a woman. However, her risk of heart attack increases slightly because she does not drink alcohol, has arthritis, and has not recently received a flu shot, but it increases mainly because of her relatively old age."
   ]
  }
 ],
 "metadata": {
  "kernelspec": {
   "display_name": "Python 3",
   "language": "python",
   "name": "python3"
  },
  "language_info": {
   "codemirror_mode": {
    "name": "ipython",
    "version": 3
   },
   "file_extension": ".py",
   "mimetype": "text/x-python",
   "name": "python",
   "nbconvert_exporter": "python",
   "pygments_lexer": "ipython3",
   "version": "3.10.12"
  }
 },
 "nbformat": 4,
 "nbformat_minor": 2
}
